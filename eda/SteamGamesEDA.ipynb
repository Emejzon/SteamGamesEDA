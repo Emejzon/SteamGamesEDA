{
 "cells": [
  {
   "cell_type": "markdown",
   "metadata": {},
   "source": [
    "### Steam Games Exploratory data analysis\n",
    "**Author:** Jan Chudy"
   ]
  },
  {
   "cell_type": "markdown",
   "metadata": {},
   "source": [
    "## Introduction\n",
    "This end-to-end data science project is the final assignment for a Data Science course at Milwaukee School of Engineering. In this project, we will explore real-world data which contains information about video games published on Steam - Digital distribution platform developed by Valve Corporation. \n",
    "\n",
    "We will go through the basic process of data science and explore this particular data in the following sections.\n",
    "\n",
    "### References:\n",
    "* <a href=\"https://data.world/craigkelly/steam-game-data\">Steam Game Data [dataset]</a> by Craig Kelly\n",
    "* <a href=\"https://github.com/jayurbain/DataScienceIntro\">Introduction to Data Science</a> by Jay Urbrain, Ph.D.\n",
    "* <a href=\"https://www.analyticsvidhya.com/blog/2016/01/guide-data-exploration/\">A Comprehensive Guide to Data Exploration</a> by Sunil Ray\n"
   ]
  },
  {
   "cell_type": "markdown",
   "metadata": {},
   "source": [
    "## Hypothesis\n",
    "First of all, we need to get our hypotheses ready. Here are some questions we will try to answer and problems we will try to solve:\n",
    "* **Do Free-To-Play games have more DLCs?**\n",
    "    * Free games, in order to make a profit, could have more paid DLCs than games that are not free-to-play. Of course, there are other methods (e.g. Microtransactions) which could be more preferable among free-to-play games.\n",
    "    * After a brief search on Steam, we can see that paid DLCs are pretty common among the bigger free-to-play games (extensions packs, collector packs...).\n",
    "    * **Hypothesis 1:** Free-to-Play games have on average more DLCs than paid games.\n",
    "* **Examine increase in games that support VR according to time**\n",
    "    * We could see a rise in popularity of VR games in recent years. How many games with VR support have been released? Can we see a significant increase in this type of games?\n",
    "    * **Hypothesis 2:** Each year the number of games with VR support being released increases.\n",
    "* **Examine game rating averages in time.**\n",
    "    * **Hypothesis 3:** Overall rating averages are decreasing over time.\n",
    "* **What features contribute to a game's rating and can we predict it?** **[TODO - this is a bad choice for prediction model]**\n",
    "\n",
    "Besides these questions, we will also try to take as many observations as we can to understand this data better."
   ]
  },
  {
   "cell_type": "markdown",
   "metadata": {},
   "source": [
    "## Dataset\n",
    "For this Data Science project, we will use a dataset created by Craig Kelly, that contains 13357 steam games (unfortunately with some duplicates). The dataset was created at the end of the year 2016.\n",
    "\n",
    "### Information\n",
    "**Name**: Steam Game Data<br>\n",
    "**Author**: <a href=\"https://data.world/craigkelly\">Craig Kelly</a><br>\n",
    "**Data Source**: Combination of data from publicly available Steam API's and steamspy.com<br>\n",
    "**Links**:\n",
    "* Dataset available on <a href=\"https://data.world/craigkelly/steam-game-data\">data.world</a> (with details)\n",
    "* Full details on <a href=\"https://github.com/CraigKelly/steam-data\">GitHub</a> \n",
    "\n",
    "### Attributes\n",
    "* **QueryID** - (Integer) The original ID\n",
    "* **ResponseID** - (Integer) The ID returned in the Steam response (should equal QueryID)\n",
    "* **QueryName** - (Text) The original name\n",
    "* **ResponseName** - (Text) The name returned in the Steam response (should equal QueryName)\n",
    "* **ReleaseDate** - (Text) Appears to the be the initial release date for the game\n",
    "* **RequiredAge** - (Integer) required age for the game\n",
    "* **DemoCount** - (TextualCount) number of demos\n",
    "* **DeveloperCount** - (TextualCount) number of developers\n",
    "* **DLCCount** - (TextualCount) number of DLCs\n",
    "* **Metacritic** - (Integer) numeric score from metacritic\n",
    "* **MovieCount** - (TextualCount) number of videos on Store Page\n",
    "* **PackageCount** - (TextualCount) number of bundles the game occurs in\n",
    "* **RecommendationCount** - (Integer) number of recomendations\n",
    "* **PublisherCount** - (TextualCount) number of publishers\n",
    "* **ScreenshotCount** - (TextualCount) number of screenshots on Store Page\n",
    "* **AchievementCount** - (Integer) number of achievements\n",
    "* **AchievementHighlightedCount** - (TextualCount) number of highlighted achievements\n",
    "* **ControllerSupport** - (Boolean) True if the game has full controller support\n",
    "* **IsFree** - (Boolean) True if the game is free\n",
    "* **FreeVerAvail** - (Boolean) True the game has a free version\n",
    "* **PurchaseAvail** - (Boolean) True if game cost more than 0 cents with discounts\n",
    "* **SubscriptionAvail** - (Boolean) True if the game has a recurring subscription option\n",
    "* **PlatformWindows** - (Boolean) True if Windows platform is supported\n",
    "* **PlatformLinux** - (Boolean) True if Linux platform is supported\n",
    "* **PlatformMac** - (Boolean) True if Mac platform is supported\n",
    "* **PCReqsHaveMin** - (Boolean) True if PC minimal requirements are available\n",
    "* **PCReqsHaveRec** - (Boolean) True if PC recommended requirements are available\n",
    "* **LinuxReqsHaveMin** - (Boolean) True if Linux minimal requirements are available\n",
    "* **LinuxReqsHaveRec** - (Boolean) True if Linux recommended requirements are available\n",
    "* **MacReqsHaveMin** - (Boolean) True if Mac minimal requirements are available\n",
    "* **MacReqsHaveRec** - (Boolean) True if Mac recommended requirements are available\n",
    "* **CategorySinglePlayer** - (Boolean) True if category is Singleplayer\n",
    "* **CategoryMultiplayer** - (Boolean) True if category is Cross-platform multiplayer/Local multi-player/Multi-player/Online multi-player/Shared screen/Split screen\n",
    "* **CategoryCoop** - (Boolean) True if category is Co-op/Local co-op/Online co-op\n",
    "* **CategoryMMO** - (Boolean) True if category is MMO\n",
    "* **CategoryInAppPurchase** - (Boolean) True if game has in-app purchases\n",
    "* **CategoryIncludeSrcSDK** - (Boolean) True if game includes source sdk\n",
    "* **CategoryIncludeLevelEditor** - (Boolean) True if game includes level editor\n",
    "* **CategoryVRSupport** - (Boolean) True if game has VR support\n",
    "* **GenreIsNonGame** - (Boolean) True if genre is Utilities/Design & illustration/Animation & modeling/Software training/Education/Audio production/Video production/Web publishing/Photo editing/Accounting\n",
    "* **GenreIsIndie** - (Boolean) True if genre is indie\n",
    "* **GenreIsAction** - (Boolean) True if genre is action\n",
    "* **GenreIsAdventure** - (Boolean) True if genre is adventure\n",
    "* **GenreIsCasual** - (Boolean) True if genre is casual\n",
    "* **GenreIsStrategy** - (Boolean) True if genre is strategy\n",
    "* **GenreIsRPG** - (Boolean) True if genre is rpg\n",
    "* **GenreIsSimulation** - (Boolean) True if genre is simulation\n",
    "* **GenreIsEarlyAccess** - (Boolean) True if genre is early access\n",
    "* **GenreIsFreeToPlay** - (Boolean) True if genre is free to play\n",
    "* **GenreIsSports** - (Boolean) True if genre is sports\n",
    "* **GenreIsRacing** - (Boolean) True if genre is racing\n",
    "* **GenreIsMassivelyMultiplayer** - (Boolean) True if genre is massively multiplayer\n",
    "* **PriceCurrency** - (Text) Currency of the price\n",
    "* **PriceInitial** - (Float) Initial price of the game\n",
    "* **PriceFinal** - (Float) Final price of the game\n",
    "* **SteamSpyOwners** - [steamspy.com] total owners, which includes free weekend trials and other possibly spurious numbers\n",
    "* **SteamSpyOwnersVariance** - [teamspy.com] total owners, which includes free weekend trials and other possibly spurious numbers. Note that this is not technically variance: according to steamspy.com, \"the real number... lies somewhere on... (value +/- variance)\"\n",
    "* **SteamSpyPlayersEstimate** - [steamspy.com] best estimate of total number of people who have played the game since March 2009\n",
    "* **SteamSpyPlayersVariance** - [steamspy.com] errors bounds on SteamSpyPlayersEstimate. Note that this is not technically variance: according to steamspy.com, \"the real number... lies somewhere on... (value +/- variance)\"\n",
    "* **SupportEmail** - (Textual) Support email address\n",
    "* **SupportURL** - (Textual) Support URL\n",
    "* **AboutText** - (Textual) About text\n",
    "* **Background** - (Textual) Background of the game\n",
    "* **ShortDescrip** - (Textual) Short description of the game\n",
    "* **DetailedDescrip** - (Textual) Detailed description of the game\n",
    "* **DRMNotice** - (Textual) Digital rights management notice\n",
    "* **ExtUserAcctNotice** - (Textual) ext_user_account_notice in JSON\n",
    "* **HeaderImage** - (Textual) Header image\n",
    "* **LegalNotice** - (Textual) Legal notice\n",
    "* **Reviews** - (Textual) Reviews\n",
    "* **SupportedLanguages** - (Textual) Supported langiages in the game\n",
    "* **Website** - (Textual) Game website\n",
    "* **PCMinReqsText** - (Textual) PC minimal requirements\n",
    "* **PCRecReqsText** - (Textual) PC recommended requirements\n",
    "* **LinuxMinReqsText** - (Textual) Linux minimal requirements\n",
    "* **LinuxRecReqsText** - (Textual) Linux recommended requirements\n",
    "* **MacMinReqsText** - (Textual) Mac minimal requirements\n",
    "* **MacRecReqsText** - (Textual) Mac recommended requirements"
   ]
  },
  {
   "cell_type": "markdown",
   "metadata": {},
   "source": [
    "## Data preprocessing\n",
    "In this section, we will look at the actual data closely and preprocess the data for our analysis and modeling. \n",
    "\n",
    "Let's include some libraries we will need."
   ]
  },
  {
   "cell_type": "code",
   "execution_count": 1,
   "metadata": {},
   "outputs": [],
   "source": [
    "%matplotlib inline \n",
    "\n",
    "import pandas as pd #import pandas\n",
    "import numpy as np #import numpy\n",
    "import scipy.stats as stats # statistical functions\n",
    "import matplotlib.pyplot as plt # set up plotting under plt\n",
    "import datetime as dt # date and time manipulation module\n",
    "import seaborn as sns # statistical data visualization\n",
    "\n",
    "# our helper functions from utils.py\n",
    "exec(compile(open(\"utils/utils.py\", \"rb\").read(), \"utils/utils.py\", 'exec'))\n",
    "\n",
    "#sets up pandas table display\n",
    "pd.set_option('display.max_columns', 100)\n",
    "pd.set_option('display.notebook_repr_html', True)"
   ]
  },
  {
   "cell_type": "markdown",
   "metadata": {},
   "source": [
    "We will read the dataset into pandas for easy manipulation. "
   ]
  },
  {
   "cell_type": "code",
   "execution_count": 2,
   "metadata": {
    "scrolled": true
   },
   "outputs": [
    {
     "name": "stdout",
     "output_type": "stream",
     "text": [
      "The shape of the dataset is (13357, 78).\n"
     ]
    },
    {
     "data": {
      "text/html": [
       "<div>\n",
       "<style scoped>\n",
       "    .dataframe tbody tr th:only-of-type {\n",
       "        vertical-align: middle;\n",
       "    }\n",
       "\n",
       "    .dataframe tbody tr th {\n",
       "        vertical-align: top;\n",
       "    }\n",
       "\n",
       "    .dataframe thead th {\n",
       "        text-align: right;\n",
       "    }\n",
       "</style>\n",
       "<table border=\"1\" class=\"dataframe\">\n",
       "  <thead>\n",
       "    <tr style=\"text-align: right;\">\n",
       "      <th></th>\n",
       "      <th>QueryID</th>\n",
       "      <th>ResponseID</th>\n",
       "      <th>QueryName</th>\n",
       "      <th>ResponseName</th>\n",
       "      <th>ReleaseDate</th>\n",
       "      <th>RequiredAge</th>\n",
       "      <th>DemoCount</th>\n",
       "      <th>DeveloperCount</th>\n",
       "      <th>DLCCount</th>\n",
       "      <th>Metacritic</th>\n",
       "      <th>MovieCount</th>\n",
       "      <th>PackageCount</th>\n",
       "      <th>RecommendationCount</th>\n",
       "      <th>PublisherCount</th>\n",
       "      <th>ScreenshotCount</th>\n",
       "      <th>SteamSpyOwners</th>\n",
       "      <th>SteamSpyOwnersVariance</th>\n",
       "      <th>SteamSpyPlayersEstimate</th>\n",
       "      <th>SteamSpyPlayersVariance</th>\n",
       "      <th>AchievementCount</th>\n",
       "      <th>AchievementHighlightedCount</th>\n",
       "      <th>ControllerSupport</th>\n",
       "      <th>IsFree</th>\n",
       "      <th>FreeVerAvail</th>\n",
       "      <th>PurchaseAvail</th>\n",
       "      <th>SubscriptionAvail</th>\n",
       "      <th>PlatformWindows</th>\n",
       "      <th>PlatformLinux</th>\n",
       "      <th>PlatformMac</th>\n",
       "      <th>PCReqsHaveMin</th>\n",
       "      <th>PCReqsHaveRec</th>\n",
       "      <th>LinuxReqsHaveMin</th>\n",
       "      <th>LinuxReqsHaveRec</th>\n",
       "      <th>MacReqsHaveMin</th>\n",
       "      <th>MacReqsHaveRec</th>\n",
       "      <th>CategorySinglePlayer</th>\n",
       "      <th>CategoryMultiplayer</th>\n",
       "      <th>CategoryCoop</th>\n",
       "      <th>CategoryMMO</th>\n",
       "      <th>CategoryInAppPurchase</th>\n",
       "      <th>CategoryIncludeSrcSDK</th>\n",
       "      <th>CategoryIncludeLevelEditor</th>\n",
       "      <th>CategoryVRSupport</th>\n",
       "      <th>GenreIsNonGame</th>\n",
       "      <th>GenreIsIndie</th>\n",
       "      <th>GenreIsAction</th>\n",
       "      <th>GenreIsAdventure</th>\n",
       "      <th>GenreIsCasual</th>\n",
       "      <th>GenreIsStrategy</th>\n",
       "      <th>GenreIsRPG</th>\n",
       "      <th>GenreIsSimulation</th>\n",
       "      <th>GenreIsEarlyAccess</th>\n",
       "      <th>GenreIsFreeToPlay</th>\n",
       "      <th>GenreIsSports</th>\n",
       "      <th>GenreIsRacing</th>\n",
       "      <th>GenreIsMassivelyMultiplayer</th>\n",
       "      <th>PriceCurrency</th>\n",
       "      <th>PriceInitial</th>\n",
       "      <th>PriceFinal</th>\n",
       "      <th>SupportEmail</th>\n",
       "      <th>SupportURL</th>\n",
       "      <th>AboutText</th>\n",
       "      <th>Background</th>\n",
       "      <th>ShortDescrip</th>\n",
       "      <th>DetailedDescrip</th>\n",
       "      <th>DRMNotice</th>\n",
       "      <th>ExtUserAcctNotice</th>\n",
       "      <th>HeaderImage</th>\n",
       "      <th>LegalNotice</th>\n",
       "      <th>Reviews</th>\n",
       "      <th>SupportedLanguages</th>\n",
       "      <th>Website</th>\n",
       "      <th>PCMinReqsText</th>\n",
       "      <th>PCRecReqsText</th>\n",
       "      <th>LinuxMinReqsText</th>\n",
       "      <th>LinuxRecReqsText</th>\n",
       "      <th>MacMinReqsText</th>\n",
       "      <th>MacRecReqsText</th>\n",
       "    </tr>\n",
       "  </thead>\n",
       "  <tbody>\n",
       "    <tr>\n",
       "      <th>0</th>\n",
       "      <td>10</td>\n",
       "      <td>10</td>\n",
       "      <td>Counter-Strike</td>\n",
       "      <td>Counter-Strike</td>\n",
       "      <td>Nov 1 2000</td>\n",
       "      <td>0</td>\n",
       "      <td>0</td>\n",
       "      <td>1</td>\n",
       "      <td>0</td>\n",
       "      <td>88</td>\n",
       "      <td>0</td>\n",
       "      <td>1</td>\n",
       "      <td>68991</td>\n",
       "      <td>1</td>\n",
       "      <td>13</td>\n",
       "      <td>13033334</td>\n",
       "      <td>92789</td>\n",
       "      <td>9140731</td>\n",
       "      <td>78136</td>\n",
       "      <td>0</td>\n",
       "      <td>0</td>\n",
       "      <td>False</td>\n",
       "      <td>False</td>\n",
       "      <td>False</td>\n",
       "      <td>True</td>\n",
       "      <td>False</td>\n",
       "      <td>True</td>\n",
       "      <td>True</td>\n",
       "      <td>True</td>\n",
       "      <td>True</td>\n",
       "      <td>False</td>\n",
       "      <td>True</td>\n",
       "      <td>False</td>\n",
       "      <td>True</td>\n",
       "      <td>False</td>\n",
       "      <td>False</td>\n",
       "      <td>True</td>\n",
       "      <td>False</td>\n",
       "      <td>False</td>\n",
       "      <td>False</td>\n",
       "      <td>False</td>\n",
       "      <td>False</td>\n",
       "      <td>False</td>\n",
       "      <td>False</td>\n",
       "      <td>False</td>\n",
       "      <td>True</td>\n",
       "      <td>False</td>\n",
       "      <td>False</td>\n",
       "      <td>False</td>\n",
       "      <td>False</td>\n",
       "      <td>False</td>\n",
       "      <td>False</td>\n",
       "      <td>False</td>\n",
       "      <td>False</td>\n",
       "      <td>False</td>\n",
       "      <td>False</td>\n",
       "      <td>USD</td>\n",
       "      <td>9.99</td>\n",
       "      <td>9.99</td>\n",
       "      <td></td>\n",
       "      <td>http://steamcommunity.com/app/10</td>\n",
       "      <td>Play the worlds number 1 online action game. E...</td>\n",
       "      <td>http://cdn.akamai.steamstatic.com/steam/apps/1...</td>\n",
       "      <td></td>\n",
       "      <td>Play the worlds number 1 online action game. E...</td>\n",
       "      <td></td>\n",
       "      <td></td>\n",
       "      <td>http://cdn.akamai.steamstatic.com/steam/apps/1...</td>\n",
       "      <td></td>\n",
       "      <td></td>\n",
       "      <td>English French German Italian Spanish Simplifi...</td>\n",
       "      <td>None</td>\n",
       "      <td>Minimum: 500 mhz processor 96mb ram 16mb video...</td>\n",
       "      <td></td>\n",
       "      <td>Minimum: Linux Ubuntu 12.04 Dual-core from Int...</td>\n",
       "      <td></td>\n",
       "      <td>Minimum: OS X  Snow Leopard 10.6.3 1GB RAM 4GB...</td>\n",
       "      <td></td>\n",
       "    </tr>\n",
       "    <tr>\n",
       "      <th>1</th>\n",
       "      <td>20</td>\n",
       "      <td>20</td>\n",
       "      <td>Team Fortress Classic</td>\n",
       "      <td>Team Fortress Classic</td>\n",
       "      <td>Apr 1 1999</td>\n",
       "      <td>0</td>\n",
       "      <td>0</td>\n",
       "      <td>1</td>\n",
       "      <td>0</td>\n",
       "      <td>0</td>\n",
       "      <td>0</td>\n",
       "      <td>1</td>\n",
       "      <td>2439</td>\n",
       "      <td>1</td>\n",
       "      <td>5</td>\n",
       "      <td>5399140</td>\n",
       "      <td>60368</td>\n",
       "      <td>753627</td>\n",
       "      <td>22699</td>\n",
       "      <td>0</td>\n",
       "      <td>0</td>\n",
       "      <td>False</td>\n",
       "      <td>False</td>\n",
       "      <td>False</td>\n",
       "      <td>True</td>\n",
       "      <td>False</td>\n",
       "      <td>True</td>\n",
       "      <td>True</td>\n",
       "      <td>True</td>\n",
       "      <td>True</td>\n",
       "      <td>False</td>\n",
       "      <td>True</td>\n",
       "      <td>False</td>\n",
       "      <td>True</td>\n",
       "      <td>False</td>\n",
       "      <td>False</td>\n",
       "      <td>True</td>\n",
       "      <td>False</td>\n",
       "      <td>False</td>\n",
       "      <td>False</td>\n",
       "      <td>False</td>\n",
       "      <td>False</td>\n",
       "      <td>False</td>\n",
       "      <td>False</td>\n",
       "      <td>False</td>\n",
       "      <td>True</td>\n",
       "      <td>False</td>\n",
       "      <td>False</td>\n",
       "      <td>False</td>\n",
       "      <td>False</td>\n",
       "      <td>False</td>\n",
       "      <td>False</td>\n",
       "      <td>False</td>\n",
       "      <td>False</td>\n",
       "      <td>False</td>\n",
       "      <td>False</td>\n",
       "      <td>USD</td>\n",
       "      <td>4.99</td>\n",
       "      <td>4.99</td>\n",
       "      <td></td>\n",
       "      <td></td>\n",
       "      <td>One of the most popular online action games of...</td>\n",
       "      <td>http://cdn.akamai.steamstatic.com/steam/apps/2...</td>\n",
       "      <td></td>\n",
       "      <td>One of the most popular online action games of...</td>\n",
       "      <td></td>\n",
       "      <td></td>\n",
       "      <td>http://cdn.akamai.steamstatic.com/steam/apps/2...</td>\n",
       "      <td></td>\n",
       "      <td></td>\n",
       "      <td>English French German Italian Spanish</td>\n",
       "      <td>None</td>\n",
       "      <td>Minimum: 500 mhz processor 96mb ram 16mb video...</td>\n",
       "      <td></td>\n",
       "      <td>Minimum: Linux Ubuntu 12.04 Dual-core from Int...</td>\n",
       "      <td></td>\n",
       "      <td>Minimum: OS X  Snow Leopard 10.6.3 1GB RAM 4GB...</td>\n",
       "      <td></td>\n",
       "    </tr>\n",
       "    <tr>\n",
       "      <th>2</th>\n",
       "      <td>30</td>\n",
       "      <td>30</td>\n",
       "      <td>Day of Defeat</td>\n",
       "      <td>Day of Defeat</td>\n",
       "      <td>May 1 2003</td>\n",
       "      <td>0</td>\n",
       "      <td>0</td>\n",
       "      <td>1</td>\n",
       "      <td>0</td>\n",
       "      <td>79</td>\n",
       "      <td>0</td>\n",
       "      <td>1</td>\n",
       "      <td>2319</td>\n",
       "      <td>1</td>\n",
       "      <td>5</td>\n",
       "      <td>7621102</td>\n",
       "      <td>71499</td>\n",
       "      <td>1709740</td>\n",
       "      <td>34145</td>\n",
       "      <td>0</td>\n",
       "      <td>0</td>\n",
       "      <td>False</td>\n",
       "      <td>False</td>\n",
       "      <td>False</td>\n",
       "      <td>True</td>\n",
       "      <td>False</td>\n",
       "      <td>True</td>\n",
       "      <td>True</td>\n",
       "      <td>True</td>\n",
       "      <td>True</td>\n",
       "      <td>False</td>\n",
       "      <td>True</td>\n",
       "      <td>False</td>\n",
       "      <td>True</td>\n",
       "      <td>False</td>\n",
       "      <td>False</td>\n",
       "      <td>True</td>\n",
       "      <td>False</td>\n",
       "      <td>False</td>\n",
       "      <td>False</td>\n",
       "      <td>False</td>\n",
       "      <td>False</td>\n",
       "      <td>False</td>\n",
       "      <td>False</td>\n",
       "      <td>False</td>\n",
       "      <td>True</td>\n",
       "      <td>False</td>\n",
       "      <td>False</td>\n",
       "      <td>False</td>\n",
       "      <td>False</td>\n",
       "      <td>False</td>\n",
       "      <td>False</td>\n",
       "      <td>False</td>\n",
       "      <td>False</td>\n",
       "      <td>False</td>\n",
       "      <td>False</td>\n",
       "      <td>USD</td>\n",
       "      <td>4.99</td>\n",
       "      <td>4.99</td>\n",
       "      <td></td>\n",
       "      <td></td>\n",
       "      <td>Enlist in an intense brand of Axis vs. Allied ...</td>\n",
       "      <td>http://cdn.akamai.steamstatic.com/steam/apps/3...</td>\n",
       "      <td></td>\n",
       "      <td>Enlist in an intense brand of Axis vs. Allied ...</td>\n",
       "      <td></td>\n",
       "      <td></td>\n",
       "      <td>http://cdn.akamai.steamstatic.com/steam/apps/3...</td>\n",
       "      <td></td>\n",
       "      <td></td>\n",
       "      <td>English French German Italian Spanish</td>\n",
       "      <td>http://www.dayofdefeat.com/</td>\n",
       "      <td>Minimum: 500 mhz processor 96mb ram 16mb video...</td>\n",
       "      <td></td>\n",
       "      <td>Minimum: Linux Ubuntu 12.04 Dual-core from Int...</td>\n",
       "      <td></td>\n",
       "      <td>Minimum: OS X  Snow Leopard 10.6.3 1GB RAM 4GB...</td>\n",
       "      <td></td>\n",
       "    </tr>\n",
       "    <tr>\n",
       "      <th>3</th>\n",
       "      <td>40</td>\n",
       "      <td>40</td>\n",
       "      <td>Deathmatch Classic</td>\n",
       "      <td>Deathmatch Classic</td>\n",
       "      <td>Jun 1 2001</td>\n",
       "      <td>0</td>\n",
       "      <td>0</td>\n",
       "      <td>1</td>\n",
       "      <td>0</td>\n",
       "      <td>0</td>\n",
       "      <td>0</td>\n",
       "      <td>1</td>\n",
       "      <td>888</td>\n",
       "      <td>1</td>\n",
       "      <td>4</td>\n",
       "      <td>7498965</td>\n",
       "      <td>70936</td>\n",
       "      <td>789676</td>\n",
       "      <td>23235</td>\n",
       "      <td>0</td>\n",
       "      <td>0</td>\n",
       "      <td>False</td>\n",
       "      <td>False</td>\n",
       "      <td>False</td>\n",
       "      <td>True</td>\n",
       "      <td>False</td>\n",
       "      <td>True</td>\n",
       "      <td>True</td>\n",
       "      <td>True</td>\n",
       "      <td>True</td>\n",
       "      <td>False</td>\n",
       "      <td>True</td>\n",
       "      <td>False</td>\n",
       "      <td>True</td>\n",
       "      <td>False</td>\n",
       "      <td>False</td>\n",
       "      <td>True</td>\n",
       "      <td>False</td>\n",
       "      <td>False</td>\n",
       "      <td>False</td>\n",
       "      <td>False</td>\n",
       "      <td>False</td>\n",
       "      <td>False</td>\n",
       "      <td>False</td>\n",
       "      <td>False</td>\n",
       "      <td>True</td>\n",
       "      <td>False</td>\n",
       "      <td>False</td>\n",
       "      <td>False</td>\n",
       "      <td>False</td>\n",
       "      <td>False</td>\n",
       "      <td>False</td>\n",
       "      <td>False</td>\n",
       "      <td>False</td>\n",
       "      <td>False</td>\n",
       "      <td>False</td>\n",
       "      <td>USD</td>\n",
       "      <td>4.99</td>\n",
       "      <td>4.99</td>\n",
       "      <td></td>\n",
       "      <td></td>\n",
       "      <td>Enjoy fast-paced multiplayer gaming with Death...</td>\n",
       "      <td>http://cdn.akamai.steamstatic.com/steam/apps/4...</td>\n",
       "      <td></td>\n",
       "      <td>Enjoy fast-paced multiplayer gaming with Death...</td>\n",
       "      <td></td>\n",
       "      <td></td>\n",
       "      <td>http://cdn.akamai.steamstatic.com/steam/apps/4...</td>\n",
       "      <td></td>\n",
       "      <td></td>\n",
       "      <td>English French German Italian Spanish</td>\n",
       "      <td>None</td>\n",
       "      <td>Minimum: 500 mhz processor 96mb ram 16mb video...</td>\n",
       "      <td></td>\n",
       "      <td>Minimum: Linux Ubuntu 12.04 Dual-core from Int...</td>\n",
       "      <td></td>\n",
       "      <td>Minimum: OS X  Snow Leopard 10.6.3 1GB RAM 4GB...</td>\n",
       "      <td></td>\n",
       "    </tr>\n",
       "    <tr>\n",
       "      <th>4</th>\n",
       "      <td>50</td>\n",
       "      <td>50</td>\n",
       "      <td>Half-Life: Opposing Force</td>\n",
       "      <td>Half-Life: Opposing Force</td>\n",
       "      <td>Nov 1 1999</td>\n",
       "      <td>0</td>\n",
       "      <td>0</td>\n",
       "      <td>1</td>\n",
       "      <td>0</td>\n",
       "      <td>0</td>\n",
       "      <td>0</td>\n",
       "      <td>1</td>\n",
       "      <td>2934</td>\n",
       "      <td>1</td>\n",
       "      <td>5</td>\n",
       "      <td>5399499</td>\n",
       "      <td>60370</td>\n",
       "      <td>705741</td>\n",
       "      <td>21968</td>\n",
       "      <td>0</td>\n",
       "      <td>0</td>\n",
       "      <td>False</td>\n",
       "      <td>False</td>\n",
       "      <td>False</td>\n",
       "      <td>True</td>\n",
       "      <td>False</td>\n",
       "      <td>True</td>\n",
       "      <td>True</td>\n",
       "      <td>True</td>\n",
       "      <td>True</td>\n",
       "      <td>False</td>\n",
       "      <td>True</td>\n",
       "      <td>False</td>\n",
       "      <td>True</td>\n",
       "      <td>False</td>\n",
       "      <td>True</td>\n",
       "      <td>True</td>\n",
       "      <td>False</td>\n",
       "      <td>False</td>\n",
       "      <td>False</td>\n",
       "      <td>False</td>\n",
       "      <td>False</td>\n",
       "      <td>False</td>\n",
       "      <td>False</td>\n",
       "      <td>False</td>\n",
       "      <td>True</td>\n",
       "      <td>False</td>\n",
       "      <td>False</td>\n",
       "      <td>False</td>\n",
       "      <td>False</td>\n",
       "      <td>False</td>\n",
       "      <td>False</td>\n",
       "      <td>False</td>\n",
       "      <td>False</td>\n",
       "      <td>False</td>\n",
       "      <td>False</td>\n",
       "      <td>USD</td>\n",
       "      <td>4.99</td>\n",
       "      <td>4.99</td>\n",
       "      <td></td>\n",
       "      <td></td>\n",
       "      <td>Return to the Black Mesa Research Facility as ...</td>\n",
       "      <td>http://cdn.akamai.steamstatic.com/steam/apps/5...</td>\n",
       "      <td></td>\n",
       "      <td>Return to the Black Mesa Research Facility as ...</td>\n",
       "      <td></td>\n",
       "      <td></td>\n",
       "      <td>http://cdn.akamai.steamstatic.com/steam/apps/5...</td>\n",
       "      <td></td>\n",
       "      <td></td>\n",
       "      <td>English French German Korean</td>\n",
       "      <td>None</td>\n",
       "      <td>Minimum: 500 mhz processor 96mb ram 16mb video...</td>\n",
       "      <td></td>\n",
       "      <td>Minimum: Linux Ubuntu 12.04 Dual-core from Int...</td>\n",
       "      <td></td>\n",
       "      <td>Minimum: OS X  Snow Leopard 10.6.3 1GB RAM 4GB...</td>\n",
       "      <td></td>\n",
       "    </tr>\n",
       "    <tr>\n",
       "      <th>5</th>\n",
       "      <td>60</td>\n",
       "      <td>60</td>\n",
       "      <td>Ricochet</td>\n",
       "      <td>Ricochet</td>\n",
       "      <td>Nov 1 2000</td>\n",
       "      <td>0</td>\n",
       "      <td>0</td>\n",
       "      <td>1</td>\n",
       "      <td>0</td>\n",
       "      <td>0</td>\n",
       "      <td>0</td>\n",
       "      <td>1</td>\n",
       "      <td>1965</td>\n",
       "      <td>1</td>\n",
       "      <td>4</td>\n",
       "      <td>7488563</td>\n",
       "      <td>70888</td>\n",
       "      <td>843481</td>\n",
       "      <td>24011</td>\n",
       "      <td>0</td>\n",
       "      <td>0</td>\n",
       "      <td>False</td>\n",
       "      <td>False</td>\n",
       "      <td>False</td>\n",
       "      <td>True</td>\n",
       "      <td>False</td>\n",
       "      <td>True</td>\n",
       "      <td>True</td>\n",
       "      <td>True</td>\n",
       "      <td>True</td>\n",
       "      <td>False</td>\n",
       "      <td>True</td>\n",
       "      <td>False</td>\n",
       "      <td>True</td>\n",
       "      <td>False</td>\n",
       "      <td>False</td>\n",
       "      <td>True</td>\n",
       "      <td>False</td>\n",
       "      <td>False</td>\n",
       "      <td>False</td>\n",
       "      <td>False</td>\n",
       "      <td>False</td>\n",
       "      <td>False</td>\n",
       "      <td>False</td>\n",
       "      <td>False</td>\n",
       "      <td>True</td>\n",
       "      <td>False</td>\n",
       "      <td>False</td>\n",
       "      <td>False</td>\n",
       "      <td>False</td>\n",
       "      <td>False</td>\n",
       "      <td>False</td>\n",
       "      <td>False</td>\n",
       "      <td>False</td>\n",
       "      <td>False</td>\n",
       "      <td>False</td>\n",
       "      <td>USD</td>\n",
       "      <td>4.99</td>\n",
       "      <td>4.99</td>\n",
       "      <td></td>\n",
       "      <td></td>\n",
       "      <td>A futuristic action game that challenges your ...</td>\n",
       "      <td>http://cdn.akamai.steamstatic.com/steam/apps/6...</td>\n",
       "      <td></td>\n",
       "      <td>A futuristic action game that challenges your ...</td>\n",
       "      <td></td>\n",
       "      <td></td>\n",
       "      <td>http://cdn.akamai.steamstatic.com/steam/apps/6...</td>\n",
       "      <td></td>\n",
       "      <td></td>\n",
       "      <td>English French German Italian Spanish</td>\n",
       "      <td>None</td>\n",
       "      <td>Minimum: 500 mhz processor 96mb ram 16mb video...</td>\n",
       "      <td></td>\n",
       "      <td>Minimum: Linux Ubuntu 12.04 Dual-core from Int...</td>\n",
       "      <td></td>\n",
       "      <td>Minimum: OS X  Snow Leopard 10.6.3 1GB RAM 4GB...</td>\n",
       "      <td></td>\n",
       "    </tr>\n",
       "    <tr>\n",
       "      <th>6</th>\n",
       "      <td>70</td>\n",
       "      <td>70</td>\n",
       "      <td>Half-Life</td>\n",
       "      <td>Half-Life</td>\n",
       "      <td>Nov 8 1998</td>\n",
       "      <td>0</td>\n",
       "      <td>0</td>\n",
       "      <td>1</td>\n",
       "      <td>1</td>\n",
       "      <td>96</td>\n",
       "      <td>0</td>\n",
       "      <td>1</td>\n",
       "      <td>12486</td>\n",
       "      <td>1</td>\n",
       "      <td>11</td>\n",
       "      <td>5927504</td>\n",
       "      <td>63206</td>\n",
       "      <td>2268772</td>\n",
       "      <td>39303</td>\n",
       "      <td>0</td>\n",
       "      <td>0</td>\n",
       "      <td>False</td>\n",
       "      <td>False</td>\n",
       "      <td>False</td>\n",
       "      <td>True</td>\n",
       "      <td>False</td>\n",
       "      <td>True</td>\n",
       "      <td>True</td>\n",
       "      <td>True</td>\n",
       "      <td>True</td>\n",
       "      <td>False</td>\n",
       "      <td>True</td>\n",
       "      <td>False</td>\n",
       "      <td>True</td>\n",
       "      <td>False</td>\n",
       "      <td>True</td>\n",
       "      <td>True</td>\n",
       "      <td>False</td>\n",
       "      <td>False</td>\n",
       "      <td>False</td>\n",
       "      <td>False</td>\n",
       "      <td>False</td>\n",
       "      <td>False</td>\n",
       "      <td>False</td>\n",
       "      <td>False</td>\n",
       "      <td>True</td>\n",
       "      <td>False</td>\n",
       "      <td>False</td>\n",
       "      <td>False</td>\n",
       "      <td>False</td>\n",
       "      <td>False</td>\n",
       "      <td>False</td>\n",
       "      <td>False</td>\n",
       "      <td>False</td>\n",
       "      <td>False</td>\n",
       "      <td>False</td>\n",
       "      <td>USD</td>\n",
       "      <td>9.99</td>\n",
       "      <td>9.99</td>\n",
       "      <td></td>\n",
       "      <td>http://steamcommunity.com/app/70</td>\n",
       "      <td>Named Game of the Year by over 50 publications...</td>\n",
       "      <td>http://cdn.akamai.steamstatic.com/steam/apps/7...</td>\n",
       "      <td></td>\n",
       "      <td>Named Game of the Year by over 50 publications...</td>\n",
       "      <td></td>\n",
       "      <td></td>\n",
       "      <td>http://cdn.akamai.steamstatic.com/steam/apps/7...</td>\n",
       "      <td></td>\n",
       "      <td></td>\n",
       "      <td>English French German Italian Spanish Simplifi...</td>\n",
       "      <td>http://www.half-life.com/</td>\n",
       "      <td>Minimum: 500 mhz processor 96mb ram 16mb video...</td>\n",
       "      <td></td>\n",
       "      <td>Minimum: Linux Ubuntu 12.04 Dual-core from Int...</td>\n",
       "      <td></td>\n",
       "      <td>Minimum: OS X  Snow Leopard 10.6.3 1GB RAM 4GB...</td>\n",
       "      <td></td>\n",
       "    </tr>\n",
       "    <tr>\n",
       "      <th>7</th>\n",
       "      <td>80</td>\n",
       "      <td>80</td>\n",
       "      <td>Counter-Strike: Condition Zero</td>\n",
       "      <td>Counter-Strike: Condition Zero</td>\n",
       "      <td>Mar 1 2004</td>\n",
       "      <td>0</td>\n",
       "      <td>0</td>\n",
       "      <td>1</td>\n",
       "      <td>0</td>\n",
       "      <td>65</td>\n",
       "      <td>0</td>\n",
       "      <td>1</td>\n",
       "      <td>7067</td>\n",
       "      <td>1</td>\n",
       "      <td>8</td>\n",
       "      <td>10489261</td>\n",
       "      <td>83543</td>\n",
       "      <td>4127910</td>\n",
       "      <td>52878</td>\n",
       "      <td>0</td>\n",
       "      <td>0</td>\n",
       "      <td>False</td>\n",
       "      <td>False</td>\n",
       "      <td>False</td>\n",
       "      <td>True</td>\n",
       "      <td>False</td>\n",
       "      <td>True</td>\n",
       "      <td>True</td>\n",
       "      <td>True</td>\n",
       "      <td>True</td>\n",
       "      <td>False</td>\n",
       "      <td>False</td>\n",
       "      <td>False</td>\n",
       "      <td>False</td>\n",
       "      <td>False</td>\n",
       "      <td>True</td>\n",
       "      <td>True</td>\n",
       "      <td>False</td>\n",
       "      <td>False</td>\n",
       "      <td>False</td>\n",
       "      <td>False</td>\n",
       "      <td>False</td>\n",
       "      <td>False</td>\n",
       "      <td>False</td>\n",
       "      <td>False</td>\n",
       "      <td>True</td>\n",
       "      <td>False</td>\n",
       "      <td>False</td>\n",
       "      <td>False</td>\n",
       "      <td>False</td>\n",
       "      <td>False</td>\n",
       "      <td>False</td>\n",
       "      <td>False</td>\n",
       "      <td>False</td>\n",
       "      <td>False</td>\n",
       "      <td>False</td>\n",
       "      <td>USD</td>\n",
       "      <td>9.99</td>\n",
       "      <td>9.99</td>\n",
       "      <td></td>\n",
       "      <td>http://steamcommunity.com/app/80</td>\n",
       "      <td>With its extensive Tour of Duty campaign a nea...</td>\n",
       "      <td>http://cdn.akamai.steamstatic.com/steam/apps/8...</td>\n",
       "      <td></td>\n",
       "      <td>With its extensive Tour of Duty campaign a nea...</td>\n",
       "      <td></td>\n",
       "      <td></td>\n",
       "      <td>http://cdn.akamai.steamstatic.com/steam/apps/8...</td>\n",
       "      <td></td>\n",
       "      <td></td>\n",
       "      <td>English French German Italian Spanish Simplifi...</td>\n",
       "      <td>None</td>\n",
       "      <td>Minimum: 500 mhz processor 96mb ram 16mb video...</td>\n",
       "      <td></td>\n",
       "      <td></td>\n",
       "      <td></td>\n",
       "      <td></td>\n",
       "      <td></td>\n",
       "    </tr>\n",
       "    <tr>\n",
       "      <th>8</th>\n",
       "      <td>80</td>\n",
       "      <td>80</td>\n",
       "      <td>Counter-Strike: Condition Zero</td>\n",
       "      <td>Counter-Strike: Condition Zero</td>\n",
       "      <td>Mar 1 2004</td>\n",
       "      <td>0</td>\n",
       "      <td>0</td>\n",
       "      <td>1</td>\n",
       "      <td>0</td>\n",
       "      <td>65</td>\n",
       "      <td>0</td>\n",
       "      <td>1</td>\n",
       "      <td>7067</td>\n",
       "      <td>1</td>\n",
       "      <td>8</td>\n",
       "      <td>10489261</td>\n",
       "      <td>83543</td>\n",
       "      <td>4127910</td>\n",
       "      <td>52878</td>\n",
       "      <td>0</td>\n",
       "      <td>0</td>\n",
       "      <td>False</td>\n",
       "      <td>False</td>\n",
       "      <td>False</td>\n",
       "      <td>True</td>\n",
       "      <td>False</td>\n",
       "      <td>True</td>\n",
       "      <td>True</td>\n",
       "      <td>True</td>\n",
       "      <td>True</td>\n",
       "      <td>False</td>\n",
       "      <td>False</td>\n",
       "      <td>False</td>\n",
       "      <td>False</td>\n",
       "      <td>False</td>\n",
       "      <td>True</td>\n",
       "      <td>True</td>\n",
       "      <td>False</td>\n",
       "      <td>False</td>\n",
       "      <td>False</td>\n",
       "      <td>False</td>\n",
       "      <td>False</td>\n",
       "      <td>False</td>\n",
       "      <td>False</td>\n",
       "      <td>False</td>\n",
       "      <td>True</td>\n",
       "      <td>False</td>\n",
       "      <td>False</td>\n",
       "      <td>False</td>\n",
       "      <td>False</td>\n",
       "      <td>False</td>\n",
       "      <td>False</td>\n",
       "      <td>False</td>\n",
       "      <td>False</td>\n",
       "      <td>False</td>\n",
       "      <td>False</td>\n",
       "      <td>USD</td>\n",
       "      <td>9.99</td>\n",
       "      <td>9.99</td>\n",
       "      <td></td>\n",
       "      <td>http://steamcommunity.com/app/80</td>\n",
       "      <td>With its extensive Tour of Duty campaign a nea...</td>\n",
       "      <td>http://cdn.akamai.steamstatic.com/steam/apps/8...</td>\n",
       "      <td></td>\n",
       "      <td>With its extensive Tour of Duty campaign a nea...</td>\n",
       "      <td></td>\n",
       "      <td></td>\n",
       "      <td>http://cdn.akamai.steamstatic.com/steam/apps/8...</td>\n",
       "      <td></td>\n",
       "      <td></td>\n",
       "      <td>English French German Italian Spanish Simplifi...</td>\n",
       "      <td>None</td>\n",
       "      <td>Minimum: 500 mhz processor 96mb ram 16mb video...</td>\n",
       "      <td></td>\n",
       "      <td></td>\n",
       "      <td></td>\n",
       "      <td></td>\n",
       "      <td></td>\n",
       "    </tr>\n",
       "    <tr>\n",
       "      <th>9</th>\n",
       "      <td>130</td>\n",
       "      <td>130</td>\n",
       "      <td>Half-Life: Blue Shift</td>\n",
       "      <td>Half-Life: Blue Shift</td>\n",
       "      <td>Jun 1 2001</td>\n",
       "      <td>0</td>\n",
       "      <td>0</td>\n",
       "      <td>1</td>\n",
       "      <td>0</td>\n",
       "      <td>71</td>\n",
       "      <td>0</td>\n",
       "      <td>1</td>\n",
       "      <td>2219</td>\n",
       "      <td>1</td>\n",
       "      <td>5</td>\n",
       "      <td>5368650</td>\n",
       "      <td>60199</td>\n",
       "      <td>662517</td>\n",
       "      <td>21286</td>\n",
       "      <td>0</td>\n",
       "      <td>0</td>\n",
       "      <td>False</td>\n",
       "      <td>False</td>\n",
       "      <td>False</td>\n",
       "      <td>True</td>\n",
       "      <td>False</td>\n",
       "      <td>True</td>\n",
       "      <td>True</td>\n",
       "      <td>True</td>\n",
       "      <td>True</td>\n",
       "      <td>False</td>\n",
       "      <td>True</td>\n",
       "      <td>False</td>\n",
       "      <td>True</td>\n",
       "      <td>False</td>\n",
       "      <td>True</td>\n",
       "      <td>False</td>\n",
       "      <td>False</td>\n",
       "      <td>False</td>\n",
       "      <td>False</td>\n",
       "      <td>False</td>\n",
       "      <td>False</td>\n",
       "      <td>False</td>\n",
       "      <td>False</td>\n",
       "      <td>False</td>\n",
       "      <td>True</td>\n",
       "      <td>False</td>\n",
       "      <td>False</td>\n",
       "      <td>False</td>\n",
       "      <td>False</td>\n",
       "      <td>False</td>\n",
       "      <td>False</td>\n",
       "      <td>False</td>\n",
       "      <td>False</td>\n",
       "      <td>False</td>\n",
       "      <td>False</td>\n",
       "      <td>USD</td>\n",
       "      <td>4.99</td>\n",
       "      <td>4.99</td>\n",
       "      <td></td>\n",
       "      <td></td>\n",
       "      <td>Made by Gearbox Software and originally releas...</td>\n",
       "      <td>http://cdn.akamai.steamstatic.com/steam/apps/1...</td>\n",
       "      <td></td>\n",
       "      <td>Made by Gearbox Software and originally releas...</td>\n",
       "      <td></td>\n",
       "      <td></td>\n",
       "      <td>http://cdn.akamai.steamstatic.com/steam/apps/1...</td>\n",
       "      <td></td>\n",
       "      <td></td>\n",
       "      <td>English French German</td>\n",
       "      <td>None</td>\n",
       "      <td>Minimum: 500 mhz processor 96mb ram 16mb video...</td>\n",
       "      <td></td>\n",
       "      <td>Minimum: Linux Ubuntu 12.04 Dual-core from Int...</td>\n",
       "      <td></td>\n",
       "      <td>Minimum: OS X  Snow Leopard 10.6.3 1GB RAM 4GB...</td>\n",
       "      <td></td>\n",
       "    </tr>\n",
       "  </tbody>\n",
       "</table>\n",
       "</div>"
      ],
      "text/plain": [
       "   QueryID  ResponseID                       QueryName  \\\n",
       "0       10          10                  Counter-Strike   \n",
       "1       20          20           Team Fortress Classic   \n",
       "2       30          30                   Day of Defeat   \n",
       "3       40          40              Deathmatch Classic   \n",
       "4       50          50       Half-Life: Opposing Force   \n",
       "5       60          60                        Ricochet   \n",
       "6       70          70                       Half-Life   \n",
       "7       80          80  Counter-Strike: Condition Zero   \n",
       "8       80          80  Counter-Strike: Condition Zero   \n",
       "9      130         130           Half-Life: Blue Shift   \n",
       "\n",
       "                     ResponseName ReleaseDate  RequiredAge  DemoCount  \\\n",
       "0                  Counter-Strike  Nov 1 2000            0          0   \n",
       "1           Team Fortress Classic  Apr 1 1999            0          0   \n",
       "2                   Day of Defeat  May 1 2003            0          0   \n",
       "3              Deathmatch Classic  Jun 1 2001            0          0   \n",
       "4       Half-Life: Opposing Force  Nov 1 1999            0          0   \n",
       "5                        Ricochet  Nov 1 2000            0          0   \n",
       "6                       Half-Life  Nov 8 1998            0          0   \n",
       "7  Counter-Strike: Condition Zero  Mar 1 2004            0          0   \n",
       "8  Counter-Strike: Condition Zero  Mar 1 2004            0          0   \n",
       "9           Half-Life: Blue Shift  Jun 1 2001            0          0   \n",
       "\n",
       "   DeveloperCount  DLCCount  Metacritic  MovieCount  PackageCount  \\\n",
       "0               1         0          88           0             1   \n",
       "1               1         0           0           0             1   \n",
       "2               1         0          79           0             1   \n",
       "3               1         0           0           0             1   \n",
       "4               1         0           0           0             1   \n",
       "5               1         0           0           0             1   \n",
       "6               1         1          96           0             1   \n",
       "7               1         0          65           0             1   \n",
       "8               1         0          65           0             1   \n",
       "9               1         0          71           0             1   \n",
       "\n",
       "   RecommendationCount  PublisherCount  ScreenshotCount  SteamSpyOwners  \\\n",
       "0                68991               1               13        13033334   \n",
       "1                 2439               1                5         5399140   \n",
       "2                 2319               1                5         7621102   \n",
       "3                  888               1                4         7498965   \n",
       "4                 2934               1                5         5399499   \n",
       "5                 1965               1                4         7488563   \n",
       "6                12486               1               11         5927504   \n",
       "7                 7067               1                8        10489261   \n",
       "8                 7067               1                8        10489261   \n",
       "9                 2219               1                5         5368650   \n",
       "\n",
       "   SteamSpyOwnersVariance  SteamSpyPlayersEstimate  SteamSpyPlayersVariance  \\\n",
       "0                   92789                  9140731                    78136   \n",
       "1                   60368                   753627                    22699   \n",
       "2                   71499                  1709740                    34145   \n",
       "3                   70936                   789676                    23235   \n",
       "4                   60370                   705741                    21968   \n",
       "5                   70888                   843481                    24011   \n",
       "6                   63206                  2268772                    39303   \n",
       "7                   83543                  4127910                    52878   \n",
       "8                   83543                  4127910                    52878   \n",
       "9                   60199                   662517                    21286   \n",
       "\n",
       "   AchievementCount  AchievementHighlightedCount  ControllerSupport  IsFree  \\\n",
       "0                 0                            0              False   False   \n",
       "1                 0                            0              False   False   \n",
       "2                 0                            0              False   False   \n",
       "3                 0                            0              False   False   \n",
       "4                 0                            0              False   False   \n",
       "5                 0                            0              False   False   \n",
       "6                 0                            0              False   False   \n",
       "7                 0                            0              False   False   \n",
       "8                 0                            0              False   False   \n",
       "9                 0                            0              False   False   \n",
       "\n",
       "   FreeVerAvail  PurchaseAvail  SubscriptionAvail  PlatformWindows  \\\n",
       "0         False           True              False             True   \n",
       "1         False           True              False             True   \n",
       "2         False           True              False             True   \n",
       "3         False           True              False             True   \n",
       "4         False           True              False             True   \n",
       "5         False           True              False             True   \n",
       "6         False           True              False             True   \n",
       "7         False           True              False             True   \n",
       "8         False           True              False             True   \n",
       "9         False           True              False             True   \n",
       "\n",
       "   PlatformLinux  PlatformMac  PCReqsHaveMin  PCReqsHaveRec  LinuxReqsHaveMin  \\\n",
       "0           True         True           True          False              True   \n",
       "1           True         True           True          False              True   \n",
       "2           True         True           True          False              True   \n",
       "3           True         True           True          False              True   \n",
       "4           True         True           True          False              True   \n",
       "5           True         True           True          False              True   \n",
       "6           True         True           True          False              True   \n",
       "7           True         True           True          False             False   \n",
       "8           True         True           True          False             False   \n",
       "9           True         True           True          False              True   \n",
       "\n",
       "   LinuxReqsHaveRec  MacReqsHaveMin  MacReqsHaveRec  CategorySinglePlayer  \\\n",
       "0             False            True           False                 False   \n",
       "1             False            True           False                 False   \n",
       "2             False            True           False                 False   \n",
       "3             False            True           False                 False   \n",
       "4             False            True           False                  True   \n",
       "5             False            True           False                 False   \n",
       "6             False            True           False                  True   \n",
       "7             False           False           False                  True   \n",
       "8             False           False           False                  True   \n",
       "9             False            True           False                  True   \n",
       "\n",
       "   CategoryMultiplayer  CategoryCoop  CategoryMMO  CategoryInAppPurchase  \\\n",
       "0                 True         False        False                  False   \n",
       "1                 True         False        False                  False   \n",
       "2                 True         False        False                  False   \n",
       "3                 True         False        False                  False   \n",
       "4                 True         False        False                  False   \n",
       "5                 True         False        False                  False   \n",
       "6                 True         False        False                  False   \n",
       "7                 True         False        False                  False   \n",
       "8                 True         False        False                  False   \n",
       "9                False         False        False                  False   \n",
       "\n",
       "   CategoryIncludeSrcSDK  CategoryIncludeLevelEditor  CategoryVRSupport  \\\n",
       "0                  False                       False              False   \n",
       "1                  False                       False              False   \n",
       "2                  False                       False              False   \n",
       "3                  False                       False              False   \n",
       "4                  False                       False              False   \n",
       "5                  False                       False              False   \n",
       "6                  False                       False              False   \n",
       "7                  False                       False              False   \n",
       "8                  False                       False              False   \n",
       "9                  False                       False              False   \n",
       "\n",
       "   GenreIsNonGame  GenreIsIndie  GenreIsAction  GenreIsAdventure  \\\n",
       "0           False         False           True             False   \n",
       "1           False         False           True             False   \n",
       "2           False         False           True             False   \n",
       "3           False         False           True             False   \n",
       "4           False         False           True             False   \n",
       "5           False         False           True             False   \n",
       "6           False         False           True             False   \n",
       "7           False         False           True             False   \n",
       "8           False         False           True             False   \n",
       "9           False         False           True             False   \n",
       "\n",
       "   GenreIsCasual  GenreIsStrategy  GenreIsRPG  GenreIsSimulation  \\\n",
       "0          False            False       False              False   \n",
       "1          False            False       False              False   \n",
       "2          False            False       False              False   \n",
       "3          False            False       False              False   \n",
       "4          False            False       False              False   \n",
       "5          False            False       False              False   \n",
       "6          False            False       False              False   \n",
       "7          False            False       False              False   \n",
       "8          False            False       False              False   \n",
       "9          False            False       False              False   \n",
       "\n",
       "   GenreIsEarlyAccess  GenreIsFreeToPlay  GenreIsSports  GenreIsRacing  \\\n",
       "0               False              False          False          False   \n",
       "1               False              False          False          False   \n",
       "2               False              False          False          False   \n",
       "3               False              False          False          False   \n",
       "4               False              False          False          False   \n",
       "5               False              False          False          False   \n",
       "6               False              False          False          False   \n",
       "7               False              False          False          False   \n",
       "8               False              False          False          False   \n",
       "9               False              False          False          False   \n",
       "\n",
       "   GenreIsMassivelyMultiplayer PriceCurrency  PriceInitial  PriceFinal  \\\n",
       "0                        False           USD          9.99        9.99   \n",
       "1                        False           USD          4.99        4.99   \n",
       "2                        False           USD          4.99        4.99   \n",
       "3                        False           USD          4.99        4.99   \n",
       "4                        False           USD          4.99        4.99   \n",
       "5                        False           USD          4.99        4.99   \n",
       "6                        False           USD          9.99        9.99   \n",
       "7                        False           USD          9.99        9.99   \n",
       "8                        False           USD          9.99        9.99   \n",
       "9                        False           USD          4.99        4.99   \n",
       "\n",
       "  SupportEmail                        SupportURL  \\\n",
       "0               http://steamcommunity.com/app/10   \n",
       "1                                                  \n",
       "2                                                  \n",
       "3                                                  \n",
       "4                                                  \n",
       "5                                                  \n",
       "6               http://steamcommunity.com/app/70   \n",
       "7               http://steamcommunity.com/app/80   \n",
       "8               http://steamcommunity.com/app/80   \n",
       "9                                                  \n",
       "\n",
       "                                           AboutText  \\\n",
       "0  Play the worlds number 1 online action game. E...   \n",
       "1  One of the most popular online action games of...   \n",
       "2  Enlist in an intense brand of Axis vs. Allied ...   \n",
       "3  Enjoy fast-paced multiplayer gaming with Death...   \n",
       "4  Return to the Black Mesa Research Facility as ...   \n",
       "5  A futuristic action game that challenges your ...   \n",
       "6  Named Game of the Year by over 50 publications...   \n",
       "7  With its extensive Tour of Duty campaign a nea...   \n",
       "8  With its extensive Tour of Duty campaign a nea...   \n",
       "9  Made by Gearbox Software and originally releas...   \n",
       "\n",
       "                                          Background ShortDescrip  \\\n",
       "0  http://cdn.akamai.steamstatic.com/steam/apps/1...                \n",
       "1  http://cdn.akamai.steamstatic.com/steam/apps/2...                \n",
       "2  http://cdn.akamai.steamstatic.com/steam/apps/3...                \n",
       "3  http://cdn.akamai.steamstatic.com/steam/apps/4...                \n",
       "4  http://cdn.akamai.steamstatic.com/steam/apps/5...                \n",
       "5  http://cdn.akamai.steamstatic.com/steam/apps/6...                \n",
       "6  http://cdn.akamai.steamstatic.com/steam/apps/7...                \n",
       "7  http://cdn.akamai.steamstatic.com/steam/apps/8...                \n",
       "8  http://cdn.akamai.steamstatic.com/steam/apps/8...                \n",
       "9  http://cdn.akamai.steamstatic.com/steam/apps/1...                \n",
       "\n",
       "                                     DetailedDescrip DRMNotice  \\\n",
       "0  Play the worlds number 1 online action game. E...             \n",
       "1  One of the most popular online action games of...             \n",
       "2  Enlist in an intense brand of Axis vs. Allied ...             \n",
       "3  Enjoy fast-paced multiplayer gaming with Death...             \n",
       "4  Return to the Black Mesa Research Facility as ...             \n",
       "5  A futuristic action game that challenges your ...             \n",
       "6  Named Game of the Year by over 50 publications...             \n",
       "7  With its extensive Tour of Duty campaign a nea...             \n",
       "8  With its extensive Tour of Duty campaign a nea...             \n",
       "9  Made by Gearbox Software and originally releas...             \n",
       "\n",
       "  ExtUserAcctNotice                                        HeaderImage  \\\n",
       "0                    http://cdn.akamai.steamstatic.com/steam/apps/1...   \n",
       "1                    http://cdn.akamai.steamstatic.com/steam/apps/2...   \n",
       "2                    http://cdn.akamai.steamstatic.com/steam/apps/3...   \n",
       "3                    http://cdn.akamai.steamstatic.com/steam/apps/4...   \n",
       "4                    http://cdn.akamai.steamstatic.com/steam/apps/5...   \n",
       "5                    http://cdn.akamai.steamstatic.com/steam/apps/6...   \n",
       "6                    http://cdn.akamai.steamstatic.com/steam/apps/7...   \n",
       "7                    http://cdn.akamai.steamstatic.com/steam/apps/8...   \n",
       "8                    http://cdn.akamai.steamstatic.com/steam/apps/8...   \n",
       "9                    http://cdn.akamai.steamstatic.com/steam/apps/1...   \n",
       "\n",
       "  LegalNotice Reviews                                 SupportedLanguages  \\\n",
       "0                      English French German Italian Spanish Simplifi...   \n",
       "1                                  English French German Italian Spanish   \n",
       "2                                  English French German Italian Spanish   \n",
       "3                                  English French German Italian Spanish   \n",
       "4                                           English French German Korean   \n",
       "5                                  English French German Italian Spanish   \n",
       "6                      English French German Italian Spanish Simplifi...   \n",
       "7                      English French German Italian Spanish Simplifi...   \n",
       "8                      English French German Italian Spanish Simplifi...   \n",
       "9                                                  English French German   \n",
       "\n",
       "                       Website  \\\n",
       "0                         None   \n",
       "1                         None   \n",
       "2  http://www.dayofdefeat.com/   \n",
       "3                         None   \n",
       "4                         None   \n",
       "5                         None   \n",
       "6    http://www.half-life.com/   \n",
       "7                         None   \n",
       "8                         None   \n",
       "9                         None   \n",
       "\n",
       "                                       PCMinReqsText PCRecReqsText  \\\n",
       "0  Minimum: 500 mhz processor 96mb ram 16mb video...                 \n",
       "1  Minimum: 500 mhz processor 96mb ram 16mb video...                 \n",
       "2  Minimum: 500 mhz processor 96mb ram 16mb video...                 \n",
       "3  Minimum: 500 mhz processor 96mb ram 16mb video...                 \n",
       "4  Minimum: 500 mhz processor 96mb ram 16mb video...                 \n",
       "5  Minimum: 500 mhz processor 96mb ram 16mb video...                 \n",
       "6  Minimum: 500 mhz processor 96mb ram 16mb video...                 \n",
       "7  Minimum: 500 mhz processor 96mb ram 16mb video...                 \n",
       "8  Minimum: 500 mhz processor 96mb ram 16mb video...                 \n",
       "9  Minimum: 500 mhz processor 96mb ram 16mb video...                 \n",
       "\n",
       "                                    LinuxMinReqsText LinuxRecReqsText  \\\n",
       "0  Minimum: Linux Ubuntu 12.04 Dual-core from Int...                    \n",
       "1  Minimum: Linux Ubuntu 12.04 Dual-core from Int...                    \n",
       "2  Minimum: Linux Ubuntu 12.04 Dual-core from Int...                    \n",
       "3  Minimum: Linux Ubuntu 12.04 Dual-core from Int...                    \n",
       "4  Minimum: Linux Ubuntu 12.04 Dual-core from Int...                    \n",
       "5  Minimum: Linux Ubuntu 12.04 Dual-core from Int...                    \n",
       "6  Minimum: Linux Ubuntu 12.04 Dual-core from Int...                    \n",
       "7                                                                       \n",
       "8                                                                       \n",
       "9  Minimum: Linux Ubuntu 12.04 Dual-core from Int...                    \n",
       "\n",
       "                                      MacMinReqsText MacRecReqsText  \n",
       "0  Minimum: OS X  Snow Leopard 10.6.3 1GB RAM 4GB...                 \n",
       "1  Minimum: OS X  Snow Leopard 10.6.3 1GB RAM 4GB...                 \n",
       "2  Minimum: OS X  Snow Leopard 10.6.3 1GB RAM 4GB...                 \n",
       "3  Minimum: OS X  Snow Leopard 10.6.3 1GB RAM 4GB...                 \n",
       "4  Minimum: OS X  Snow Leopard 10.6.3 1GB RAM 4GB...                 \n",
       "5  Minimum: OS X  Snow Leopard 10.6.3 1GB RAM 4GB...                 \n",
       "6  Minimum: OS X  Snow Leopard 10.6.3 1GB RAM 4GB...                 \n",
       "7                                                                    \n",
       "8                                                                    \n",
       "9  Minimum: OS X  Snow Leopard 10.6.3 1GB RAM 4GB...                 "
      ]
     },
     "execution_count": 2,
     "metadata": {},
     "output_type": "execute_result"
    }
   ],
   "source": [
    "df = pd.read_csv(\"data/games-features.csv\") # read the data into panda's data frame\n",
    "print('The shape of the dataset is {}.'.format(df.shape)) # print out the shape of the dataset\n",
    "df.head(10) # show first 10 records"
   ]
  },
  {
   "cell_type": "markdown",
   "metadata": {},
   "source": [
    "### Column Selection\n",
    "\n",
    "Now let's go through all attributes and determine which attributes we will need for our analysis. We can list all 78 attributes:"
   ]
  },
  {
   "cell_type": "code",
   "execution_count": 3,
   "metadata": {},
   "outputs": [
    {
     "name": "stdout",
     "output_type": "stream",
     "text": [
      "78 columns:\n",
      "['QueryID', 'ResponseID', 'QueryName', 'ResponseName', 'ReleaseDate', 'RequiredAge', 'DemoCount', 'DeveloperCount', 'DLCCount', 'Metacritic', 'MovieCount', 'PackageCount', 'RecommendationCount', 'PublisherCount', 'ScreenshotCount', 'SteamSpyOwners', 'SteamSpyOwnersVariance', 'SteamSpyPlayersEstimate', 'SteamSpyPlayersVariance', 'AchievementCount', 'AchievementHighlightedCount', 'ControllerSupport', 'IsFree', 'FreeVerAvail', 'PurchaseAvail', 'SubscriptionAvail', 'PlatformWindows', 'PlatformLinux', 'PlatformMac', 'PCReqsHaveMin', 'PCReqsHaveRec', 'LinuxReqsHaveMin', 'LinuxReqsHaveRec', 'MacReqsHaveMin', 'MacReqsHaveRec', 'CategorySinglePlayer', 'CategoryMultiplayer', 'CategoryCoop', 'CategoryMMO', 'CategoryInAppPurchase', 'CategoryIncludeSrcSDK', 'CategoryIncludeLevelEditor', 'CategoryVRSupport', 'GenreIsNonGame', 'GenreIsIndie', 'GenreIsAction', 'GenreIsAdventure', 'GenreIsCasual', 'GenreIsStrategy', 'GenreIsRPG', 'GenreIsSimulation', 'GenreIsEarlyAccess', 'GenreIsFreeToPlay', 'GenreIsSports', 'GenreIsRacing', 'GenreIsMassivelyMultiplayer', 'PriceCurrency', 'PriceInitial', 'PriceFinal', 'SupportEmail', 'SupportURL', 'AboutText', 'Background', 'ShortDescrip', 'DetailedDescrip', 'DRMNotice', 'ExtUserAcctNotice', 'HeaderImage', 'LegalNotice', 'Reviews', 'SupportedLanguages', 'Website', 'PCMinReqsText', 'PCRecReqsText', 'LinuxMinReqsText', 'LinuxRecReqsText', 'MacMinReqsText', 'MacRecReqsText']\n"
     ]
    }
   ],
   "source": [
    "columns = list(df.columns)\n",
    "print(\"{} columns:\\n{}\".format(len(columns),columns))"
   ]
  },
  {
   "cell_type": "markdown",
   "metadata": {},
   "source": [
    "From the first 4 columns ('QueryID', 'ResponseID', 'QueryName', 'ResponseName'), we are really interested only in the response names. After a quick examination we would be able to see that there are some inconsistencies between 'QueryID' and 'ResponseID'. There are a lot more entries with 'QueryName' and 'ResponseName' mismatch. The reason for this is most likely that the Response Names are more specific and that's what we are interested - the actual names of the games. We can drop the first three columns and rather look for duplicates in the entries (there should be a lot of them)."
   ]
  },
  {
   "cell_type": "code",
   "execution_count": 4,
   "metadata": {},
   "outputs": [
    {
     "name": "stdout",
     "output_type": "stream",
     "text": [
      "There are 98 entries, where QuerryID != ResponseID.\n",
      "There are 2499 entries, where QueryName != ResponseName.\n"
     ]
    }
   ],
   "source": [
    "# only for perspective\n",
    "print('There are {} entries, where QuerryID != ResponseID.'.format(len(df[df.QueryID != df.ResponseID])))\n",
    "print('There are {} entries, where QueryName != ResponseName.'.format(len(df[df.QueryName != df.ResponseName])))"
   ]
  },
  {
   "cell_type": "code",
   "execution_count": 5,
   "metadata": {},
   "outputs": [
    {
     "data": {
      "text/plain": [
       "(13357, 75)"
      ]
     },
     "execution_count": 5,
     "metadata": {},
     "output_type": "execute_result"
    }
   ],
   "source": [
    "# drop first three columns\n",
    "df.drop(['QueryID', 'ResponseID', 'QueryName'], axis=1, inplace=True)\n",
    "df.shape"
   ]
  },
  {
   "cell_type": "code",
   "execution_count": 6,
   "metadata": {
    "scrolled": false
   },
   "outputs": [
    {
     "data": {
      "text/plain": [
       "239"
      ]
     },
     "execution_count": 6,
     "metadata": {},
     "output_type": "execute_result"
    }
   ],
   "source": [
    "# count duplicates\n",
    "len(df[df.duplicated(subset=['ResponseName'], keep=False)])"
   ]
  },
  {
   "cell_type": "markdown",
   "metadata": {},
   "source": [
    "We can see there are 239 entries that are duplicates (the ResponseName has more than one appearance). We might want to keep the first appearance of the game. But if we go through the duplicates we'll find out that the first appearance is sometimes invalid. We'll have to use a bit more sophisticated duplication deletion. If we examine the duplicates, we can see that some of them do have missing values in attributes 'SteamSpyOwners', 'SteamSpyOwnersVariance', 'SteamSpyPlayersEstimate' and 'SteamSpyPlayersVariance' or the values are significantly lower than for the other duplicates of the same game. Based on this observation, we can decide which entry do we leave in the dataset."
   ]
  },
  {
   "cell_type": "code",
   "execution_count": 7,
   "metadata": {},
   "outputs": [
    {
     "data": {
      "text/plain": [
       "(13199, 75)"
      ]
     },
     "execution_count": 7,
     "metadata": {},
     "output_type": "execute_result"
    }
   ],
   "source": [
    "# delete invalid duplicates from the dataset\n",
    "df = delete_duplicates(df) # function from our helper functions\n",
    "df.shape"
   ]
  },
  {
   "cell_type": "code",
   "execution_count": 8,
   "metadata": {
    "scrolled": true
   },
   "outputs": [
    {
     "name": "stdout",
     "output_type": "stream",
     "text": [
      "There are now 0 duplicates.\n"
     ]
    }
   ],
   "source": [
    "# count duplicates again\n",
    "print('There are now {} duplicates.'.format(len(df[df.duplicated(subset=['ResponseName'], keep=False)])))"
   ]
  },
  {
   "cell_type": "markdown",
   "metadata": {},
   "source": [
    "Now that we dropped all duplicates, let's get rid of all entries that are not games. We can use 'GenreIsNonGame' column for this (as a mask for dropping entries). After that, we can also drop the column."
   ]
  },
  {
   "cell_type": "code",
   "execution_count": 9,
   "metadata": {},
   "outputs": [
    {
     "name": "stdout",
     "output_type": "stream",
     "text": [
      "There are 318 non-game entreis in the dataset.\n",
      "Now there are are 0 non-game entreis in the dataset.\n"
     ]
    },
    {
     "data": {
      "text/plain": [
       "(12881, 74)"
      ]
     },
     "execution_count": 9,
     "metadata": {},
     "output_type": "execute_result"
    }
   ],
   "source": [
    "print('There are {} non-game entreis in the dataset.'.format(len(df[df.GenreIsNonGame == True])))\n",
    "df.drop(df[df.GenreIsNonGame == True].index, axis=0, inplace=True) # drop all non-Game entries\n",
    "print('Now there are are {} non-game entreis in the dataset.'.format(len(df[df.GenreIsNonGame == True])))\n",
    "df.drop(['GenreIsNonGame'], axis=1, inplace=True) # drop the column\n",
    "df.shape # check how the shape of the dataset changed"
   ]
  },
  {
   "cell_type": "markdown",
   "metadata": {},
   "source": [
    "Apparently, there were some non-game entries that has 'GenreIsNonGame' == False. We will have to remove them manually, but we most likely won't be able to clear all the data."
   ]
  },
  {
   "cell_type": "code",
   "execution_count": 10,
   "metadata": {},
   "outputs": [
    {
     "data": {
      "text/plain": [
       "(12249, 74)"
      ]
     },
     "execution_count": 10,
     "metadata": {},
     "output_type": "execute_result"
    }
   ],
   "source": [
    "# Manual cleaning of the data based on manual search on Steam\n",
    "# videos or movies:\n",
    "df.drop(df[df.ResponseName.str.contains('From Bedrooms to Billions')].index, axis=0, inplace=True)\n",
    "df.drop(df[df.ResponseName.str.contains('PAYDAY: The Web Series')].index, axis=0, inplace=True)\n",
    "df.drop(df[df.ResponseName.str.contains('The Making of Grim Fandango Remastered')].index, axis=0, inplace=True)\n",
    "df.drop(df[df.ResponseName.str.contains('Mortal Kombat: Legacy')].index, axis=0, inplace=True)\n",
    "df.drop(df[df.ResponseName.str.contains('Mortal Kombat: Legacy II')].index, axis=0, inplace=True)\n",
    "df.drop(df[df.ResponseName.str.contains('Double Fine Adventure')].index, axis=0, inplace=True)\n",
    "df.drop(df[df.ResponseName.str.contains('Naruto Shippuden Uncut')].index, axis=0, inplace=True)\n",
    "df.drop(df[df.ResponseName.str.contains('Complete Figure Drawing Course')].index, axis=0, inplace=True)\n",
    "df.drop(df[df.ResponseName.str.contains('Kalen Chock Presents')].index, axis=0, inplace=True)\n",
    "df.drop(df[df.ResponseName.str.contains('Now You See Me')].index, axis=0, inplace=True)\n",
    "df.drop(df[df.ResponseName.str.contains('Robotpencil Presents')].index, axis=0, inplace=True)\n",
    "df.drop(df[df.ResponseName.str.contains('Raiders! : The Story of the Greatest Fan Film')].index, axis=0, inplace=True)\n",
    "df.drop(df[df.ResponseName.str.contains('Man vs Snake: The Long and Twisted Tale')].index, axis=0, inplace=True)\n",
    "df.drop(df[df.ResponseName.str.contains('CS:GO Player Profiles')].index, axis=0, inplace=True)\n",
    "df.drop(df[df.ResponseName.str.contains('Lets Play:')].index, axis=0, inplace=True)\n",
    "df.drop(df[df.ResponseName.str.contains('Dota 2 Player Profiles')].index, axis=0, inplace=True)\n",
    "df.drop(df[df.ResponseName.str.contains('Ghost in the Shell')].index, axis=0, inplace=True)\n",
    "df.drop(df[df.ResponseName.str.contains('Meet the Blacks')].index, axis=0, inplace=True)\n",
    "df.drop(df[df.ResponseName.str.contains('Kindred Spirits on the Roof Drama')].index, axis=0, inplace=True)\n",
    "\n",
    "# game extensions with missing data\n",
    "df.drop(df[(df.ResponseName.str.contains('Strong Bads Cool Game for Attractive People')) & (df.Metacritic == 0)].index, axis=0, inplace=True)\n",
    "df.drop(df[(df.ResponseName.str.contains('Back to the Future')) & (df.Metacritic == 0)].index, axis=0, inplace=True)\n",
    "\n",
    "# mods/servers/SW with missing values\n",
    "df.drop(df[(df.ResponseName.str.contains('EuroTruck Simulator - Mod Tools'))].index, axis=0, inplace=True)\n",
    "df.drop(df[(df.ResponseName.str.contains('IS Defense Editor'))].index, axis=0, inplace=True)\n",
    "df.drop(df[(df.ResponseName.str.contains('Day of Infamy Dedicated Server'))].index, axis=0, inplace=True)\n",
    "\n",
    "df.shape"
   ]
  },
  {
   "cell_type": "markdown",
   "metadata": {},
   "source": [
    "Now we can proceed with other attributes.\n",
    "\n",
    "We won need 'AchievementHighlightedCount' attribute. This attribute contains a number of highlighted achievements, which is a number from 0 - 10 depending on the number of achievements. If a game has 10 or more achievements, the 'AchievementHighlightedCount' is equal to 10. Otherwise, it is equal to 'AchievementCount'. We can drop this column"
   ]
  },
  {
   "cell_type": "code",
   "execution_count": 11,
   "metadata": {},
   "outputs": [],
   "source": [
    "df.drop(['AchievementHighlightedCount'], axis=1, inplace=True)"
   ]
  },
  {
   "cell_type": "markdown",
   "metadata": {},
   "source": [
    "We also wont use minimal and maximal recommendations for these games. Also a big portion of the dataset miss these values. We're dropping 'PCReqsHaveMin', 'PCReqsHaveRec', 'LinuxReqsHaveMin', 'LinuxReqsHaveRec', 'MacReqsHaveMin', 'MacReqsHaveRec', 'PCMinReqsText', 'PCRecReqsText', 'LinuxMinReqsText', 'LinuxRecReqsText', 'MacMinReqsText' and 'MacRecReqsText'."
   ]
  },
  {
   "cell_type": "code",
   "execution_count": 12,
   "metadata": {
    "scrolled": true
   },
   "outputs": [],
   "source": [
    "columns_to_drop = ['PCReqsHaveMin', 'PCReqsHaveRec', 'LinuxReqsHaveMin', 'LinuxReqsHaveRec', 'MacReqsHaveMin',\n",
    "                   'MacReqsHaveRec', 'PCMinReqsText', 'PCRecReqsText', 'LinuxMinReqsText', 'LinuxRecReqsText',\n",
    "                   'MacMinReqsText', 'MacRecReqsText']\n",
    "df.drop(columns_to_drop, axis=1, inplace=True)"
   ]
  },
  {
   "cell_type": "markdown",
   "metadata": {},
   "source": [
    "There are more columns we won't need. For example all the support contact information, legal notices and a website. So we can drop 'SupportEmail', 'SupportURL', 'DRMNotice', 'ExtUserAcctNotice', 'LegalNotice' and 'Website'."
   ]
  },
  {
   "cell_type": "code",
   "execution_count": 13,
   "metadata": {},
   "outputs": [],
   "source": [
    "columns_to_drop = ['SupportEmail', 'SupportURL', 'DRMNotice', 'ExtUserAcctNotice', 'LegalNotice', 'Website']\n",
    "df.drop(columns_to_drop, axis=1, inplace=True)"
   ]
  },
  {
   "cell_type": "markdown",
   "metadata": {},
   "source": [
    "Also, some descriptions aren't very helpful for our purposes. Though, it might be useful to have the information if certain games have or do not have these descriptions. The same goes with images (background and header). Let's have a look at the 'AboutText', 'ShortDescrip' and 'DetailedDescrip'. The 'ShortDescrip' is a short description of the game that can be found right under the header image on the Store Page of the game. Some games have it, some don't and sometimes the short description is a part of 'AboutText'. We will change this into a Boolean attribute with True value if the game has a short description and False if it has no short description."
   ]
  },
  {
   "cell_type": "code",
   "execution_count": 14,
   "metadata": {
    "scrolled": false
   },
   "outputs": [
    {
     "name": "stdout",
     "output_type": "stream",
     "text": [
      "1717 of our entries have no short description.\n"
     ]
    }
   ],
   "source": [
    "print('{} of our entries have no short description.'.format(len(df[df.ShortDescrip == ' '])))\n",
    "df.replace({'ShortDescrip': {' ': ''}}, inplace=True) # replace with empty string in order to get False when retyped\n",
    "df.ShortDescrip = df.ShortDescrip.astype(bool) # retype to Boolean"
   ]
  },
  {
   "cell_type": "code",
   "execution_count": 15,
   "metadata": {},
   "outputs": [
    {
     "name": "stdout",
     "output_type": "stream",
     "text": [
      "bool\n"
     ]
    },
    {
     "data": {
      "text/plain": [
       "1717"
      ]
     },
     "execution_count": 15,
     "metadata": {},
     "output_type": "execute_result"
    }
   ],
   "source": [
    "# check the result\n",
    "print(df.ShortDescrip.dtype)\n",
    "len(df[df.ShortDescrip == False])"
   ]
  },
  {
   "cell_type": "markdown",
   "metadata": {},
   "source": [
    "Now the 'AboutText' and 'DetailedDescrip'. 'AboutText' is a text on the game's Store Page with the title \"ABOUT THIS GAME\", so it makes sense for us to note if a game has this text available. On the other hand, 'DetailedDescrip' is nowhere to be found on the Store Page. If we look at the dataset, we can observe, that a big portion of the 'DetailedDescrip' is identical to 'AboutText' and others seem to be some Update descriptions or are simply missing. We will drop this column and retype 'AboutText' into boolean."
   ]
  },
  {
   "cell_type": "code",
   "execution_count": 16,
   "metadata": {
    "scrolled": true
   },
   "outputs": [
    {
     "name": "stdout",
     "output_type": "stream",
     "text": [
      "90.49% of the 'DetailedDescrip' is identical to 'AboutText'.\n"
     ]
    }
   ],
   "source": [
    "p = len(df[df.AboutText == df.DetailedDescrip]) / len(df) * 100\n",
    "print(\"{:0.2f}% of the 'DetailedDescrip' is identical to 'AboutText'.\".format(p))\n",
    "\n",
    "df.drop(['DetailedDescrip'], axis=1, inplace=True) # drop 'DetailedDescrip'"
   ]
  },
  {
   "cell_type": "markdown",
   "metadata": {},
   "source": [
    "Now we only have to take care of the 'AboutText'. Let's have a look at it."
   ]
  },
  {
   "cell_type": "code",
   "execution_count": 17,
   "metadata": {},
   "outputs": [
    {
     "name": "stdout",
     "output_type": "stream",
     "text": [
      "34 of our entries have no \"about the game\" text.\n"
     ]
    }
   ],
   "source": [
    "print('{} of our entries have no \"about the game\" text.'.format(len(df[df.AboutText == ' '])))"
   ]
  },
  {
   "cell_type": "markdown",
   "metadata": {},
   "source": [
    "Note that some of these entries are missing the 'AboutText' value because there is no text in the \"ABOUT THIS GAME\" section on Store Page of the game. If we search these games on steam, we'll find out that some of the games have an image version of the text (with other graphics) instead of text. Here are some exceptions we'll fix manually:"
   ]
  },
  {
   "cell_type": "code",
   "execution_count": 18,
   "metadata": {
    "scrolled": false
   },
   "outputs": [
    {
     "name": "stdout",
     "output_type": "stream",
     "text": [
      "Now, 27 of our entries have no \"about the game\" text.\n"
     ]
    }
   ],
   "source": [
    "df.loc[df[df.ResponseName == 'iREC'].index, 'AboutText'] = 'True'\n",
    "df.loc[df[df.ResponseName == 'Crypt of the NecroDancer'].index, 'AboutText'] = 'True'\n",
    "df.loc[df[df.ResponseName == 'Monochroma'].index, 'AboutText'] = 'True'\n",
    "df.loc[df[df.ResponseName == 'No Turning Back: The Pixel Art Action-Adventure Roguelike'].index, 'AboutText'] = 'True'\n",
    "df.loc[df[df.ResponseName == 'Crazy Pixel Streaker'].index, 'AboutText'] = 'True'\n",
    "df.loc[df[df.ResponseName == 'One Thousand Lies'].index, 'AboutText'] = 'True'\n",
    "df.loc[df[df.ResponseName == 'Azurea Juncture'].index, 'AboutText'] = 'True'\n",
    "\n",
    "# NOTE: value 'True' can be any non-empty string at this point...\n",
    "\n",
    "print('Now, {} of our entries have no \"about the game\" text.'.format(len(df[df.AboutText == ' '])))"
   ]
  },
  {
   "cell_type": "markdown",
   "metadata": {},
   "source": [
    "We can now store only a boolean value if a game has \"About the game\" section or not."
   ]
  },
  {
   "cell_type": "code",
   "execution_count": 19,
   "metadata": {},
   "outputs": [],
   "source": [
    "df.replace({'AboutText': {' ': ''}}, inplace=True) # replace with empty string in order to get False when retyped\n",
    "df.AboutText = df.AboutText.astype(bool) # retype to Boolean"
   ]
  },
  {
   "cell_type": "markdown",
   "metadata": {},
   "source": [
    "We will change 'Background' and 'HeaderImage' in a similar fashion."
   ]
  },
  {
   "cell_type": "code",
   "execution_count": 20,
   "metadata": {},
   "outputs": [
    {
     "name": "stdout",
     "output_type": "stream",
     "text": [
      "73 of games don't have a background image and 0 of games don't have a header image.\n"
     ]
    }
   ],
   "source": [
    "print(\"{} of games don't have a background image and {} of games don't have a header image.\"\\\n",
    "      .format(len(df[df.Background==' ']),len(df[df.HeaderImage==' '])))"
   ]
  },
  {
   "cell_type": "markdown",
   "metadata": {},
   "source": [
    "Apparently, there are no entries that are missing 'HeaderImage' what makes this attribute useless for our purposes and we can drop it."
   ]
  },
  {
   "cell_type": "code",
   "execution_count": 21,
   "metadata": {},
   "outputs": [],
   "source": [
    "df.drop(['HeaderImage'], axis=1, inplace=True) # drop 'HeaderImage'\n",
    "\n",
    "# retype 'Background'\n",
    "df.replace({'Background': {' ': ''}}, inplace=True) # replace with empty string in order to get False when retyped\n",
    "df.Background = df.Background.astype(bool) # retype to Boolean"
   ]
  },
  {
   "cell_type": "code",
   "execution_count": 22,
   "metadata": {},
   "outputs": [
    {
     "name": "stdout",
     "output_type": "stream",
     "text": [
      "53 columns:\n",
      "['ResponseName', 'ReleaseDate', 'RequiredAge', 'DemoCount', 'DeveloperCount', 'DLCCount', 'Metacritic', 'MovieCount', 'PackageCount', 'RecommendationCount', 'PublisherCount', 'ScreenshotCount', 'SteamSpyOwners', 'SteamSpyOwnersVariance', 'SteamSpyPlayersEstimate', 'SteamSpyPlayersVariance', 'AchievementCount', 'ControllerSupport', 'IsFree', 'FreeVerAvail', 'PurchaseAvail', 'SubscriptionAvail', 'PlatformWindows', 'PlatformLinux', 'PlatformMac', 'CategorySinglePlayer', 'CategoryMultiplayer', 'CategoryCoop', 'CategoryMMO', 'CategoryInAppPurchase', 'CategoryIncludeSrcSDK', 'CategoryIncludeLevelEditor', 'CategoryVRSupport', 'GenreIsIndie', 'GenreIsAction', 'GenreIsAdventure', 'GenreIsCasual', 'GenreIsStrategy', 'GenreIsRPG', 'GenreIsSimulation', 'GenreIsEarlyAccess', 'GenreIsFreeToPlay', 'GenreIsSports', 'GenreIsRacing', 'GenreIsMassivelyMultiplayer', 'PriceCurrency', 'PriceInitial', 'PriceFinal', 'AboutText', 'Background', 'ShortDescrip', 'Reviews', 'SupportedLanguages']\n"
     ]
    }
   ],
   "source": [
    "columns = list(df.columns)\n",
    "print(\"{} columns:\\n{}\".format(len(columns),columns))"
   ]
  },
  {
   "cell_type": "markdown",
   "metadata": {},
   "source": [
    "Let's look at the 'Reviews' attribute. Apparently, a majority of the dataset miss this values. There might have been a problem with the extraction of the data during the creation of the dataset. Nevertheless, the text form of reviews wouldn't be very helpful for our purposes. We assume, that 'RecommendationCount' is the number of Reviews (or positive Reviews only?). Therefore, we'll drop this column."
   ]
  },
  {
   "cell_type": "code",
   "execution_count": 23,
   "metadata": {},
   "outputs": [
    {
     "name": "stdout",
     "output_type": "stream",
     "text": [
      "73.60% of the 'Reviews' values are empty.\n"
     ]
    }
   ],
   "source": [
    "p = len(df[df.Reviews == ' ']) / len(df) * 100 \n",
    "print(\"{:0.2f}% of the 'Reviews' values are empty.\".format(p))\n",
    "\n",
    "df.drop(['Reviews'], axis=1, inplace=True) # drop 'Reviews'"
   ]
  },
  {
   "cell_type": "markdown",
   "metadata": {},
   "source": [
    "Now for languages, this is a very messy column. There is also no use for us to keep this text format of the data."
   ]
  },
  {
   "cell_type": "code",
   "execution_count": 24,
   "metadata": {
    "scrolled": true
   },
   "outputs": [
    {
     "name": "stdout",
     "output_type": "stream",
     "text": [
      "9 entries are missing the 'SupportedLanguages' data.\n",
      "There are 2321 unique values in 'SupportedLanguages' column.\n"
     ]
    }
   ],
   "source": [
    "print(\"{} entries are missing the 'SupportedLanguages' data.\".format(len(df[df.SupportedLanguages == ' '])))\n",
    "print(\"There are {} unique values in 'SupportedLanguages' column.\".format(len(df.SupportedLanguages.unique())))"
   ]
  },
  {
   "cell_type": "markdown",
   "metadata": {},
   "source": [
    "We could be more interested in the number of supported languages and if a game supports English language or not. Let's parse this data and save our results in new columns."
   ]
  },
  {
   "cell_type": "code",
   "execution_count": 25,
   "metadata": {},
   "outputs": [],
   "source": [
    "# get all unique values, to construct an array of all supported languages and understand the data\n",
    "supported_languages = list(df.SupportedLanguages.unique()) \n",
    "# print(supported_languages)\n",
    "\n",
    "#function for the exploration of these values had to be destroyed for the greater good of programming community (sorry)"
   ]
  },
  {
   "cell_type": "markdown",
   "metadata": {},
   "source": [
    "**Values format:** Most of the data contains a list of languages separated with space. Some of these languages are suffixed with '*' and the list contains '*languages with full audio support' at the end. A few entries end with '(all with full audio support)' or '(text only)' instead of '*languages with full audio support'. Some entries use '[b]*[/b]' instead of simple '*'. Three entries are missing spaces between the languages and two entries contain semicolon after 'German' language.\n",
    "\n",
    "**Conclusion:** To determine if a game supports the English language, we can simply search if the value contains \"English\". If we want to count how many languages a game supports, we will search the value for all possible languages and count each occurrence. We will need a set of these languages for this.\n"
   ]
  },
  {
   "cell_type": "code",
   "execution_count": 26,
   "metadata": {},
   "outputs": [],
   "source": [
    "# array of all languages from the data\n",
    "languages = set(['English','French','German','Italian','Spanish','Russian','Korean','Danish','Dutch','Finnish',\\\n",
    "                 'Italian','Japanese','Norwegian','Polish','Portuguese','Swedish','Traditional Chinese',\\\n",
    "                 'Simplified Chinese','Czech','Hungarian','Bulgarian','Portuguese-Brazil','Ukrainian','Turkish','Greek',\\\n",
    "                 'Romanian','Thai','Slovakian','Arabic'])"
   ]
  },
  {
   "cell_type": "code",
   "execution_count": 27,
   "metadata": {},
   "outputs": [],
   "source": [
    "# create a new column with Boolean value True: game supports Eng / False: game does not support Eng\n",
    "df['SupportsEnglish'] = df.apply(lambda row: supports_english(row), axis=1)"
   ]
  },
  {
   "cell_type": "code",
   "execution_count": 28,
   "metadata": {},
   "outputs": [
    {
     "name": "stdout",
     "output_type": "stream",
     "text": [
      "There are 52 games that do not support the English language at all.\n"
     ]
    }
   ],
   "source": [
    "print('There are {} games that do not support the English language at all.'.format(len(df[df.SupportsEnglish==False])))"
   ]
  },
  {
   "cell_type": "code",
   "execution_count": 29,
   "metadata": {},
   "outputs": [],
   "source": [
    "# replace the column values with number of supported languages\n",
    "df['SupportedLanguages'] = df.apply(lambda row: count_languages(row,languages), axis=1)"
   ]
  },
  {
   "cell_type": "code",
   "execution_count": 30,
   "metadata": {},
   "outputs": [
    {
     "name": "stdout",
     "output_type": "stream",
     "text": [
      "Now 9 entries (missing values) should have a value 0.\n"
     ]
    }
   ],
   "source": [
    "print(\"Now {} entries (missing values) should have a value 0.\".format(len(df[df.SupportedLanguages == 0])))"
   ]
  },
  {
   "cell_type": "markdown",
   "metadata": {},
   "source": [
    "Let's have a look at attributes 'IsFree', 'FreeVerAvail', 'PurchaseAvail', 'PriceCurrency', 'PriceInitial' and 'PriceFinal' to understand them better. We might not need all of these attributes."
   ]
  },
  {
   "cell_type": "code",
   "execution_count": 31,
   "metadata": {},
   "outputs": [
    {
     "data": {
      "text/plain": [
       "array(['USD', ' '], dtype=object)"
      ]
     },
     "execution_count": 31,
     "metadata": {},
     "output_type": "execute_result"
    }
   ],
   "source": [
    "df.PriceCurrency.unique()"
   ]
  },
  {
   "cell_type": "markdown",
   "metadata": {},
   "source": [
    "Price currency is only in USD or has a missing value. This could be a sign, that all prices are in USD and we can drop this column. But let's investigate further."
   ]
  },
  {
   "cell_type": "code",
   "execution_count": 32,
   "metadata": {},
   "outputs": [
    {
     "name": "stdout",
     "output_type": "stream",
     "text": [
      "Unique values for entries with missing currency values:\n",
      "- 'PriceInitial': [0.]\n",
      "- 'PriceFinal': [0.]\n"
     ]
    }
   ],
   "source": [
    "print(\"Unique values for entries with missing currency values:\\n- 'PriceInitial': {}\\n- 'PriceFinal': {}\"\\\n",
    "      .format(df[df.PriceCurrency == ' '].PriceInitial.unique(),df[df.PriceCurrency == ' '].PriceFinal.unique()))\n"
   ]
  },
  {
   "cell_type": "markdown",
   "metadata": {},
   "source": [
    "Apparently, games with a missing value for 'PriceCurrency' attribute are all free. We can drop this column."
   ]
  },
  {
   "cell_type": "code",
   "execution_count": 33,
   "metadata": {},
   "outputs": [],
   "source": [
    "df.drop(['PriceCurrency'], axis=1, inplace=True) # drop 'PriceCurrency' column"
   ]
  },
  {
   "cell_type": "markdown",
   "metadata": {},
   "source": [
    "The 'PriceInitial' and the 'PriceFinal' are our only numerical price features so we will keep them. However, we might use only one of them for our analysis and modeling, because the percentage of entries that have different Initial and final price is insignificant."
   ]
  },
  {
   "cell_type": "code",
   "execution_count": 34,
   "metadata": {},
   "outputs": [
    {
     "name": "stdout",
     "output_type": "stream",
     "text": [
      "686 of games had a price drop, 0 of game's prices increased and 0 of games became free.\n",
      "Only 5.60% of games changed the price.\n"
     ]
    }
   ],
   "source": [
    "drop = len(df[df.PriceInitial > df.PriceFinal]) # price drop\n",
    "increase = len(df[df.PriceInitial < df.PriceFinal]) # price increase\n",
    "free = len(df[(df.PriceInitial != 0) & (df.PriceFinal == 0)]) # made free\n",
    "\n",
    "print(\"{} of games had a price drop, {} of game's prices increased and {} of games became free.\"\\\n",
    "     .format(drop,increase,free))\n",
    "print(\"Only {:0.2f}% of games changed the price.\".format((drop+increase)/len(df)*100))"
   ]
  },
  {
   "cell_type": "markdown",
   "metadata": {},
   "source": [
    "Our 'PurchaseAvail' should be pretty straightforward. This boolean attribute should be true if the price is bigger than $0.00."
   ]
  },
  {
   "cell_type": "code",
   "execution_count": 35,
   "metadata": {},
   "outputs": [
    {
     "data": {
      "text/plain": [
       "72"
      ]
     },
     "execution_count": 35,
     "metadata": {},
     "output_type": "execute_result"
    }
   ],
   "source": [
    "len(df[(df.PurchaseAvail  == True) & (df.PriceFinal == 0.0)]) # this sould be close to 0\n",
    "# NOTE: we don't need to test this for 'PriceFinal' because we've already shown that no price dopped to $0.00"
   ]
  },
  {
   "cell_type": "markdown",
   "metadata": {},
   "source": [
    "The 'IsFree' attributes 'FreeVerAvail' shouldn't represent the same feature of the data, though it's not that clear what's the information they hold. Let's try to determine this."
   ]
  },
  {
   "cell_type": "code",
   "execution_count": 36,
   "metadata": {},
   "outputs": [
    {
     "name": "stdout",
     "output_type": "stream",
     "text": [
      "There are approximately(!!) 2055 free games in the dataset.\n",
      "'IsFree' == True : 884\n",
      "'FreeVerAvail' == True : 26\n",
      "\n",
      "'IsFree' == True && 'FreeVerAvail' == False: 860\n",
      "'IsFree' == False && 'FreeVerAvail' == True: 2\n",
      "\n",
      "'IsFree' == True && 'PriceInitial' > $0.00: 42\n",
      "'FreeVerAvail' == True && 'PriceInitial' > $0.00: 4\n",
      "\n"
     ]
    }
   ],
   "source": [
    "print('There are approximately(!!) {} free games in the dataset.'.format(len(df[df.PurchaseAvail == False])))\n",
    "# NOTE: Remmember that also missing values are FALSE values - therefore it is only approximation!\n",
    "\n",
    "print(\"'IsFree' == True : {}\".format(len(df[df.IsFree == True])))\n",
    "print(\"'FreeVerAvail' == True : {}\\n\".format(len(df[df.FreeVerAvail == True])))\n",
    "\n",
    "print(\"'IsFree' == True && 'FreeVerAvail' == False: {}\"\\\n",
    "      .format(len(df[(df.IsFree == True) & (df.FreeVerAvail  == False)])))\n",
    "print(\"'IsFree' == False && 'FreeVerAvail' == True: {}\\n\"\\\n",
    "      .format(len(df[(df.IsFree == False) & (df.FreeVerAvail  == True)])))\n",
    "\n",
    "print(\"'IsFree' == True && 'PriceInitial' > $0.00: {}\"\\\n",
    "      .format(len(df[(df.IsFree == True) & (df.PriceInitial  > 0)])))\n",
    "print(\"'FreeVerAvail' == True && 'PriceInitial' > $0.00: {}\\n\"\\\n",
    "      .format(len(df[(df.FreeVerAvail == True) & (df.PriceInitial  > 0)])))"
   ]
  },
  {
   "cell_type": "markdown",
   "metadata": {},
   "source": [
    "The approximation of free games would be most likely closer to true if we would have deleted invalid entries previously. Though, from these observations (and after a manual search on steam), we can assume, that 'IsFree' attribute represents a Free game. The 'FreeVerAvail' attribute represents a game that has a free version along with a paid one (for example one of the episodes is free).\n",
    "\n",
    "Attribute 'FreeVerAvail' is useless for our purposes and we will drop it. Now we practically have two attributes with a Free/Paid information. We might want to drop one of these after we're done with the data cleaning. We'll decide which one is more accurate afterward. In the best-case scenario we'll get 'IsFree' == !'PurchaseAvail' and we'll be able to drop either of them."
   ]
  },
  {
   "cell_type": "code",
   "execution_count": 37,
   "metadata": {},
   "outputs": [],
   "source": [
    "df.drop(['FreeVerAvail'], axis=1, inplace=True) # drop 'FreeVerAvail' column"
   ]
  },
  {
   "cell_type": "markdown",
   "metadata": {},
   "source": [
    "We will keep all other attributes. Let's rename the columns we are left with and finish the Column selection process. After all, we've changed the meaning of some columns."
   ]
  },
  {
   "cell_type": "code",
   "execution_count": 38,
   "metadata": {},
   "outputs": [],
   "source": [
    "df.rename(columns={'ResponseName':'Name','MovieCount':'StoreVideoCount','PackageCount':'BundleCount'\\\n",
    "                  ,'ScreenshotCount':'StoreScreenshotCount','PurchaseAvail':'IsPaid'\\\n",
    "                  ,'SubscriptionAvail':'SubscriptionOption','SupportedLanguages':'LanguageCount'}, inplace=True)"
   ]
  },
  {
   "cell_type": "markdown",
   "metadata": {},
   "source": [
    "Here are all the attributes we now have in our attribute:"
   ]
  },
  {
   "cell_type": "code",
   "execution_count": 39,
   "metadata": {},
   "outputs": [
    {
     "name": "stdout",
     "output_type": "stream",
     "text": [
      "51 columns:\n",
      "['Name', 'ReleaseDate', 'RequiredAge', 'DemoCount', 'DeveloperCount', 'DLCCount', 'Metacritic', 'StoreVideoCount', 'BundleCount', 'RecommendationCount', 'PublisherCount', 'StoreScreenshotCount', 'SteamSpyOwners', 'SteamSpyOwnersVariance', 'SteamSpyPlayersEstimate', 'SteamSpyPlayersVariance', 'AchievementCount', 'ControllerSupport', 'IsFree', 'IsPaid', 'SubscriptionOption', 'PlatformWindows', 'PlatformLinux', 'PlatformMac', 'CategorySinglePlayer', 'CategoryMultiplayer', 'CategoryCoop', 'CategoryMMO', 'CategoryInAppPurchase', 'CategoryIncludeSrcSDK', 'CategoryIncludeLevelEditor', 'CategoryVRSupport', 'GenreIsIndie', 'GenreIsAction', 'GenreIsAdventure', 'GenreIsCasual', 'GenreIsStrategy', 'GenreIsRPG', 'GenreIsSimulation', 'GenreIsEarlyAccess', 'GenreIsFreeToPlay', 'GenreIsSports', 'GenreIsRacing', 'GenreIsMassivelyMultiplayer', 'PriceInitial', 'PriceFinal', 'AboutText', 'Background', 'ShortDescrip', 'LanguageCount', 'SupportsEnglish']\n"
     ]
    }
   ],
   "source": [
    "columns = list(df.columns)\n",
    "print(\"{} columns:\\n{}\".format(len(columns),columns))"
   ]
  },
  {
   "cell_type": "markdown",
   "metadata": {},
   "source": [
    "### Missing/Invalid values handling\n",
    "\n",
    "Now we can proceed with handling missing and invalid values. Let's go through all of our columns one by one and review the values.\n",
    "\n",
    "Column **Name** does not have any missing values. Let's have a look at **ReleaseDate**."
   ]
  },
  {
   "cell_type": "code",
   "execution_count": 40,
   "metadata": {},
   "outputs": [
    {
     "data": {
      "text/plain": [
       "0    Nov 1 2000\n",
       "1    Apr 1 1999\n",
       "2    May 1 2003\n",
       "3    Jun 1 2001\n",
       "4    Nov 1 1999\n",
       "Name: ReleaseDate, dtype: object"
      ]
     },
     "execution_count": 40,
     "metadata": {},
     "output_type": "execute_result"
    }
   ],
   "source": [
    "df.ReleaseDate.head()"
   ]
  },
  {
   "cell_type": "markdown",
   "metadata": {},
   "source": [
    "We can see what our default Date format looks like. Of course, these are all strings and we would like to convert it into something more useful. But first, let's check if there are any invalid values and how do they look like, so as we can fix all the problems before our conversion."
   ]
  },
  {
   "cell_type": "code",
   "execution_count": 41,
   "metadata": {},
   "outputs": [],
   "source": [
    "exec(compile(open(\"utils/utils.py\", \"rb\").read(), \"utils/utils.py\", 'exec'))"
   ]
  },
  {
   "cell_type": "code",
   "execution_count": 42,
   "metadata": {},
   "outputs": [
    {
     "name": "stdout",
     "output_type": "stream",
     "text": [
      "There are 205 unique invalid values and 845 entries containing invalid value (including 74 missing values).\n"
     ]
    }
   ],
   "source": [
    "# set the format string\n",
    "format_str = \"%b %d %Y\"\n",
    "\n",
    "# we will go through all the values and put the invalid ones into a set\n",
    "invalid_values = find_invalid_dates(df,format_str)\n",
    "\n",
    "# count entries with invalid values\n",
    "cnt = 0\n",
    "for i in invalid_values:\n",
    "    cnt += len(df[df.ReleaseDate == i])\n",
    "\n",
    "print('There are {} unique invalid values and {} entries containing invalid value (including {} missing values).'\\\n",
    "      .format(len(invalid_values),cnt,len(df[df.ReleaseDate == ' '])))"
   ]
  },
  {
   "cell_type": "markdown",
   "metadata": {},
   "source": [
    "**Few examples of invalid values:**\n",
    "    - Differen foramt: '07.11.2016', '12th December 2016', 'December 16 2016', '10/3/16'\n",
    "    - Missing parts: 'Dec 2015', '2017', 'September'\n",
    "    - Inaccurate: 'Summer 2017', 'Q2 2017', 'Mid-2017', 'Late Summer - 2016', 'Late 2016', 'Holiday 2017', 'Early October', 'Harvest 2016', 'Q4 (ish) 2016'\n",
    "    - Other: 'Before the Apocalypse', 'COMING SOON!', 'League of Evil is preparing its evil plans...', 'Not yet available', 'Someday', 'TBA', 'TBD', 'When its done', 'When you least expect it'\n",
    "    \n",
    "And many others."
   ]
  },
  {
   "cell_type": "markdown",
   "metadata": {},
   "source": [
    "Of course, we should try to fix this values. **[TODO]**\n",
    "\n",
    "But for now..."
   ]
  },
  {
   "cell_type": "code",
   "execution_count": 43,
   "metadata": {},
   "outputs": [
    {
     "name": "stdout",
     "output_type": "stream",
     "text": [
      "7.50% of the Release Dates are invalid or missing.\n"
     ]
    }
   ],
   "source": [
    "print('{:0.2f}% of the Release Dates are invalid or missing.'.format((len(df[df.ReleaseDate==' '])+cnt)/len(df)*100))\n",
    "\n",
    "invalid_values.add(' ')\n",
    "mask = []\n",
    "mask = df.ReleaseDate.map(lambda s: True if s in invalid_values else False)\n",
    "\n",
    "df.drop(df[mask].index, axis=0, inplace=True) # drop entries with invalid or missing ReleaseDate"
   ]
  },
  {
   "cell_type": "markdown",
   "metadata": {},
   "source": [
    "Now, we can change the strings to datetime:"
   ]
  },
  {
   "cell_type": "code",
   "execution_count": 44,
   "metadata": {},
   "outputs": [],
   "source": [
    "df.ReleaseDate = df.ReleaseDate.map(lambda s: dt.datetime.strptime(s, format_str))"
   ]
  },
  {
   "cell_type": "markdown",
   "metadata": {},
   "source": [
    "This is how our Release Dates looks like now:"
   ]
  },
  {
   "cell_type": "code",
   "execution_count": 45,
   "metadata": {},
   "outputs": [
    {
     "data": {
      "text/plain": [
       "0   2000-11-01\n",
       "1   1999-04-01\n",
       "2   2003-05-01\n",
       "3   2001-06-01\n",
       "4   1999-11-01\n",
       "Name: ReleaseDate, dtype: datetime64[ns]"
      ]
     },
     "execution_count": 45,
     "metadata": {},
     "output_type": "execute_result"
    }
   ],
   "source": [
    "df.ReleaseDate.head()"
   ]
  },
  {
   "cell_type": "markdown",
   "metadata": {},
   "source": [
    "In most of the other columns, we are not able to distinguish missing values that well. In boolean columns, the missing value is False, which is also a valid value. In columns with numerical values, the missing value is 0, which is also a valid value.\n",
    "\n",
    "For example: If 'Metacritic' == 0, the game has not yet been rated. If 'PriceInitial' == 0.00, the game is free. If 'DemoCount' == 0, the game has no demos available.\n",
    "\n",
    "But there are of course some columns for which this methodology doesn't make sense. How can 'DeveloperCount' or 'PublisherCount' be 0? Based on a quick manual search on Steam, not all games have their developer or publisher stated, therefore it is 0.\n",
    "\n",
    "There are also some 0 values in columns 'SteamSpyOwners', 'SteamSpyOwnersVariance' and 'SteamSpyPlayersEstimate', 'SteamSpyPlayersVariance' and there shouldn't be. Some of these games do not exist anymore, are not on SteamSpy or were not on SteamSpy when the dataset was created.\n",
    "\n",
    "For now, we will only check if there are not some invalid values (e.g. negative values) and in case some of the columns would be really relevant to our analysis, we'll make a sample of the data that based on this column."
   ]
  },
  {
   "cell_type": "code",
   "execution_count": 46,
   "metadata": {},
   "outputs": [
    {
     "data": {
      "text/plain": [
       "Name                                   object\n",
       "ReleaseDate                    datetime64[ns]\n",
       "RequiredAge                             int64\n",
       "DemoCount                               int64\n",
       "DeveloperCount                          int64\n",
       "DLCCount                                int64\n",
       "Metacritic                              int64\n",
       "StoreVideoCount                         int64\n",
       "BundleCount                             int64\n",
       "RecommendationCount                     int64\n",
       "PublisherCount                          int64\n",
       "StoreScreenshotCount                    int64\n",
       "SteamSpyOwners                          int64\n",
       "SteamSpyOwnersVariance                  int64\n",
       "SteamSpyPlayersEstimate                 int64\n",
       "SteamSpyPlayersVariance                 int64\n",
       "AchievementCount                        int64\n",
       "ControllerSupport                        bool\n",
       "IsFree                                   bool\n",
       "IsPaid                                   bool\n",
       "SubscriptionOption                       bool\n",
       "PlatformWindows                          bool\n",
       "PlatformLinux                            bool\n",
       "PlatformMac                              bool\n",
       "CategorySinglePlayer                     bool\n",
       "CategoryMultiplayer                      bool\n",
       "CategoryCoop                             bool\n",
       "CategoryMMO                              bool\n",
       "CategoryInAppPurchase                    bool\n",
       "CategoryIncludeSrcSDK                    bool\n",
       "CategoryIncludeLevelEditor               bool\n",
       "CategoryVRSupport                        bool\n",
       "GenreIsIndie                             bool\n",
       "GenreIsAction                            bool\n",
       "GenreIsAdventure                         bool\n",
       "GenreIsCasual                            bool\n",
       "GenreIsStrategy                          bool\n",
       "GenreIsRPG                               bool\n",
       "GenreIsSimulation                        bool\n",
       "GenreIsEarlyAccess                       bool\n",
       "GenreIsFreeToPlay                        bool\n",
       "GenreIsSports                            bool\n",
       "GenreIsRacing                            bool\n",
       "GenreIsMassivelyMultiplayer              bool\n",
       "PriceInitial                          float64\n",
       "PriceFinal                            float64\n",
       "AboutText                                bool\n",
       "Background                               bool\n",
       "ShortDescrip                             bool\n",
       "LanguageCount                           int64\n",
       "SupportsEnglish                          bool\n",
       "dtype: object"
      ]
     },
     "execution_count": 46,
     "metadata": {},
     "output_type": "execute_result"
    }
   ],
   "source": [
    "# check datatypes\n",
    "df.dtypes"
   ]
  },
  {
   "cell_type": "code",
   "execution_count": 47,
   "metadata": {},
   "outputs": [],
   "source": [
    "# check unique values\n",
    "#for col in columns:\n",
    "#    print(df[col].unique())"
   ]
  },
  {
   "cell_type": "markdown",
   "metadata": {},
   "source": [
    "Everything looks fine and we can proceed with Data Exploration and visualization. This is how our data looks like now:"
   ]
  },
  {
   "cell_type": "code",
   "execution_count": 48,
   "metadata": {},
   "outputs": [
    {
     "name": "stdout",
     "output_type": "stream",
     "text": [
      "The shape of the dataset is (11404, 51).\n"
     ]
    },
    {
     "data": {
      "text/html": [
       "<div>\n",
       "<style scoped>\n",
       "    .dataframe tbody tr th:only-of-type {\n",
       "        vertical-align: middle;\n",
       "    }\n",
       "\n",
       "    .dataframe tbody tr th {\n",
       "        vertical-align: top;\n",
       "    }\n",
       "\n",
       "    .dataframe thead th {\n",
       "        text-align: right;\n",
       "    }\n",
       "</style>\n",
       "<table border=\"1\" class=\"dataframe\">\n",
       "  <thead>\n",
       "    <tr style=\"text-align: right;\">\n",
       "      <th></th>\n",
       "      <th>Name</th>\n",
       "      <th>ReleaseDate</th>\n",
       "      <th>RequiredAge</th>\n",
       "      <th>DemoCount</th>\n",
       "      <th>DeveloperCount</th>\n",
       "      <th>DLCCount</th>\n",
       "      <th>Metacritic</th>\n",
       "      <th>StoreVideoCount</th>\n",
       "      <th>BundleCount</th>\n",
       "      <th>RecommendationCount</th>\n",
       "      <th>PublisherCount</th>\n",
       "      <th>StoreScreenshotCount</th>\n",
       "      <th>SteamSpyOwners</th>\n",
       "      <th>SteamSpyOwnersVariance</th>\n",
       "      <th>SteamSpyPlayersEstimate</th>\n",
       "      <th>SteamSpyPlayersVariance</th>\n",
       "      <th>AchievementCount</th>\n",
       "      <th>ControllerSupport</th>\n",
       "      <th>IsFree</th>\n",
       "      <th>IsPaid</th>\n",
       "      <th>SubscriptionOption</th>\n",
       "      <th>PlatformWindows</th>\n",
       "      <th>PlatformLinux</th>\n",
       "      <th>PlatformMac</th>\n",
       "      <th>CategorySinglePlayer</th>\n",
       "      <th>CategoryMultiplayer</th>\n",
       "      <th>CategoryCoop</th>\n",
       "      <th>CategoryMMO</th>\n",
       "      <th>CategoryInAppPurchase</th>\n",
       "      <th>CategoryIncludeSrcSDK</th>\n",
       "      <th>CategoryIncludeLevelEditor</th>\n",
       "      <th>CategoryVRSupport</th>\n",
       "      <th>GenreIsIndie</th>\n",
       "      <th>GenreIsAction</th>\n",
       "      <th>GenreIsAdventure</th>\n",
       "      <th>GenreIsCasual</th>\n",
       "      <th>GenreIsStrategy</th>\n",
       "      <th>GenreIsRPG</th>\n",
       "      <th>GenreIsSimulation</th>\n",
       "      <th>GenreIsEarlyAccess</th>\n",
       "      <th>GenreIsFreeToPlay</th>\n",
       "      <th>GenreIsSports</th>\n",
       "      <th>GenreIsRacing</th>\n",
       "      <th>GenreIsMassivelyMultiplayer</th>\n",
       "      <th>PriceInitial</th>\n",
       "      <th>PriceFinal</th>\n",
       "      <th>AboutText</th>\n",
       "      <th>Background</th>\n",
       "      <th>ShortDescrip</th>\n",
       "      <th>LanguageCount</th>\n",
       "      <th>SupportsEnglish</th>\n",
       "    </tr>\n",
       "  </thead>\n",
       "  <tbody>\n",
       "    <tr>\n",
       "      <th>0</th>\n",
       "      <td>Counter-Strike</td>\n",
       "      <td>2000-11-01</td>\n",
       "      <td>0</td>\n",
       "      <td>0</td>\n",
       "      <td>1</td>\n",
       "      <td>0</td>\n",
       "      <td>88</td>\n",
       "      <td>0</td>\n",
       "      <td>1</td>\n",
       "      <td>68991</td>\n",
       "      <td>1</td>\n",
       "      <td>13</td>\n",
       "      <td>13033334</td>\n",
       "      <td>92789</td>\n",
       "      <td>9140731</td>\n",
       "      <td>78136</td>\n",
       "      <td>0</td>\n",
       "      <td>False</td>\n",
       "      <td>False</td>\n",
       "      <td>True</td>\n",
       "      <td>False</td>\n",
       "      <td>True</td>\n",
       "      <td>True</td>\n",
       "      <td>True</td>\n",
       "      <td>False</td>\n",
       "      <td>True</td>\n",
       "      <td>False</td>\n",
       "      <td>False</td>\n",
       "      <td>False</td>\n",
       "      <td>False</td>\n",
       "      <td>False</td>\n",
       "      <td>False</td>\n",
       "      <td>False</td>\n",
       "      <td>True</td>\n",
       "      <td>False</td>\n",
       "      <td>False</td>\n",
       "      <td>False</td>\n",
       "      <td>False</td>\n",
       "      <td>False</td>\n",
       "      <td>False</td>\n",
       "      <td>False</td>\n",
       "      <td>False</td>\n",
       "      <td>False</td>\n",
       "      <td>False</td>\n",
       "      <td>9.99</td>\n",
       "      <td>9.99</td>\n",
       "      <td>True</td>\n",
       "      <td>True</td>\n",
       "      <td>False</td>\n",
       "      <td>8</td>\n",
       "      <td>True</td>\n",
       "    </tr>\n",
       "    <tr>\n",
       "      <th>1</th>\n",
       "      <td>Team Fortress Classic</td>\n",
       "      <td>1999-04-01</td>\n",
       "      <td>0</td>\n",
       "      <td>0</td>\n",
       "      <td>1</td>\n",
       "      <td>0</td>\n",
       "      <td>0</td>\n",
       "      <td>0</td>\n",
       "      <td>1</td>\n",
       "      <td>2439</td>\n",
       "      <td>1</td>\n",
       "      <td>5</td>\n",
       "      <td>5399140</td>\n",
       "      <td>60368</td>\n",
       "      <td>753627</td>\n",
       "      <td>22699</td>\n",
       "      <td>0</td>\n",
       "      <td>False</td>\n",
       "      <td>False</td>\n",
       "      <td>True</td>\n",
       "      <td>False</td>\n",
       "      <td>True</td>\n",
       "      <td>True</td>\n",
       "      <td>True</td>\n",
       "      <td>False</td>\n",
       "      <td>True</td>\n",
       "      <td>False</td>\n",
       "      <td>False</td>\n",
       "      <td>False</td>\n",
       "      <td>False</td>\n",
       "      <td>False</td>\n",
       "      <td>False</td>\n",
       "      <td>False</td>\n",
       "      <td>True</td>\n",
       "      <td>False</td>\n",
       "      <td>False</td>\n",
       "      <td>False</td>\n",
       "      <td>False</td>\n",
       "      <td>False</td>\n",
       "      <td>False</td>\n",
       "      <td>False</td>\n",
       "      <td>False</td>\n",
       "      <td>False</td>\n",
       "      <td>False</td>\n",
       "      <td>4.99</td>\n",
       "      <td>4.99</td>\n",
       "      <td>True</td>\n",
       "      <td>True</td>\n",
       "      <td>False</td>\n",
       "      <td>5</td>\n",
       "      <td>True</td>\n",
       "    </tr>\n",
       "    <tr>\n",
       "      <th>2</th>\n",
       "      <td>Day of Defeat</td>\n",
       "      <td>2003-05-01</td>\n",
       "      <td>0</td>\n",
       "      <td>0</td>\n",
       "      <td>1</td>\n",
       "      <td>0</td>\n",
       "      <td>79</td>\n",
       "      <td>0</td>\n",
       "      <td>1</td>\n",
       "      <td>2319</td>\n",
       "      <td>1</td>\n",
       "      <td>5</td>\n",
       "      <td>7621102</td>\n",
       "      <td>71499</td>\n",
       "      <td>1709740</td>\n",
       "      <td>34145</td>\n",
       "      <td>0</td>\n",
       "      <td>False</td>\n",
       "      <td>False</td>\n",
       "      <td>True</td>\n",
       "      <td>False</td>\n",
       "      <td>True</td>\n",
       "      <td>True</td>\n",
       "      <td>True</td>\n",
       "      <td>False</td>\n",
       "      <td>True</td>\n",
       "      <td>False</td>\n",
       "      <td>False</td>\n",
       "      <td>False</td>\n",
       "      <td>False</td>\n",
       "      <td>False</td>\n",
       "      <td>False</td>\n",
       "      <td>False</td>\n",
       "      <td>True</td>\n",
       "      <td>False</td>\n",
       "      <td>False</td>\n",
       "      <td>False</td>\n",
       "      <td>False</td>\n",
       "      <td>False</td>\n",
       "      <td>False</td>\n",
       "      <td>False</td>\n",
       "      <td>False</td>\n",
       "      <td>False</td>\n",
       "      <td>False</td>\n",
       "      <td>4.99</td>\n",
       "      <td>4.99</td>\n",
       "      <td>True</td>\n",
       "      <td>True</td>\n",
       "      <td>False</td>\n",
       "      <td>5</td>\n",
       "      <td>True</td>\n",
       "    </tr>\n",
       "    <tr>\n",
       "      <th>3</th>\n",
       "      <td>Deathmatch Classic</td>\n",
       "      <td>2001-06-01</td>\n",
       "      <td>0</td>\n",
       "      <td>0</td>\n",
       "      <td>1</td>\n",
       "      <td>0</td>\n",
       "      <td>0</td>\n",
       "      <td>0</td>\n",
       "      <td>1</td>\n",
       "      <td>888</td>\n",
       "      <td>1</td>\n",
       "      <td>4</td>\n",
       "      <td>7498965</td>\n",
       "      <td>70936</td>\n",
       "      <td>789676</td>\n",
       "      <td>23235</td>\n",
       "      <td>0</td>\n",
       "      <td>False</td>\n",
       "      <td>False</td>\n",
       "      <td>True</td>\n",
       "      <td>False</td>\n",
       "      <td>True</td>\n",
       "      <td>True</td>\n",
       "      <td>True</td>\n",
       "      <td>False</td>\n",
       "      <td>True</td>\n",
       "      <td>False</td>\n",
       "      <td>False</td>\n",
       "      <td>False</td>\n",
       "      <td>False</td>\n",
       "      <td>False</td>\n",
       "      <td>False</td>\n",
       "      <td>False</td>\n",
       "      <td>True</td>\n",
       "      <td>False</td>\n",
       "      <td>False</td>\n",
       "      <td>False</td>\n",
       "      <td>False</td>\n",
       "      <td>False</td>\n",
       "      <td>False</td>\n",
       "      <td>False</td>\n",
       "      <td>False</td>\n",
       "      <td>False</td>\n",
       "      <td>False</td>\n",
       "      <td>4.99</td>\n",
       "      <td>4.99</td>\n",
       "      <td>True</td>\n",
       "      <td>True</td>\n",
       "      <td>False</td>\n",
       "      <td>5</td>\n",
       "      <td>True</td>\n",
       "    </tr>\n",
       "    <tr>\n",
       "      <th>4</th>\n",
       "      <td>Half-Life: Opposing Force</td>\n",
       "      <td>1999-11-01</td>\n",
       "      <td>0</td>\n",
       "      <td>0</td>\n",
       "      <td>1</td>\n",
       "      <td>0</td>\n",
       "      <td>0</td>\n",
       "      <td>0</td>\n",
       "      <td>1</td>\n",
       "      <td>2934</td>\n",
       "      <td>1</td>\n",
       "      <td>5</td>\n",
       "      <td>5399499</td>\n",
       "      <td>60370</td>\n",
       "      <td>705741</td>\n",
       "      <td>21968</td>\n",
       "      <td>0</td>\n",
       "      <td>False</td>\n",
       "      <td>False</td>\n",
       "      <td>True</td>\n",
       "      <td>False</td>\n",
       "      <td>True</td>\n",
       "      <td>True</td>\n",
       "      <td>True</td>\n",
       "      <td>True</td>\n",
       "      <td>True</td>\n",
       "      <td>False</td>\n",
       "      <td>False</td>\n",
       "      <td>False</td>\n",
       "      <td>False</td>\n",
       "      <td>False</td>\n",
       "      <td>False</td>\n",
       "      <td>False</td>\n",
       "      <td>True</td>\n",
       "      <td>False</td>\n",
       "      <td>False</td>\n",
       "      <td>False</td>\n",
       "      <td>False</td>\n",
       "      <td>False</td>\n",
       "      <td>False</td>\n",
       "      <td>False</td>\n",
       "      <td>False</td>\n",
       "      <td>False</td>\n",
       "      <td>False</td>\n",
       "      <td>4.99</td>\n",
       "      <td>4.99</td>\n",
       "      <td>True</td>\n",
       "      <td>True</td>\n",
       "      <td>False</td>\n",
       "      <td>4</td>\n",
       "      <td>True</td>\n",
       "    </tr>\n",
       "    <tr>\n",
       "      <th>5</th>\n",
       "      <td>Ricochet</td>\n",
       "      <td>2000-11-01</td>\n",
       "      <td>0</td>\n",
       "      <td>0</td>\n",
       "      <td>1</td>\n",
       "      <td>0</td>\n",
       "      <td>0</td>\n",
       "      <td>0</td>\n",
       "      <td>1</td>\n",
       "      <td>1965</td>\n",
       "      <td>1</td>\n",
       "      <td>4</td>\n",
       "      <td>7488563</td>\n",
       "      <td>70888</td>\n",
       "      <td>843481</td>\n",
       "      <td>24011</td>\n",
       "      <td>0</td>\n",
       "      <td>False</td>\n",
       "      <td>False</td>\n",
       "      <td>True</td>\n",
       "      <td>False</td>\n",
       "      <td>True</td>\n",
       "      <td>True</td>\n",
       "      <td>True</td>\n",
       "      <td>False</td>\n",
       "      <td>True</td>\n",
       "      <td>False</td>\n",
       "      <td>False</td>\n",
       "      <td>False</td>\n",
       "      <td>False</td>\n",
       "      <td>False</td>\n",
       "      <td>False</td>\n",
       "      <td>False</td>\n",
       "      <td>True</td>\n",
       "      <td>False</td>\n",
       "      <td>False</td>\n",
       "      <td>False</td>\n",
       "      <td>False</td>\n",
       "      <td>False</td>\n",
       "      <td>False</td>\n",
       "      <td>False</td>\n",
       "      <td>False</td>\n",
       "      <td>False</td>\n",
       "      <td>False</td>\n",
       "      <td>4.99</td>\n",
       "      <td>4.99</td>\n",
       "      <td>True</td>\n",
       "      <td>True</td>\n",
       "      <td>False</td>\n",
       "      <td>5</td>\n",
       "      <td>True</td>\n",
       "    </tr>\n",
       "    <tr>\n",
       "      <th>6</th>\n",
       "      <td>Half-Life</td>\n",
       "      <td>1998-11-08</td>\n",
       "      <td>0</td>\n",
       "      <td>0</td>\n",
       "      <td>1</td>\n",
       "      <td>1</td>\n",
       "      <td>96</td>\n",
       "      <td>0</td>\n",
       "      <td>1</td>\n",
       "      <td>12486</td>\n",
       "      <td>1</td>\n",
       "      <td>11</td>\n",
       "      <td>5927504</td>\n",
       "      <td>63206</td>\n",
       "      <td>2268772</td>\n",
       "      <td>39303</td>\n",
       "      <td>0</td>\n",
       "      <td>False</td>\n",
       "      <td>False</td>\n",
       "      <td>True</td>\n",
       "      <td>False</td>\n",
       "      <td>True</td>\n",
       "      <td>True</td>\n",
       "      <td>True</td>\n",
       "      <td>True</td>\n",
       "      <td>True</td>\n",
       "      <td>False</td>\n",
       "      <td>False</td>\n",
       "      <td>False</td>\n",
       "      <td>False</td>\n",
       "      <td>False</td>\n",
       "      <td>False</td>\n",
       "      <td>False</td>\n",
       "      <td>True</td>\n",
       "      <td>False</td>\n",
       "      <td>False</td>\n",
       "      <td>False</td>\n",
       "      <td>False</td>\n",
       "      <td>False</td>\n",
       "      <td>False</td>\n",
       "      <td>False</td>\n",
       "      <td>False</td>\n",
       "      <td>False</td>\n",
       "      <td>False</td>\n",
       "      <td>9.99</td>\n",
       "      <td>9.99</td>\n",
       "      <td>True</td>\n",
       "      <td>True</td>\n",
       "      <td>False</td>\n",
       "      <td>8</td>\n",
       "      <td>True</td>\n",
       "    </tr>\n",
       "    <tr>\n",
       "      <th>7</th>\n",
       "      <td>Counter-Strike: Condition Zero</td>\n",
       "      <td>2004-03-01</td>\n",
       "      <td>0</td>\n",
       "      <td>0</td>\n",
       "      <td>1</td>\n",
       "      <td>0</td>\n",
       "      <td>65</td>\n",
       "      <td>0</td>\n",
       "      <td>1</td>\n",
       "      <td>7067</td>\n",
       "      <td>1</td>\n",
       "      <td>8</td>\n",
       "      <td>10489261</td>\n",
       "      <td>83543</td>\n",
       "      <td>4127910</td>\n",
       "      <td>52878</td>\n",
       "      <td>0</td>\n",
       "      <td>False</td>\n",
       "      <td>False</td>\n",
       "      <td>True</td>\n",
       "      <td>False</td>\n",
       "      <td>True</td>\n",
       "      <td>True</td>\n",
       "      <td>True</td>\n",
       "      <td>True</td>\n",
       "      <td>True</td>\n",
       "      <td>False</td>\n",
       "      <td>False</td>\n",
       "      <td>False</td>\n",
       "      <td>False</td>\n",
       "      <td>False</td>\n",
       "      <td>False</td>\n",
       "      <td>False</td>\n",
       "      <td>True</td>\n",
       "      <td>False</td>\n",
       "      <td>False</td>\n",
       "      <td>False</td>\n",
       "      <td>False</td>\n",
       "      <td>False</td>\n",
       "      <td>False</td>\n",
       "      <td>False</td>\n",
       "      <td>False</td>\n",
       "      <td>False</td>\n",
       "      <td>False</td>\n",
       "      <td>9.99</td>\n",
       "      <td>9.99</td>\n",
       "      <td>True</td>\n",
       "      <td>True</td>\n",
       "      <td>False</td>\n",
       "      <td>8</td>\n",
       "      <td>True</td>\n",
       "    </tr>\n",
       "    <tr>\n",
       "      <th>9</th>\n",
       "      <td>Half-Life: Blue Shift</td>\n",
       "      <td>2001-06-01</td>\n",
       "      <td>0</td>\n",
       "      <td>0</td>\n",
       "      <td>1</td>\n",
       "      <td>0</td>\n",
       "      <td>71</td>\n",
       "      <td>0</td>\n",
       "      <td>1</td>\n",
       "      <td>2219</td>\n",
       "      <td>1</td>\n",
       "      <td>5</td>\n",
       "      <td>5368650</td>\n",
       "      <td>60199</td>\n",
       "      <td>662517</td>\n",
       "      <td>21286</td>\n",
       "      <td>0</td>\n",
       "      <td>False</td>\n",
       "      <td>False</td>\n",
       "      <td>True</td>\n",
       "      <td>False</td>\n",
       "      <td>True</td>\n",
       "      <td>True</td>\n",
       "      <td>True</td>\n",
       "      <td>True</td>\n",
       "      <td>False</td>\n",
       "      <td>False</td>\n",
       "      <td>False</td>\n",
       "      <td>False</td>\n",
       "      <td>False</td>\n",
       "      <td>False</td>\n",
       "      <td>False</td>\n",
       "      <td>False</td>\n",
       "      <td>True</td>\n",
       "      <td>False</td>\n",
       "      <td>False</td>\n",
       "      <td>False</td>\n",
       "      <td>False</td>\n",
       "      <td>False</td>\n",
       "      <td>False</td>\n",
       "      <td>False</td>\n",
       "      <td>False</td>\n",
       "      <td>False</td>\n",
       "      <td>False</td>\n",
       "      <td>4.99</td>\n",
       "      <td>4.99</td>\n",
       "      <td>True</td>\n",
       "      <td>True</td>\n",
       "      <td>False</td>\n",
       "      <td>3</td>\n",
       "      <td>True</td>\n",
       "    </tr>\n",
       "    <tr>\n",
       "      <th>10</th>\n",
       "      <td>Half-Life 2</td>\n",
       "      <td>2004-11-16</td>\n",
       "      <td>0</td>\n",
       "      <td>1</td>\n",
       "      <td>1</td>\n",
       "      <td>1</td>\n",
       "      <td>96</td>\n",
       "      <td>2</td>\n",
       "      <td>2</td>\n",
       "      <td>35792</td>\n",
       "      <td>1</td>\n",
       "      <td>9</td>\n",
       "      <td>9901173</td>\n",
       "      <td>81234</td>\n",
       "      <td>5695963</td>\n",
       "      <td>61979</td>\n",
       "      <td>33</td>\n",
       "      <td>False</td>\n",
       "      <td>False</td>\n",
       "      <td>True</td>\n",
       "      <td>False</td>\n",
       "      <td>True</td>\n",
       "      <td>True</td>\n",
       "      <td>True</td>\n",
       "      <td>True</td>\n",
       "      <td>False</td>\n",
       "      <td>False</td>\n",
       "      <td>False</td>\n",
       "      <td>False</td>\n",
       "      <td>True</td>\n",
       "      <td>False</td>\n",
       "      <td>False</td>\n",
       "      <td>False</td>\n",
       "      <td>True</td>\n",
       "      <td>False</td>\n",
       "      <td>False</td>\n",
       "      <td>False</td>\n",
       "      <td>False</td>\n",
       "      <td>False</td>\n",
       "      <td>False</td>\n",
       "      <td>False</td>\n",
       "      <td>False</td>\n",
       "      <td>False</td>\n",
       "      <td>False</td>\n",
       "      <td>9.99</td>\n",
       "      <td>9.99</td>\n",
       "      <td>True</td>\n",
       "      <td>True</td>\n",
       "      <td>True</td>\n",
       "      <td>18</td>\n",
       "      <td>True</td>\n",
       "    </tr>\n",
       "  </tbody>\n",
       "</table>\n",
       "</div>"
      ],
      "text/plain": [
       "                              Name ReleaseDate  RequiredAge  DemoCount  \\\n",
       "0                   Counter-Strike  2000-11-01            0          0   \n",
       "1            Team Fortress Classic  1999-04-01            0          0   \n",
       "2                    Day of Defeat  2003-05-01            0          0   \n",
       "3               Deathmatch Classic  2001-06-01            0          0   \n",
       "4        Half-Life: Opposing Force  1999-11-01            0          0   \n",
       "5                         Ricochet  2000-11-01            0          0   \n",
       "6                        Half-Life  1998-11-08            0          0   \n",
       "7   Counter-Strike: Condition Zero  2004-03-01            0          0   \n",
       "9            Half-Life: Blue Shift  2001-06-01            0          0   \n",
       "10                     Half-Life 2  2004-11-16            0          1   \n",
       "\n",
       "    DeveloperCount  DLCCount  Metacritic  StoreVideoCount  BundleCount  \\\n",
       "0                1         0          88                0            1   \n",
       "1                1         0           0                0            1   \n",
       "2                1         0          79                0            1   \n",
       "3                1         0           0                0            1   \n",
       "4                1         0           0                0            1   \n",
       "5                1         0           0                0            1   \n",
       "6                1         1          96                0            1   \n",
       "7                1         0          65                0            1   \n",
       "9                1         0          71                0            1   \n",
       "10               1         1          96                2            2   \n",
       "\n",
       "    RecommendationCount  PublisherCount  StoreScreenshotCount  SteamSpyOwners  \\\n",
       "0                 68991               1                    13        13033334   \n",
       "1                  2439               1                     5         5399140   \n",
       "2                  2319               1                     5         7621102   \n",
       "3                   888               1                     4         7498965   \n",
       "4                  2934               1                     5         5399499   \n",
       "5                  1965               1                     4         7488563   \n",
       "6                 12486               1                    11         5927504   \n",
       "7                  7067               1                     8        10489261   \n",
       "9                  2219               1                     5         5368650   \n",
       "10                35792               1                     9         9901173   \n",
       "\n",
       "    SteamSpyOwnersVariance  SteamSpyPlayersEstimate  SteamSpyPlayersVariance  \\\n",
       "0                    92789                  9140731                    78136   \n",
       "1                    60368                   753627                    22699   \n",
       "2                    71499                  1709740                    34145   \n",
       "3                    70936                   789676                    23235   \n",
       "4                    60370                   705741                    21968   \n",
       "5                    70888                   843481                    24011   \n",
       "6                    63206                  2268772                    39303   \n",
       "7                    83543                  4127910                    52878   \n",
       "9                    60199                   662517                    21286   \n",
       "10                   81234                  5695963                    61979   \n",
       "\n",
       "    AchievementCount  ControllerSupport  IsFree  IsPaid  SubscriptionOption  \\\n",
       "0                  0              False   False    True               False   \n",
       "1                  0              False   False    True               False   \n",
       "2                  0              False   False    True               False   \n",
       "3                  0              False   False    True               False   \n",
       "4                  0              False   False    True               False   \n",
       "5                  0              False   False    True               False   \n",
       "6                  0              False   False    True               False   \n",
       "7                  0              False   False    True               False   \n",
       "9                  0              False   False    True               False   \n",
       "10                33              False   False    True               False   \n",
       "\n",
       "    PlatformWindows  PlatformLinux  PlatformMac  CategorySinglePlayer  \\\n",
       "0              True           True         True                 False   \n",
       "1              True           True         True                 False   \n",
       "2              True           True         True                 False   \n",
       "3              True           True         True                 False   \n",
       "4              True           True         True                  True   \n",
       "5              True           True         True                 False   \n",
       "6              True           True         True                  True   \n",
       "7              True           True         True                  True   \n",
       "9              True           True         True                  True   \n",
       "10             True           True         True                  True   \n",
       "\n",
       "    CategoryMultiplayer  CategoryCoop  CategoryMMO  CategoryInAppPurchase  \\\n",
       "0                  True         False        False                  False   \n",
       "1                  True         False        False                  False   \n",
       "2                  True         False        False                  False   \n",
       "3                  True         False        False                  False   \n",
       "4                  True         False        False                  False   \n",
       "5                  True         False        False                  False   \n",
       "6                  True         False        False                  False   \n",
       "7                  True         False        False                  False   \n",
       "9                 False         False        False                  False   \n",
       "10                False         False        False                  False   \n",
       "\n",
       "    CategoryIncludeSrcSDK  CategoryIncludeLevelEditor  CategoryVRSupport  \\\n",
       "0                   False                       False              False   \n",
       "1                   False                       False              False   \n",
       "2                   False                       False              False   \n",
       "3                   False                       False              False   \n",
       "4                   False                       False              False   \n",
       "5                   False                       False              False   \n",
       "6                   False                       False              False   \n",
       "7                   False                       False              False   \n",
       "9                   False                       False              False   \n",
       "10                   True                       False              False   \n",
       "\n",
       "    GenreIsIndie  GenreIsAction  GenreIsAdventure  GenreIsCasual  \\\n",
       "0          False           True             False          False   \n",
       "1          False           True             False          False   \n",
       "2          False           True             False          False   \n",
       "3          False           True             False          False   \n",
       "4          False           True             False          False   \n",
       "5          False           True             False          False   \n",
       "6          False           True             False          False   \n",
       "7          False           True             False          False   \n",
       "9          False           True             False          False   \n",
       "10         False           True             False          False   \n",
       "\n",
       "    GenreIsStrategy  GenreIsRPG  GenreIsSimulation  GenreIsEarlyAccess  \\\n",
       "0             False       False              False               False   \n",
       "1             False       False              False               False   \n",
       "2             False       False              False               False   \n",
       "3             False       False              False               False   \n",
       "4             False       False              False               False   \n",
       "5             False       False              False               False   \n",
       "6             False       False              False               False   \n",
       "7             False       False              False               False   \n",
       "9             False       False              False               False   \n",
       "10            False       False              False               False   \n",
       "\n",
       "    GenreIsFreeToPlay  GenreIsSports  GenreIsRacing  \\\n",
       "0               False          False          False   \n",
       "1               False          False          False   \n",
       "2               False          False          False   \n",
       "3               False          False          False   \n",
       "4               False          False          False   \n",
       "5               False          False          False   \n",
       "6               False          False          False   \n",
       "7               False          False          False   \n",
       "9               False          False          False   \n",
       "10              False          False          False   \n",
       "\n",
       "    GenreIsMassivelyMultiplayer  PriceInitial  PriceFinal  AboutText  \\\n",
       "0                         False          9.99        9.99       True   \n",
       "1                         False          4.99        4.99       True   \n",
       "2                         False          4.99        4.99       True   \n",
       "3                         False          4.99        4.99       True   \n",
       "4                         False          4.99        4.99       True   \n",
       "5                         False          4.99        4.99       True   \n",
       "6                         False          9.99        9.99       True   \n",
       "7                         False          9.99        9.99       True   \n",
       "9                         False          4.99        4.99       True   \n",
       "10                        False          9.99        9.99       True   \n",
       "\n",
       "    Background  ShortDescrip  LanguageCount  SupportsEnglish  \n",
       "0         True         False              8             True  \n",
       "1         True         False              5             True  \n",
       "2         True         False              5             True  \n",
       "3         True         False              5             True  \n",
       "4         True         False              4             True  \n",
       "5         True         False              5             True  \n",
       "6         True         False              8             True  \n",
       "7         True         False              8             True  \n",
       "9         True         False              3             True  \n",
       "10        True          True             18             True  "
      ]
     },
     "execution_count": 48,
     "metadata": {},
     "output_type": "execute_result"
    }
   ],
   "source": [
    "print('The shape of the dataset is {}.'.format(df.shape)) # print out the shape of the dataset\n",
    "df.head(10) # show first 10 records"
   ]
  },
  {
   "cell_type": "markdown",
   "metadata": {},
   "source": [
    "## Data analysis and visualization"
   ]
  },
  {
   "cell_type": "markdown",
   "metadata": {},
   "source": [
    "In this section, we will review and visualize our data in order to understand the data better. Our data exploration and analysis will help us accept or reject some of our hypothesis.\n",
    "\n",
    "Let pandas describe the dataset for more insight."
   ]
  },
  {
   "cell_type": "code",
   "execution_count": 49,
   "metadata": {},
   "outputs": [
    {
     "data": {
      "text/html": [
       "<div>\n",
       "<style scoped>\n",
       "    .dataframe tbody tr th:only-of-type {\n",
       "        vertical-align: middle;\n",
       "    }\n",
       "\n",
       "    .dataframe tbody tr th {\n",
       "        vertical-align: top;\n",
       "    }\n",
       "\n",
       "    .dataframe thead th {\n",
       "        text-align: right;\n",
       "    }\n",
       "</style>\n",
       "<table border=\"1\" class=\"dataframe\">\n",
       "  <thead>\n",
       "    <tr style=\"text-align: right;\">\n",
       "      <th></th>\n",
       "      <th>RequiredAge</th>\n",
       "      <th>DemoCount</th>\n",
       "      <th>DeveloperCount</th>\n",
       "      <th>DLCCount</th>\n",
       "      <th>Metacritic</th>\n",
       "      <th>StoreVideoCount</th>\n",
       "      <th>BundleCount</th>\n",
       "      <th>RecommendationCount</th>\n",
       "      <th>PublisherCount</th>\n",
       "      <th>StoreScreenshotCount</th>\n",
       "      <th>SteamSpyOwners</th>\n",
       "      <th>SteamSpyOwnersVariance</th>\n",
       "      <th>SteamSpyPlayersEstimate</th>\n",
       "      <th>SteamSpyPlayersVariance</th>\n",
       "      <th>AchievementCount</th>\n",
       "      <th>PriceInitial</th>\n",
       "      <th>PriceFinal</th>\n",
       "      <th>LanguageCount</th>\n",
       "    </tr>\n",
       "  </thead>\n",
       "  <tbody>\n",
       "    <tr>\n",
       "      <th>count</th>\n",
       "      <td>11,404.00</td>\n",
       "      <td>11,404.00</td>\n",
       "      <td>11,404.00</td>\n",
       "      <td>11,404.00</td>\n",
       "      <td>11,404.00</td>\n",
       "      <td>11,404.00</td>\n",
       "      <td>11,404.00</td>\n",
       "      <td>11,404.00</td>\n",
       "      <td>11,404.00</td>\n",
       "      <td>11,404.00</td>\n",
       "      <td>11,404.00</td>\n",
       "      <td>11,404.00</td>\n",
       "      <td>11,404.00</td>\n",
       "      <td>11,404.00</td>\n",
       "      <td>11,404.00</td>\n",
       "      <td>11,404.00</td>\n",
       "      <td>11,404.00</td>\n",
       "      <td>11,404.00</td>\n",
       "    </tr>\n",
       "    <tr>\n",
       "      <th>mean</th>\n",
       "      <td>0.86</td>\n",
       "      <td>0.09</td>\n",
       "      <td>1.08</td>\n",
       "      <td>0.66</td>\n",
       "      <td>13.66</td>\n",
       "      <td>1.38</td>\n",
       "      <td>1.18</td>\n",
       "      <td>1,273.14</td>\n",
       "      <td>1.04</td>\n",
       "      <td>10.12</td>\n",
       "      <td>182,450.76</td>\n",
       "      <td>6,054.14</td>\n",
       "      <td>119,238.33</td>\n",
       "      <td>4,519.76</td>\n",
       "      <td>15.97</td>\n",
       "      <td>9.32</td>\n",
       "      <td>8.94</td>\n",
       "      <td>3.13</td>\n",
       "    </tr>\n",
       "    <tr>\n",
       "      <th>std</th>\n",
       "      <td>3.66</td>\n",
       "      <td>0.29</td>\n",
       "      <td>0.39</td>\n",
       "      <td>7.65</td>\n",
       "      <td>28.62</td>\n",
       "      <td>1.13</td>\n",
       "      <td>0.79</td>\n",
       "      <td>16,318.57</td>\n",
       "      <td>0.27</td>\n",
       "      <td>6.27</td>\n",
       "      <td>1,200,041.03</td>\n",
       "      <td>9,252.18</td>\n",
       "      <td>1,080,619.50</td>\n",
       "      <td>7,688.14</td>\n",
       "      <td>38.13</td>\n",
       "      <td>10.26</td>\n",
       "      <td>9.22</td>\n",
       "      <td>3.71</td>\n",
       "    </tr>\n",
       "    <tr>\n",
       "      <th>min</th>\n",
       "      <td>0.00</td>\n",
       "      <td>0.00</td>\n",
       "      <td>0.00</td>\n",
       "      <td>0.00</td>\n",
       "      <td>0.00</td>\n",
       "      <td>0.00</td>\n",
       "      <td>0.00</td>\n",
       "      <td>0.00</td>\n",
       "      <td>0.00</td>\n",
       "      <td>0.00</td>\n",
       "      <td>0.00</td>\n",
       "      <td>0.00</td>\n",
       "      <td>0.00</td>\n",
       "      <td>0.00</td>\n",
       "      <td>0.00</td>\n",
       "      <td>0.00</td>\n",
       "      <td>0.00</td>\n",
       "      <td>0.00</td>\n",
       "    </tr>\n",
       "    <tr>\n",
       "      <th>25%</th>\n",
       "      <td>0.00</td>\n",
       "      <td>0.00</td>\n",
       "      <td>1.00</td>\n",
       "      <td>0.00</td>\n",
       "      <td>0.00</td>\n",
       "      <td>1.00</td>\n",
       "      <td>1.00</td>\n",
       "      <td>0.00</td>\n",
       "      <td>1.00</td>\n",
       "      <td>6.00</td>\n",
       "      <td>2,152.00</td>\n",
       "      <td>1,263.00</td>\n",
       "      <td>1,076.00</td>\n",
       "      <td>1,044.00</td>\n",
       "      <td>0.00</td>\n",
       "      <td>2.99</td>\n",
       "      <td>2.99</td>\n",
       "      <td>1.00</td>\n",
       "    </tr>\n",
       "    <tr>\n",
       "      <th>50%</th>\n",
       "      <td>0.00</td>\n",
       "      <td>0.00</td>\n",
       "      <td>1.00</td>\n",
       "      <td>0.00</td>\n",
       "      <td>0.00</td>\n",
       "      <td>1.00</td>\n",
       "      <td>1.00</td>\n",
       "      <td>0.00</td>\n",
       "      <td>1.00</td>\n",
       "      <td>9.00</td>\n",
       "      <td>13,093.00</td>\n",
       "      <td>2,994.00</td>\n",
       "      <td>6,098.00</td>\n",
       "      <td>2,073.00</td>\n",
       "      <td>1.50</td>\n",
       "      <td>6.99</td>\n",
       "      <td>6.99</td>\n",
       "      <td>1.00</td>\n",
       "    </tr>\n",
       "    <tr>\n",
       "      <th>75%</th>\n",
       "      <td>0.00</td>\n",
       "      <td>0.00</td>\n",
       "      <td>1.00</td>\n",
       "      <td>0.00</td>\n",
       "      <td>0.00</td>\n",
       "      <td>2.00</td>\n",
       "      <td>1.00</td>\n",
       "      <td>300.25</td>\n",
       "      <td>1.00</td>\n",
       "      <td>12.00</td>\n",
       "      <td>75,147.00</td>\n",
       "      <td>7,174.00</td>\n",
       "      <td>36,408.00</td>\n",
       "      <td>4,994.00</td>\n",
       "      <td>22.00</td>\n",
       "      <td>9.99</td>\n",
       "      <td>9.99</td>\n",
       "      <td>5.00</td>\n",
       "    </tr>\n",
       "    <tr>\n",
       "      <th>max</th>\n",
       "      <td>18.00</td>\n",
       "      <td>2.00</td>\n",
       "      <td>12.00</td>\n",
       "      <td>630.00</td>\n",
       "      <td>96.00</td>\n",
       "      <td>20.00</td>\n",
       "      <td>18.00</td>\n",
       "      <td>1,427,633.00</td>\n",
       "      <td>4.00</td>\n",
       "      <td>114.00</td>\n",
       "      <td>90,687,580.00</td>\n",
       "      <td>215,972.00</td>\n",
       "      <td>90,687,580.00</td>\n",
       "      <td>215,972.00</td>\n",
       "      <td>1,629.00</td>\n",
       "      <td>234.99</td>\n",
       "      <td>234.99</td>\n",
       "      <td>27.00</td>\n",
       "    </tr>\n",
       "  </tbody>\n",
       "</table>\n",
       "</div>"
      ],
      "text/plain": [
       "       RequiredAge  DemoCount  DeveloperCount  DLCCount  Metacritic  \\\n",
       "count    11,404.00  11,404.00       11,404.00 11,404.00   11,404.00   \n",
       "mean          0.86       0.09            1.08      0.66       13.66   \n",
       "std           3.66       0.29            0.39      7.65       28.62   \n",
       "min           0.00       0.00            0.00      0.00        0.00   \n",
       "25%           0.00       0.00            1.00      0.00        0.00   \n",
       "50%           0.00       0.00            1.00      0.00        0.00   \n",
       "75%           0.00       0.00            1.00      0.00        0.00   \n",
       "max          18.00       2.00           12.00    630.00       96.00   \n",
       "\n",
       "       StoreVideoCount  BundleCount  RecommendationCount  PublisherCount  \\\n",
       "count        11,404.00    11,404.00            11,404.00       11,404.00   \n",
       "mean              1.38         1.18             1,273.14            1.04   \n",
       "std               1.13         0.79            16,318.57            0.27   \n",
       "min               0.00         0.00                 0.00            0.00   \n",
       "25%               1.00         1.00                 0.00            1.00   \n",
       "50%               1.00         1.00                 0.00            1.00   \n",
       "75%               2.00         1.00               300.25            1.00   \n",
       "max              20.00        18.00         1,427,633.00            4.00   \n",
       "\n",
       "       StoreScreenshotCount  SteamSpyOwners  SteamSpyOwnersVariance  \\\n",
       "count             11,404.00       11,404.00               11,404.00   \n",
       "mean                  10.12      182,450.76                6,054.14   \n",
       "std                    6.27    1,200,041.03                9,252.18   \n",
       "min                    0.00            0.00                    0.00   \n",
       "25%                    6.00        2,152.00                1,263.00   \n",
       "50%                    9.00       13,093.00                2,994.00   \n",
       "75%                   12.00       75,147.00                7,174.00   \n",
       "max                  114.00   90,687,580.00              215,972.00   \n",
       "\n",
       "       SteamSpyPlayersEstimate  SteamSpyPlayersVariance  AchievementCount  \\\n",
       "count                11,404.00                11,404.00         11,404.00   \n",
       "mean                119,238.33                 4,519.76             15.97   \n",
       "std               1,080,619.50                 7,688.14             38.13   \n",
       "min                       0.00                     0.00              0.00   \n",
       "25%                   1,076.00                 1,044.00              0.00   \n",
       "50%                   6,098.00                 2,073.00              1.50   \n",
       "75%                  36,408.00                 4,994.00             22.00   \n",
       "max              90,687,580.00               215,972.00          1,629.00   \n",
       "\n",
       "       PriceInitial  PriceFinal  LanguageCount  \n",
       "count     11,404.00   11,404.00      11,404.00  \n",
       "mean           9.32        8.94           3.13  \n",
       "std           10.26        9.22           3.71  \n",
       "min            0.00        0.00           0.00  \n",
       "25%            2.99        2.99           1.00  \n",
       "50%            6.99        6.99           1.00  \n",
       "75%            9.99        9.99           5.00  \n",
       "max          234.99      234.99          27.00  "
      ]
     },
     "execution_count": 49,
     "metadata": {},
     "output_type": "execute_result"
    }
   ],
   "source": [
    "pd.options.display.float_format = '{:,.2f}'.format\n",
    "df.describe()"
   ]
  },
  {
   "cell_type": "markdown",
   "metadata": {},
   "source": [
    "To make it as systematic as possible, we'll try to review the data column by column. Sometimes, we'll be also interested in relationship/correlation with other columns. Therefore more columns might be explored at once. Firstly, let's only review the values and distribution of the data and we'll leave the more complicated questions for later.\n",
    "\n",
    "### ReleaseDate\n",
    "This is our only time-related column in the whole dataset. It is also one of the most interesting and relevant piece of data we have. Some of our hypotheses are also related to this feature and we will get back to it later in order to answer some of our questions from the 'Hypothesis' section of this notebook. Let's find out when the games have been released."
   ]
  },
  {
   "cell_type": "code",
   "execution_count": 50,
   "metadata": {},
   "outputs": [
    {
     "name": "stdout",
     "output_type": "stream",
     "text": [
      "Our first game was released on 30. June 1997 (min value).\n",
      "Our last game was released on 26. September 2019 (max value).\n"
     ]
    }
   ],
   "source": [
    "print('Our first game was released on {} (min value).'.format(df.ReleaseDate.min().strftime(\"%d. %B %Y\")))\n",
    "print('Our last game was released on {} (max value).'.format(df.ReleaseDate.max().strftime(\"%d. %B %Y\")))"
   ]
  },
  {
   "cell_type": "code",
   "execution_count": 51,
   "metadata": {},
   "outputs": [
    {
     "data": {
      "image/png": "[encoded data removed]",
      "text/plain": [
       "<Figure size 432x288 with 1 Axes>"
      ]
     },
     "metadata": {},
     "output_type": "display_data"
    }
   ],
   "source": [
    "plt.hist(df['ReleaseDate'], bins=100)\n",
    "plt.xlabel('Time')\n",
    "plt.ylabel('Count')\n",
    "plt.title('Time distribution')\n",
    "\n",
    "plt.show()"
   ]
  },
  {
   "cell_type": "markdown",
   "metadata": {},
   "source": [
    "We can clearly see, that the number of games being released on Steam is rising exponentially. As the dataset was created at the end of 2016, the drop at the end of this histogram is because these games were only announced to be released at that time. Let's plot a similar histogram, that will show us exactly how many games were released each year. We can also ask questions as: Are some month more preferred for releasing games than others? Are games being released at the end of the week or rather at the beginning? "
   ]
  },
  {
   "cell_type": "code",
   "execution_count": 52,
   "metadata": {},
   "outputs": [
    {
     "data": {
      "image/png": "[encoded data removed]",
      "text/plain": [
       "<Figure size 432x288 with 1 Axes>"
      ]
     },
     "metadata": {},
     "output_type": "display_data"
    }
   ],
   "source": [
    "years = df['ReleaseDate'].map(lambda t: t.year)\n",
    "\n",
    "plt.hist(years, bins=15, range=(2005,2019))\n",
    "plt.xlabel('Year')\n",
    "plt.ylabel('Count')\n",
    "plt.title('Year distribution')\n",
    "\n",
    "plt.show()"
   ]
  },
  {
   "cell_type": "code",
   "execution_count": 53,
   "metadata": {},
   "outputs": [
    {
     "data": {
      "image/png": "[encoded data removed]",
      "text/plain": [
       "<Figure size 432x288 with 1 Axes>"
      ]
     },
     "metadata": {},
     "output_type": "display_data"
    }
   ],
   "source": [
    "months = df['ReleaseDate'].map(lambda t: t.month)\n",
    "\n",
    "plt.hist(months, bins=12)\n",
    "plt.xlabel('Month of the year')\n",
    "plt.ylabel('Count')\n",
    "plt.title('Month distribution')\n",
    "\n",
    "plt.show()"
   ]
  },
  {
   "cell_type": "code",
   "execution_count": 54,
   "metadata": {},
   "outputs": [
    {
     "data": {
      "image/png": "[encoded data removed]",
      "text/plain": [
       "<Figure size 432x288 with 1 Axes>"
      ]
     },
     "metadata": {},
     "output_type": "display_data"
    }
   ],
   "source": [
    "# 0: Monday, 6: Sunday\n",
    "week_days = df['ReleaseDate'].map(lambda t: t.weekday())\n",
    "\n",
    "plt.hist(week_days, bins=7)\n",
    "plt.xlabel('Day of the week')\n",
    "plt.ylabel('Count')\n",
    "plt.title('Week day distribution')\n",
    "\n",
    "plt.show()"
   ]
  },
  {
   "cell_type": "markdown",
   "metadata": {},
   "source": [
    "We can see, that the least games were released in January and December. Most of the games are being released during the July-November period. Approximately twice as many games are being released in November in comparison to January.\n",
    "\n",
    "The more significant differences are visible in the histogram for days in a week. Bare minimum of games was released during the weekends. The reason for this might be, that the release process is closely overwatched by the development team, therefore the releases are happening during the working days. We can also see a slightly higher release rate at the end of the week (Thursday, Friday)."
   ]
  },
  {
   "cell_type": "markdown",
   "metadata": {},
   "source": [
    "### RequiredAge\n",
    "This feature won't be that relevant for us. A great portion of games on steam with mature content does not have an age restriction set. This is especially true for older games. Therefore we can expect a lot of our entries to have 'RequiredAge' == 0."
   ]
  },
  {
   "cell_type": "code",
   "execution_count": 55,
   "metadata": {},
   "outputs": [
    {
     "name": "stdout",
     "output_type": "stream",
     "text": [
      "94.71% of our games have no age restriction.\n"
     ]
    },
    {
     "data": {
      "text/plain": [
       "count   11,404.00\n",
       "mean         0.86\n",
       "std          3.66\n",
       "min          0.00\n",
       "25%          0.00\n",
       "50%          0.00\n",
       "75%          0.00\n",
       "max         18.00\n",
       "Name: RequiredAge, dtype: float64"
      ]
     },
     "execution_count": 55,
     "metadata": {},
     "output_type": "execute_result"
    }
   ],
   "source": [
    "print('{:0.2f}% of our games have no age restriction.'.format(len(df[df.RequiredAge==0])/len(df)*100))\n",
    "df.RequiredAge.describe()"
   ]
  },
  {
   "cell_type": "markdown",
   "metadata": {},
   "source": [
    "Not surprisingly, the minimum value is 0 and the maximum is 18. Though, this description is not helpful at all since almost 95% of our data has no age restriction. Let's create a subset of games that do have this value and review it."
   ]
  },
  {
   "cell_type": "code",
   "execution_count": 56,
   "metadata": {},
   "outputs": [
    {
     "name": "stdout",
     "output_type": "stream",
     "text": [
      "Our sample of games with age restriction has 603 entries\n",
      "The mean of our sample is 16.25 with a standard deviation of 1.96.\n",
      "We can clearly see, that the majority of games with age restriction have age restricted to 17 years.\n"
     ]
    },
    {
     "data": {
      "text/plain": [
       "count   603.00\n",
       "mean     16.25\n",
       "std       1.96\n",
       "min       1.00\n",
       "25%      17.00\n",
       "50%      17.00\n",
       "75%      17.00\n",
       "max      18.00\n",
       "Name: RequiredAge, dtype: float64"
      ]
     },
     "execution_count": 56,
     "metadata": {},
     "output_type": "execute_result"
    }
   ],
   "source": [
    "age_sample = df[df.RequiredAge > 0]\n",
    "print('Our sample of games with age restriction has {} entries'.format(len(age_sample)))\n",
    "print('The mean of our sample is {:0.2f} with a standard deviation of {:0.2f}.'\\\n",
    "      .format(age_sample.RequiredAge.mean(),age_sample.RequiredAge.std()))\n",
    "print('We can clearly see, that the majority of games with age restriction have age restricted to 17 years.')\n",
    "age_sample.RequiredAge.describe()"
   ]
  },
  {
   "cell_type": "code",
   "execution_count": 57,
   "metadata": {},
   "outputs": [
    {
     "data": {
      "image/png": "[encoded data removed]",
      "text/plain": [
       "<Figure size 432x288 with 1 Axes>"
      ]
     },
     "metadata": {},
     "output_type": "display_data"
    }
   ],
   "source": [
    "plt.hist(age_sample.RequiredAge,bins=18)\n",
    "plt.xlabel('Age')\n",
    "plt.ylabel('Count')\n",
    "plt.title('Age restrictions distribution')\n",
    "plt.show()"
   ]
  },
  {
   "cell_type": "markdown",
   "metadata": {},
   "source": [
    "### DemoCount\n",
    "Once again, it is not very common for games to have a demo. We can expect that a big percentage of games in our dataset does not have a demo."
   ]
  },
  {
   "cell_type": "code",
   "execution_count": 58,
   "metadata": {},
   "outputs": [
    {
     "name": "stdout",
     "output_type": "stream",
     "text": [
      "90.63% of our games have no demos available.\n"
     ]
    },
    {
     "data": {
      "text/plain": [
       "count   11,404.00\n",
       "mean         0.09\n",
       "std          0.29\n",
       "min          0.00\n",
       "25%          0.00\n",
       "50%          0.00\n",
       "75%          0.00\n",
       "max          2.00\n",
       "Name: DemoCount, dtype: float64"
      ]
     },
     "execution_count": 58,
     "metadata": {},
     "output_type": "execute_result"
    }
   ],
   "source": [
    "print('{:0.2f}% of our games have no demos available.'.format(len(df[df.DemoCount==0])/len(df)*100))\n",
    "df.DemoCount.describe()"
   ]
  },
  {
   "cell_type": "markdown",
   "metadata": {},
   "source": [
    "We can also create a sample of games that do have at least one demo and we'll found out that the majority of games with demos have only one demo."
   ]
  },
  {
   "cell_type": "code",
   "execution_count": 59,
   "metadata": {},
   "outputs": [
    {
     "name": "stdout",
     "output_type": "stream",
     "text": [
      "Our sample of games with demos has 1069 entries\n"
     ]
    },
    {
     "data": {
      "text/plain": [
       "count   1,069.00\n",
       "mean        1.00\n",
       "std         0.04\n",
       "min         1.00\n",
       "25%         1.00\n",
       "50%         1.00\n",
       "75%         1.00\n",
       "max         2.00\n",
       "Name: DemoCount, dtype: float64"
      ]
     },
     "execution_count": 59,
     "metadata": {},
     "output_type": "execute_result"
    }
   ],
   "source": [
    "demo_sample = df[df.DemoCount > 0]\n",
    "print('Our sample of games with demos has {} entries'.format(len(demo_sample)))\n",
    "demo_sample.DemoCount.describe()"
   ]
  },
  {
   "cell_type": "markdown",
   "metadata": {},
   "source": [
    "### DeveloperCount"
   ]
  },
  {
   "cell_type": "code",
   "execution_count": 60,
   "metadata": {},
   "outputs": [
    {
     "name": "stdout",
     "output_type": "stream",
     "text": [
      "0.59% of our games have no developers stated.\n",
      "Unique values: {0, 1, 2, 3, 4, 5, 6, 7, 11, 12}\n"
     ]
    },
    {
     "data": {
      "text/plain": [
       "count   11,404.00\n",
       "mean         1.08\n",
       "std          0.39\n",
       "min          0.00\n",
       "25%          1.00\n",
       "50%          1.00\n",
       "75%          1.00\n",
       "max         12.00\n",
       "Name: DeveloperCount, dtype: float64"
      ]
     },
     "execution_count": 60,
     "metadata": {},
     "output_type": "execute_result"
    }
   ],
   "source": [
    "print('{:0.2f}% of our games have no developers stated.'.format(len(df[df.DeveloperCount==0])/len(df)*100))\n",
    "print('Unique values: {}'.format(set(df.DeveloperCount.unique())))\n",
    "df.DeveloperCount.describe()"
   ]
  },
  {
   "cell_type": "code",
   "execution_count": 61,
   "metadata": {},
   "outputs": [
    {
     "name": "stdout",
     "output_type": "stream",
     "text": [
      "As we would probably expect, the mean is 1.08 with a standard deviation of 0.39.\n"
     ]
    }
   ],
   "source": [
    "print('As we would probably expect, the mean is {:0.2f} with a standard deviation of {:0.2f}.'\\\n",
    "      .format(df.DeveloperCount.mean(),df.DeveloperCount.std()))"
   ]
  },
  {
   "cell_type": "markdown",
   "metadata": {},
   "source": [
    "Let's look at the distribution of outliers, which shouldn't be very surprising."
   ]
  },
  {
   "cell_type": "code",
   "execution_count": 62,
   "metadata": {},
   "outputs": [
    {
     "data": {
      "image/png": "[encoded data removed]",
      "text/plain": [
       "<Figure size 432x288 with 1 Axes>"
      ]
     },
     "metadata": {},
     "output_type": "display_data"
    }
   ],
   "source": [
    "plt.hist(df[df.DeveloperCount > 1].DeveloperCount,bins=11)\n",
    "plt.xlabel('Number of developers')\n",
    "plt.ylabel('Count')\n",
    "plt.title('Developer count outliers distribution')\n",
    "plt.show()"
   ]
  },
  {
   "cell_type": "markdown",
   "metadata": {},
   "source": [
    "### DLCCount\n",
    "\n",
    "This feature will be used to accept or reject our Hypothesis 1. Therefore, we'll closely analyze it later. For now, let's just overview it. Some games are really packed with DLCs. We can expect some games to have an enormous number of DLCs. However, most of the game will have no DLCs at all."
   ]
  },
  {
   "cell_type": "code",
   "execution_count": 63,
   "metadata": {},
   "outputs": [
    {
     "name": "stdout",
     "output_type": "stream",
     "text": [
      "82.28% of our games have no DLCs.\n"
     ]
    },
    {
     "data": {
      "text/plain": [
       "count   11,404.00\n",
       "mean         0.66\n",
       "std          7.65\n",
       "min          0.00\n",
       "25%          0.00\n",
       "50%          0.00\n",
       "75%          0.00\n",
       "max        630.00\n",
       "Name: DLCCount, dtype: float64"
      ]
     },
     "execution_count": 63,
     "metadata": {},
     "output_type": "execute_result"
    }
   ],
   "source": [
    "print('{:0.2f}% of our games have no DLCs.'.format(len(df[df.DLCCount==0])/len(df)*100))\n",
    "df.DLCCount.describe()"
   ]
  },
  {
   "cell_type": "markdown",
   "metadata": {},
   "source": [
    "We can clearly see, that the majority of the games have no DLCs. Let's create a sample of games that have at least one DLC and look at the distribution of the data in that sample. After all, we'll need this sample later."
   ]
  },
  {
   "cell_type": "code",
   "execution_count": 64,
   "metadata": {},
   "outputs": [
    {
     "name": "stdout",
     "output_type": "stream",
     "text": [
      "Our sample of games with DLCs has 2021 entries\n"
     ]
    },
    {
     "data": {
      "text/plain": [
       "count   2,021.00\n",
       "mean        3.74\n",
       "std        17.86\n",
       "min         1.00\n",
       "25%         1.00\n",
       "50%         1.00\n",
       "75%         3.00\n",
       "max       630.00\n",
       "Name: DLCCount, dtype: float64"
      ]
     },
     "execution_count": 64,
     "metadata": {},
     "output_type": "execute_result"
    }
   ],
   "source": [
    "dlc_sample = df[df.DLCCount > 0]\n",
    "print('Our sample of games with DLCs has {} entries'.format(len(dlc_sample)))\n",
    "dlc_sample.DLCCount.describe()"
   ]
  },
  {
   "cell_type": "code",
   "execution_count": 65,
   "metadata": {},
   "outputs": [
    {
     "data": {
      "image/png": "[encoded data removed]",
      "text/plain": [
       "<Figure size 432x288 with 1 Axes>"
      ]
     },
     "metadata": {},
     "output_type": "display_data"
    }
   ],
   "source": [
    "plt.hist(dlc_sample.DLCCount,bins=11,range=(0,10)) # withouth outliers \n",
    "plt.xlabel('Number of DLCs')\n",
    "plt.ylabel('Count')\n",
    "plt.title('DLC distribution')\n",
    "plt.show()"
   ]
  },
  {
   "cell_type": "markdown",
   "metadata": {},
   "source": [
    "Again, it should be no surprise that most of the games with DLCs have one or two DLCs."
   ]
  },
  {
   "cell_type": "markdown",
   "metadata": {},
   "source": [
    "### Metacritic\n",
    "Another one of the most important columns in the whole dataset. This feature represents the rating on <a href = \"https://www.metacritic.com/\">metacritic.com</a>. Not all of the games are yet rated (and a lot of them won't ever be)."
   ]
  },
  {
   "cell_type": "code",
   "execution_count": 66,
   "metadata": {},
   "outputs": [
    {
     "name": "stdout",
     "output_type": "stream",
     "text": [
      "80.99% of our games have not been rated yet.\n"
     ]
    },
    {
     "data": {
      "text/plain": [
       "count   11,404.00\n",
       "mean        13.66\n",
       "std         28.62\n",
       "min          0.00\n",
       "25%          0.00\n",
       "50%          0.00\n",
       "75%          0.00\n",
       "max         96.00\n",
       "Name: Metacritic, dtype: float64"
      ]
     },
     "execution_count": 66,
     "metadata": {},
     "output_type": "execute_result"
    }
   ],
   "source": [
    "print('{:0.2f}% of our games have not been rated yet.'.format(len(df[df.Metacritic==0])/len(df)*100))\n",
    "df.Metacritic.describe()"
   ]
  },
  {
   "cell_type": "markdown",
   "metadata": {},
   "source": [
    "The majority of games has not been rated and it will trouble us later when we'll analyze the ratings in time."
   ]
  },
  {
   "cell_type": "code",
   "execution_count": 67,
   "metadata": {},
   "outputs": [
    {
     "name": "stdout",
     "output_type": "stream",
     "text": [
      "Our sample of games that have been rated has 2168 entries\n"
     ]
    },
    {
     "data": {
      "text/plain": [
       "count   2,168.00\n",
       "mean       71.88\n",
       "std        11.17\n",
       "min        20.00\n",
       "25%        66.00\n",
       "50%        73.00\n",
       "75%        80.00\n",
       "max        96.00\n",
       "Name: Metacritic, dtype: float64"
      ]
     },
     "execution_count": 67,
     "metadata": {},
     "output_type": "execute_result"
    }
   ],
   "source": [
    "rating_sample = df[df.Metacritic> 0]\n",
    "print('Our sample of games that have been rated has {} entries'.format(len(rating_sample)))\n",
    "rating_sample.Metacritic.describe()"
   ]
  },
  {
   "cell_type": "code",
   "execution_count": 68,
   "metadata": {},
   "outputs": [
    {
     "data": {
      "image/png": "[encoded data removed]",
      "text/plain": [
       "<Figure size 432x288 with 1 Axes>"
      ]
     },
     "metadata": {},
     "output_type": "display_data"
    }
   ],
   "source": [
    "plt.hist(rating_sample.Metacritic,bins=75)\n",
    "plt.xlabel('Rating')\n",
    "plt.ylabel('Count')\n",
    "plt.title('Metacritic rating distribution')\n",
    "plt.show()"
   ]
  },
  {
   "cell_type": "markdown",
   "metadata": {},
   "source": [
    "### StoreVideoCount"
   ]
  },
  {
   "cell_type": "code",
   "execution_count": 69,
   "metadata": {},
   "outputs": [
    {
     "name": "stdout",
     "output_type": "stream",
     "text": [
      "7.86% of our games have no Video on Store Page.\n"
     ]
    },
    {
     "data": {
      "text/plain": [
       "count   11,404.00\n",
       "mean         1.38\n",
       "std          1.13\n",
       "min          0.00\n",
       "25%          1.00\n",
       "50%          1.00\n",
       "75%          2.00\n",
       "max         20.00\n",
       "Name: StoreVideoCount, dtype: float64"
      ]
     },
     "execution_count": 69,
     "metadata": {},
     "output_type": "execute_result"
    }
   ],
   "source": [
    "print('{:0.2f}% of our games have no Video on Store Page.'.format(len(df[df.StoreVideoCount==0])/len(df)*100))\n",
    "df.StoreVideoCount.describe()"
   ]
  },
  {
   "cell_type": "code",
   "execution_count": 70,
   "metadata": {},
   "outputs": [
    {
     "data": {
      "image/png": "[encoded data removed]",
      "text/plain": [
       "<Figure size 432x288 with 1 Axes>"
      ]
     },
     "metadata": {},
     "output_type": "display_data"
    }
   ],
   "source": [
    "plt.hist(df.StoreVideoCount, bins=20)\n",
    "plt.xlabel('Number of videos')\n",
    "plt.ylabel('Count')\n",
    "plt.title('Video distribution')\n",
    "plt.show()"
   ]
  },
  {
   "cell_type": "markdown",
   "metadata": {},
   "source": [
    "Most of the games represent themselves with a trailer or a gameplay video on the Store Page. Most of the games have 1 video on the Store Page."
   ]
  },
  {
   "cell_type": "markdown",
   "metadata": {},
   "source": [
    "### BundleCount"
   ]
  },
  {
   "cell_type": "code",
   "execution_count": 71,
   "metadata": {},
   "outputs": [
    {
     "name": "stdout",
     "output_type": "stream",
     "text": [
      "10.82% of our games have no appearance in any bundle.\n"
     ]
    },
    {
     "data": {
      "text/plain": [
       "count   11,404.00\n",
       "mean         1.18\n",
       "std          0.79\n",
       "min          0.00\n",
       "25%          1.00\n",
       "50%          1.00\n",
       "75%          1.00\n",
       "max         18.00\n",
       "Name: BundleCount, dtype: float64"
      ]
     },
     "execution_count": 71,
     "metadata": {},
     "output_type": "execute_result"
    }
   ],
   "source": [
    "print('{:0.2f}% of our games have no appearance in any bundle.'.format(len(df[df.BundleCount==0])/len(df)*100))\n",
    "df.BundleCount.describe()"
   ]
  },
  {
   "cell_type": "code",
   "execution_count": 72,
   "metadata": {
    "scrolled": true
   },
   "outputs": [
    {
     "data": {
      "image/png": "[encoded data removed]",
      "text/plain": [
       "<Figure size 432x288 with 1 Axes>"
      ]
     },
     "metadata": {},
     "output_type": "display_data"
    }
   ],
   "source": [
    "plt.hist(df.BundleCount, bins=18)\n",
    "plt.xlabel('Number of bundles')\n",
    "plt.ylabel('Count')\n",
    "plt.title('Bundle appearance distribution')\n",
    "plt.show()"
   ]
  },
  {
   "cell_type": "markdown",
   "metadata": {},
   "source": [
    "Majority of the games are included in one bundle."
   ]
  },
  {
   "cell_type": "markdown",
   "metadata": {},
   "source": [
    "### RecommendationCount"
   ]
  },
  {
   "cell_type": "code",
   "execution_count": 73,
   "metadata": {},
   "outputs": [
    {
     "name": "stdout",
     "output_type": "stream",
     "text": [
      "58.84% of our games have no recommendations from users.\n"
     ]
    },
    {
     "data": {
      "text/plain": [
       "count      11,404.00\n",
       "mean        1,273.14\n",
       "std        16,318.57\n",
       "min             0.00\n",
       "25%             0.00\n",
       "50%             0.00\n",
       "75%           300.25\n",
       "max     1,427,633.00\n",
       "Name: RecommendationCount, dtype: float64"
      ]
     },
     "execution_count": 73,
     "metadata": {},
     "output_type": "execute_result"
    }
   ],
   "source": [
    "print('{:0.2f}% of our games have no recommendations from users.'.format(len(df[df.RecommendationCount==0])/len(df)*100))\n",
    "df.RecommendationCount.describe()"
   ]
  },
  {
   "cell_type": "markdown",
   "metadata": {},
   "source": [
    "The range of values is very big but the majority of data is on the lower side of this range."
   ]
  },
  {
   "cell_type": "code",
   "execution_count": 74,
   "metadata": {},
   "outputs": [
    {
     "data": {
      "image/png": "[encoded data removed]",
      "text/plain": [
       "<Figure size 432x288 with 1 Axes>"
      ]
     },
     "metadata": {},
     "output_type": "display_data"
    }
   ],
   "source": [
    "plt.hist(df.RecommendationCount,bins=500,range=(1,10000))\n",
    "plt.xlabel('Number of recommendations')\n",
    "plt.ylabel('Count')\n",
    "plt.title('Recommendation distribution')\n",
    "plt.show()"
   ]
  },
  {
   "cell_type": "markdown",
   "metadata": {},
   "source": [
    "### PublisherCount\n",
    "This column should be similar to 'DeveloperCount', though we can expect the range of unique values to be smaller."
   ]
  },
  {
   "cell_type": "code",
   "execution_count": 75,
   "metadata": {},
   "outputs": [
    {
     "name": "stdout",
     "output_type": "stream",
     "text": [
      "1.21% of our games have no publisher stated.\n",
      "Unique values: {0, 1, 2, 3, 4}\n"
     ]
    },
    {
     "data": {
      "text/plain": [
       "count   11,404.00\n",
       "mean         1.04\n",
       "std          0.27\n",
       "min          0.00\n",
       "25%          1.00\n",
       "50%          1.00\n",
       "75%          1.00\n",
       "max          4.00\n",
       "Name: PublisherCount, dtype: float64"
      ]
     },
     "execution_count": 75,
     "metadata": {},
     "output_type": "execute_result"
    }
   ],
   "source": [
    "print('{:0.2f}% of our games have no publisher stated.'.format(len(df[df.PublisherCount==0])/len(df)*100))\n",
    "print('Unique values: {}'.format(set(df.PublisherCount.unique())))\n",
    "df.PublisherCount.describe()"
   ]
  },
  {
   "cell_type": "code",
   "execution_count": 76,
   "metadata": {},
   "outputs": [
    {
     "data": {
      "image/png": "[encoded data removed]",
      "text/plain": [
       "<Figure size 432x288 with 1 Axes>"
      ]
     },
     "metadata": {},
     "output_type": "display_data"
    }
   ],
   "source": [
    "plt.hist(df.PublisherCount, bins=5)\n",
    "plt.xlabel('Number of publishers')\n",
    "plt.ylabel('Count')\n",
    "plt.title('Publisher count distribution')\n",
    "plt.show()"
   ]
  },
  {
   "cell_type": "code",
   "execution_count": 77,
   "metadata": {},
   "outputs": [
    {
     "name": "stdout",
     "output_type": "stream",
     "text": [
      "94.35% of our games have only one publisher.\n"
     ]
    }
   ],
   "source": [
    "print('{:0.2f}% of our games have only one publisher.'.format(len(df[df.PublisherCount==1])/len(df)*100))"
   ]
  },
  {
   "cell_type": "markdown",
   "metadata": {},
   "source": [
    "### StoreScreenshotCount\n",
    "\n",
    "This feature is similar to 'StoreVideoCount'. However, we expect most of the games that had no video on the Store Page to have at least one Screenshot. Moreover, it is common for games to have more than one screenshot."
   ]
  },
  {
   "cell_type": "code",
   "execution_count": 78,
   "metadata": {},
   "outputs": [
    {
     "name": "stdout",
     "output_type": "stream",
     "text": [
      "0.58% of our games have no Screenshots on Store Page.\n"
     ]
    },
    {
     "data": {
      "text/plain": [
       "count   11,404.00\n",
       "mean        10.12\n",
       "std          6.27\n",
       "min          0.00\n",
       "25%          6.00\n",
       "50%          9.00\n",
       "75%         12.00\n",
       "max        114.00\n",
       "Name: StoreScreenshotCount, dtype: float64"
      ]
     },
     "execution_count": 78,
     "metadata": {},
     "output_type": "execute_result"
    }
   ],
   "source": [
    "print('{:0.2f}% of our games have no Screenshots on Store Page.'.format(len(df[df.StoreScreenshotCount==0])/len(df)*100))\n",
    "df.StoreScreenshotCount.describe()"
   ]
  },
  {
   "cell_type": "markdown",
   "metadata": {},
   "source": [
    "Only a fraction of the games have no Screenshot. Let's have a look at the data distribution."
   ]
  },
  {
   "cell_type": "code",
   "execution_count": 79,
   "metadata": {},
   "outputs": [
    {
     "data": {
      "image/png": "[encoded data removed]",
      "text/plain": [
       "<Figure size 432x288 with 1 Axes>"
      ]
     },
     "metadata": {},
     "output_type": "display_data"
    }
   ],
   "source": [
    "plt.hist(df.StoreScreenshotCount,bins=50, range=(0,50))\n",
    "plt.xlabel('Number of Screenshots')\n",
    "plt.ylabel('Count')\n",
    "plt.title('Screenshot distribution')\n",
    "plt.show()"
   ]
  },
  {
   "cell_type": "markdown",
   "metadata": {},
   "source": [
    "### SteamSpyOwners and SteamSpyOwnersVariance\n",
    "These two attributes are of course strictly correlative. However, some of our data does not have this value as we have mentioned earlier."
   ]
  },
  {
   "cell_type": "code",
   "execution_count": 80,
   "metadata": {},
   "outputs": [
    {
     "name": "stdout",
     "output_type": "stream",
     "text": [
      "12.71% of our games are missing SteamSpyOwners feature.\n",
      "12.71% of our games are missing SteamSpyOwnersVariance feature.\n"
     ]
    }
   ],
   "source": [
    "print('{:0.2f}% of our games are missing SteamSpyOwners feature.'.format(len(df[df.SteamSpyOwners==0])/len(df)*100))\n",
    "print('{:0.2f}% of our games are missing SteamSpyOwnersVariance feature.'\\\n",
    "      .format(len(df[df.SteamSpyOwnersVariance==0])/len(df)*100))"
   ]
  },
  {
   "cell_type": "code",
   "execution_count": 81,
   "metadata": {},
   "outputs": [
    {
     "data": {
      "text/plain": [
       "count       11,404.00\n",
       "mean       182,450.76\n",
       "std      1,200,041.03\n",
       "min              0.00\n",
       "25%          2,152.00\n",
       "50%         13,093.00\n",
       "75%         75,147.00\n",
       "max     90,687,580.00\n",
       "Name: SteamSpyOwners, dtype: float64"
      ]
     },
     "execution_count": 81,
     "metadata": {},
     "output_type": "execute_result"
    }
   ],
   "source": [
    "df.SteamSpyOwners.describe()"
   ]
  },
  {
   "cell_type": "code",
   "execution_count": 82,
   "metadata": {},
   "outputs": [
    {
     "data": {
      "text/plain": [
       "count    11,404.00\n",
       "mean      6,054.14\n",
       "std       9,252.18\n",
       "min           0.00\n",
       "25%       1,263.00\n",
       "50%       2,994.00\n",
       "75%       7,174.00\n",
       "max     215,972.00\n",
       "Name: SteamSpyOwnersVariance, dtype: float64"
      ]
     },
     "execution_count": 82,
     "metadata": {},
     "output_type": "execute_result"
    }
   ],
   "source": [
    "df.SteamSpyOwnersVariance.describe()"
   ]
  },
  {
   "cell_type": "markdown",
   "metadata": {},
   "source": [
    "There are a lot of small games in our dataset and we expect the distribution to be tilted towards the lower values. Let's have look at the correlation between 'SteamSpyOwners' and 'SteamSpyOwnersVariance'."
   ]
  },
  {
   "cell_type": "code",
   "execution_count": 83,
   "metadata": {},
   "outputs": [
    {
     "data": {
      "image/png": "[encoded data removed]",
      "text/plain": [
       "<Figure size 432x288 with 1 Axes>"
      ]
     },
     "metadata": {},
     "output_type": "display_data"
    }
   ],
   "source": [
    "df.plot.scatter('SteamSpyOwners','SteamSpyOwnersVariance');"
   ]
  },
  {
   "cell_type": "markdown",
   "metadata": {},
   "source": [
    "### SteamSpyPlayersEstimate and SteamSpyPlayersVariance\n",
    "Similarly to the previous two attributes, these two are strictly correlative."
   ]
  },
  {
   "cell_type": "code",
   "execution_count": 84,
   "metadata": {},
   "outputs": [
    {
     "name": "stdout",
     "output_type": "stream",
     "text": [
      "14.48% of our games are missing SteamSpyOwners feature.\n",
      "14.48% of our games are missing SteamSpyOwnersVariance feature.\n"
     ]
    }
   ],
   "source": [
    "print('{:0.2f}% of our games are missing SteamSpyOwners feature.'.format(len(df[df.SteamSpyPlayersEstimate==0])/len(df)*100))\n",
    "print('{:0.2f}% of our games are missing SteamSpyOwnersVariance feature.'\\\n",
    "      .format(len(df[df.SteamSpyPlayersVariance==0])/len(df)*100))"
   ]
  },
  {
   "cell_type": "code",
   "execution_count": 85,
   "metadata": {},
   "outputs": [
    {
     "data": {
      "text/plain": [
       "count       11,404.00\n",
       "mean       119,238.33\n",
       "std      1,080,619.50\n",
       "min              0.00\n",
       "25%          1,076.00\n",
       "50%          6,098.00\n",
       "75%         36,408.00\n",
       "max     90,687,580.00\n",
       "Name: SteamSpyPlayersEstimate, dtype: float64"
      ]
     },
     "execution_count": 85,
     "metadata": {},
     "output_type": "execute_result"
    }
   ],
   "source": [
    "df.SteamSpyPlayersEstimate.describe()"
   ]
  },
  {
   "cell_type": "code",
   "execution_count": 86,
   "metadata": {},
   "outputs": [
    {
     "data": {
      "text/plain": [
       "count    11,404.00\n",
       "mean      4,519.76\n",
       "std       7,688.14\n",
       "min           0.00\n",
       "25%       1,044.00\n",
       "50%       2,073.00\n",
       "75%       4,994.00\n",
       "max     215,972.00\n",
       "Name: SteamSpyPlayersVariance, dtype: float64"
      ]
     },
     "execution_count": 86,
     "metadata": {},
     "output_type": "execute_result"
    }
   ],
   "source": [
    "df.SteamSpyPlayersVariance.describe()"
   ]
  },
  {
   "cell_type": "markdown",
   "metadata": {},
   "source": [
    "### AchievementCount"
   ]
  },
  {
   "cell_type": "code",
   "execution_count": 87,
   "metadata": {},
   "outputs": [
    {
     "name": "stdout",
     "output_type": "stream",
     "text": [
      "49.37% of our games have no Achievements.\n"
     ]
    },
    {
     "data": {
      "text/plain": [
       "count   11,404.00\n",
       "mean        15.97\n",
       "std         38.13\n",
       "min          0.00\n",
       "25%          0.00\n",
       "50%          1.50\n",
       "75%         22.00\n",
       "max      1,629.00\n",
       "Name: AchievementCount, dtype: float64"
      ]
     },
     "execution_count": 87,
     "metadata": {},
     "output_type": "execute_result"
    }
   ],
   "source": [
    "print('{:0.2f}% of our games have no Achievements.'.format(len(df[df.AchievementCount==0])/len(df)*100))\n",
    "df.AchievementCount.describe()"
   ]
  },
  {
   "cell_type": "markdown",
   "metadata": {},
   "source": [
    "Almost a half of the games in our dataset have no achievements. Let's also examine the sample of games which have achievements separately."
   ]
  },
  {
   "cell_type": "code",
   "execution_count": 88,
   "metadata": {},
   "outputs": [
    {
     "name": "stdout",
     "output_type": "stream",
     "text": [
      "Our sample of games that have achievements has 5774 entries\n"
     ]
    },
    {
     "data": {
      "text/plain": [
       "count   5,774.00\n",
       "mean       31.53\n",
       "std        48.79\n",
       "min         1.00\n",
       "25%        13.00\n",
       "50%        22.00\n",
       "75%        38.00\n",
       "max     1,629.00\n",
       "Name: AchievementCount, dtype: float64"
      ]
     },
     "execution_count": 88,
     "metadata": {},
     "output_type": "execute_result"
    }
   ],
   "source": [
    "achievement_sample = df[df.AchievementCount> 0]\n",
    "print('Our sample of games that have achievements has {} entries'.format(len(achievement_sample)))\n",
    "achievement_sample.AchievementCount.describe()"
   ]
  },
  {
   "cell_type": "code",
   "execution_count": 89,
   "metadata": {},
   "outputs": [
    {
     "data": {
      "image/png": "[encoded data removed]",
      "text/plain": [
       "<Figure size 432x288 with 1 Axes>"
      ]
     },
     "metadata": {},
     "output_type": "display_data"
    }
   ],
   "source": [
    "plt.hist(achievement_sample.AchievementCount,bins=150,range=(0,300))\n",
    "plt.xlabel('Number of achievements')\n",
    "plt.ylabel('Count')\n",
    "plt.title('Achievements distribution')\n",
    "plt.show()"
   ]
  },
  {
   "cell_type": "markdown",
   "metadata": {},
   "source": [
    "Now, we would explore some of our boolean attributes. However, we can group some of these in relevant groups. Let's finish our numerical attributes first before we get into the boolean values.\n",
    "\n",
    "### PriceInitial and PriceFinal\n",
    "Here our two price features."
   ]
  },
  {
   "cell_type": "code",
   "execution_count": 90,
   "metadata": {},
   "outputs": [
    {
     "name": "stdout",
     "output_type": "stream",
     "text": [
      "11.69% of our games have PriceInitial == 0.\n",
      "11.69% of our games have PriceFinal == 0.\n"
     ]
    }
   ],
   "source": [
    "print('{:0.2f}% of our games have PriceInitial == 0.'.format(len(df[df.PriceInitial==0])/len(df)*100))\n",
    "print('{:0.2f}% of our games have PriceFinal == 0.'.format(len(df[df.PriceFinal==0])/len(df)*100))"
   ]
  },
  {
   "cell_type": "code",
   "execution_count": 91,
   "metadata": {},
   "outputs": [
    {
     "data": {
      "text/plain": [
       "count   11,404.00\n",
       "mean         9.32\n",
       "std         10.26\n",
       "min          0.00\n",
       "25%          2.99\n",
       "50%          6.99\n",
       "75%          9.99\n",
       "max        234.99\n",
       "Name: PriceInitial, dtype: float64"
      ]
     },
     "execution_count": 91,
     "metadata": {},
     "output_type": "execute_result"
    }
   ],
   "source": [
    "df.PriceInitial.describe()"
   ]
  },
  {
   "cell_type": "code",
   "execution_count": 92,
   "metadata": {},
   "outputs": [
    {
     "data": {
      "text/plain": [
       "count   11,404.00\n",
       "mean         8.94\n",
       "std          9.22\n",
       "min          0.00\n",
       "25%          2.99\n",
       "50%          6.99\n",
       "75%          9.99\n",
       "max        234.99\n",
       "Name: PriceFinal, dtype: float64"
      ]
     },
     "execution_count": 92,
     "metadata": {},
     "output_type": "execute_result"
    }
   ],
   "source": [
    "df.PriceFinal.describe()"
   ]
  },
  {
   "cell_type": "markdown",
   "metadata": {},
   "source": [
    "Let's have a look at the price distribution throughout our data."
   ]
  },
  {
   "cell_type": "code",
   "execution_count": 93,
   "metadata": {},
   "outputs": [
    {
     "data": {
      "image/png": "[encoded data removed]",
      "text/plain": [
       "<Figure size 432x288 with 1 Axes>"
      ]
     },
     "metadata": {},
     "output_type": "display_data"
    }
   ],
   "source": [
    "plt.hist(df.PriceInitial, bins=60, range=(0,60))\n",
    "plt.xlabel('Price')\n",
    "plt.ylabel('Count')\n",
    "plt.title('Price distribution')\n",
    "plt.show()"
   ]
  },
  {
   "cell_type": "markdown",
   "metadata": {},
   "source": [
    "Note the trend of pricing games. The peeks are at prices $X4.99 and $X9.99. We can compare the distributions of Initial and Final praces."
   ]
  },
  {
   "cell_type": "code",
   "execution_count": 94,
   "metadata": {},
   "outputs": [
    {
     "data": {
      "image/png": "[encoded data removed]",
      "text/plain": [
       "<Figure size 432x288 with 1 Axes>"
      ]
     },
     "metadata": {},
     "output_type": "display_data"
    }
   ],
   "source": [
    "plt.hist([df.PriceInitial, df.PriceFinal], bins=30, range=(0,30), label=['PriceInitial', 'PriceFinal'])\n",
    "plt.legend(loc='upper right')\n",
    "plt.xlabel('Price')\n",
    "plt.ylabel('Count')\n",
    "plt.title('Price comparison distribution')\n",
    "plt.show()"
   ]
  },
  {
   "cell_type": "markdown",
   "metadata": {},
   "source": [
    "We can also have a look at the price drop distribution among the games that dropped their prices."
   ]
  },
  {
   "cell_type": "code",
   "execution_count": 95,
   "metadata": {},
   "outputs": [
    {
     "data": {
      "image/png": "[encoded data removed]",
      "text/plain": [
       "<Figure size 432x288 with 1 Axes>"
      ]
     },
     "metadata": {},
     "output_type": "display_data"
    }
   ],
   "source": [
    "changed_price = df.apply(lambda row: row.PriceInitial - row.PriceFinal, axis=1)\n",
    "plt.hist(changed_price,bins=50, range=(1,45))\n",
    "plt.xlabel('Price Drop')\n",
    "plt.ylabel('Count')\n",
    "plt.title('Price drop distribution')\n",
    "plt.show()"
   ]
  },
  {
   "cell_type": "markdown",
   "metadata": {},
   "source": [
    "### LanguageCount\n",
    "This is a column that we modified previously."
   ]
  },
  {
   "cell_type": "code",
   "execution_count": 96,
   "metadata": {},
   "outputs": [
    {
     "name": "stdout",
     "output_type": "stream",
     "text": [
      "0.04% of our games are missing the supported languages attribute.\n"
     ]
    },
    {
     "data": {
      "text/plain": [
       "count   11,404.00\n",
       "mean         3.13\n",
       "std          3.71\n",
       "min          0.00\n",
       "25%          1.00\n",
       "50%          1.00\n",
       "75%          5.00\n",
       "max         27.00\n",
       "Name: LanguageCount, dtype: float64"
      ]
     },
     "execution_count": 96,
     "metadata": {},
     "output_type": "execute_result"
    }
   ],
   "source": [
    "print('{:0.2f}% of our games are missing the supported languages attribute.'\\\n",
    "      .format(len(df[df.LanguageCount==0])/len(df)*100))\n",
    "df.LanguageCount.describe()"
   ]
  },
  {
   "cell_type": "code",
   "execution_count": 97,
   "metadata": {},
   "outputs": [
    {
     "name": "stdout",
     "output_type": "stream",
     "text": [
      "Most of the games support 1 language(s).\n"
     ]
    }
   ],
   "source": [
    "print('Most of the games support {} language(s).'.format(df.LanguageCount.mode()[0]))"
   ]
  },
  {
   "cell_type": "code",
   "execution_count": 98,
   "metadata": {},
   "outputs": [
    {
     "data": {
      "image/png": "[encoded data removed]",
      "text/plain": [
       "<Figure size 432x288 with 1 Axes>"
      ]
     },
     "metadata": {},
     "output_type": "display_data"
    }
   ],
   "source": [
    "plt.hist(df.LanguageCount, bins=28)\n",
    "plt.xlabel('Number of supported languages')\n",
    "plt.ylabel('Count')\n",
    "plt.title('Language support distribution')\n",
    "plt.show()"
   ]
  },
  {
   "cell_type": "markdown",
   "metadata": {},
   "source": [
    "CONTINUE WITH THIS OVERVIEW OF ATTRIBUTES **[TODO]**"
   ]
  },
  {
   "cell_type": "markdown",
   "metadata": {},
   "source": [
    "### Correlation Matrix of numerical attributes\n",
    "\n",
    "Let's have a look at the correlation between all our numerical attributes."
   ]
  },
  {
   "cell_type": "code",
   "execution_count": 99,
   "metadata": {
    "scrolled": true
   },
   "outputs": [
    {
     "data": {
      "text/html": [
       "<style  type=\"text/css\" >\n",
       "    #T_eaaf6460_e693_11e8_a6aa_f8633f500dbbrow0_col0 {\n",
       "            background-color:  #008000;\n",
       "        }    #T_eaaf6460_e693_11e8_a6aa_f8633f500dbbrow0_col1 {\n",
       "            background-color:  #ddfbdd;\n",
       "        }    #T_eaaf6460_e693_11e8_a6aa_f8633f500dbbrow0_col2 {\n",
       "            background-color:  #daf9da;\n",
       "        }    #T_eaaf6460_e693_11e8_a6aa_f8633f500dbbrow0_col3 {\n",
       "            background-color:  #dffcdf;\n",
       "        }    #T_eaaf6460_e693_11e8_a6aa_f8633f500dbbrow0_col4 {\n",
       "            background-color:  #b8e6b8;\n",
       "        }    #T_eaaf6460_e693_11e8_a6aa_f8633f500dbbrow0_col5 {\n",
       "            background-color:  #d0f3d0;\n",
       "        }    #T_eaaf6460_e693_11e8_a6aa_f8633f500dbbrow0_col6 {\n",
       "            background-color:  #c9efc9;\n",
       "        }    #T_eaaf6460_e693_11e8_a6aa_f8633f500dbbrow0_col7 {\n",
       "            background-color:  #d5f6d5;\n",
       "        }    #T_eaaf6460_e693_11e8_a6aa_f8633f500dbbrow0_col8 {\n",
       "            background-color:  #defbde;\n",
       "        }    #T_eaaf6460_e693_11e8_a6aa_f8633f500dbbrow0_col9 {\n",
       "            background-color:  #d8f8d8;\n",
       "        }    #T_eaaf6460_e693_11e8_a6aa_f8633f500dbbrow0_col10 {\n",
       "            background-color:  #d2f4d2;\n",
       "        }    #T_eaaf6460_e693_11e8_a6aa_f8633f500dbbrow0_col11 {\n",
       "            background-color:  #b5e4b5;\n",
       "        }    #T_eaaf6460_e693_11e8_a6aa_f8633f500dbbrow0_col12 {\n",
       "            background-color:  #d5f6d5;\n",
       "        }    #T_eaaf6460_e693_11e8_a6aa_f8633f500dbbrow0_col13 {\n",
       "            background-color:  #b5e4b5;\n",
       "        }    #T_eaaf6460_e693_11e8_a6aa_f8633f500dbbrow0_col14 {\n",
       "            background-color:  #dcfadc;\n",
       "        }    #T_eaaf6460_e693_11e8_a6aa_f8633f500dbbrow0_col15 {\n",
       "            background-color:  #c7eec7;\n",
       "        }    #T_eaaf6460_e693_11e8_a6aa_f8633f500dbbrow0_col16 {\n",
       "            background-color:  #c2ecc2;\n",
       "        }    #T_eaaf6460_e693_11e8_a6aa_f8633f500dbbrow0_col17 {\n",
       "            background-color:  #d7f7d7;\n",
       "        }    #T_eaaf6460_e693_11e8_a6aa_f8633f500dbbrow1_col0 {\n",
       "            background-color:  #e5ffe5;\n",
       "        }    #T_eaaf6460_e693_11e8_a6aa_f8633f500dbbrow1_col1 {\n",
       "            background-color:  #008000;\n",
       "        }    #T_eaaf6460_e693_11e8_a6aa_f8633f500dbbrow1_col2 {\n",
       "            background-color:  #e5ffe5;\n",
       "        }    #T_eaaf6460_e693_11e8_a6aa_f8633f500dbbrow1_col3 {\n",
       "            background-color:  #e0fce0;\n",
       "        }    #T_eaaf6460_e693_11e8_a6aa_f8633f500dbbrow1_col4 {\n",
       "            background-color:  #c8efc8;\n",
       "        }    #T_eaaf6460_e693_11e8_a6aa_f8633f500dbbrow1_col5 {\n",
       "            background-color:  #e5ffe5;\n",
       "        }    #T_eaaf6460_e693_11e8_a6aa_f8633f500dbbrow1_col6 {\n",
       "            background-color:  #caf0ca;\n",
       "        }    #T_eaaf6460_e693_11e8_a6aa_f8633f500dbbrow1_col7 {\n",
       "            background-color:  #e5ffe5;\n",
       "        }    #T_eaaf6460_e693_11e8_a6aa_f8633f500dbbrow1_col8 {\n",
       "            background-color:  #e5ffe5;\n",
       "        }    #T_eaaf6460_e693_11e8_a6aa_f8633f500dbbrow1_col9 {\n",
       "            background-color:  #daf9da;\n",
       "        }    #T_eaaf6460_e693_11e8_a6aa_f8633f500dbbrow1_col10 {\n",
       "            background-color:  #e5ffe5;\n",
       "        }    #T_eaaf6460_e693_11e8_a6aa_f8633f500dbbrow1_col11 {\n",
       "            background-color:  #e3fee3;\n",
       "        }    #T_eaaf6460_e693_11e8_a6aa_f8633f500dbbrow1_col12 {\n",
       "            background-color:  #e5ffe5;\n",
       "        }    #T_eaaf6460_e693_11e8_a6aa_f8633f500dbbrow1_col13 {\n",
       "            background-color:  #e3fee3;\n",
       "        }    #T_eaaf6460_e693_11e8_a6aa_f8633f500dbbrow1_col14 {\n",
       "            background-color:  #dcfadc;\n",
       "        }    #T_eaaf6460_e693_11e8_a6aa_f8633f500dbbrow1_col15 {\n",
       "            background-color:  #dffcdf;\n",
       "        }    #T_eaaf6460_e693_11e8_a6aa_f8633f500dbbrow1_col16 {\n",
       "            background-color:  #e2fde2;\n",
       "        }    #T_eaaf6460_e693_11e8_a6aa_f8633f500dbbrow1_col17 {\n",
       "            background-color:  #e5ffe5;\n",
       "        }    #T_eaaf6460_e693_11e8_a6aa_f8633f500dbbrow2_col0 {\n",
       "            background-color:  #e2fde2;\n",
       "        }    #T_eaaf6460_e693_11e8_a6aa_f8633f500dbbrow2_col1 {\n",
       "            background-color:  #e5ffe5;\n",
       "        }    #T_eaaf6460_e693_11e8_a6aa_f8633f500dbbrow2_col2 {\n",
       "            background-color:  #008000;\n",
       "        }    #T_eaaf6460_e693_11e8_a6aa_f8633f500dbbrow2_col3 {\n",
       "            background-color:  #e5ffe5;\n",
       "        }    #T_eaaf6460_e693_11e8_a6aa_f8633f500dbbrow2_col4 {\n",
       "            background-color:  #e5ffe5;\n",
       "        }    #T_eaaf6460_e693_11e8_a6aa_f8633f500dbbrow2_col5 {\n",
       "            background-color:  #e5ffe5;\n",
       "        }    #T_eaaf6460_e693_11e8_a6aa_f8633f500dbbrow2_col6 {\n",
       "            background-color:  #e5ffe5;\n",
       "        }    #T_eaaf6460_e693_11e8_a6aa_f8633f500dbbrow2_col7 {\n",
       "            background-color:  #e4fee4;\n",
       "        }    #T_eaaf6460_e693_11e8_a6aa_f8633f500dbbrow2_col8 {\n",
       "            background-color:  #c0eac0;\n",
       "        }    #T_eaaf6460_e693_11e8_a6aa_f8633f500dbbrow2_col9 {\n",
       "            background-color:  #e5ffe5;\n",
       "        }    #T_eaaf6460_e693_11e8_a6aa_f8633f500dbbrow2_col10 {\n",
       "            background-color:  #e4fee4;\n",
       "        }    #T_eaaf6460_e693_11e8_a6aa_f8633f500dbbrow2_col11 {\n",
       "            background-color:  #e5ffe5;\n",
       "        }    #T_eaaf6460_e693_11e8_a6aa_f8633f500dbbrow2_col12 {\n",
       "            background-color:  #e5ffe5;\n",
       "        }    #T_eaaf6460_e693_11e8_a6aa_f8633f500dbbrow2_col13 {\n",
       "            background-color:  #e5ffe5;\n",
       "        }    #T_eaaf6460_e693_11e8_a6aa_f8633f500dbbrow2_col14 {\n",
       "            background-color:  #e4fee4;\n",
       "        }    #T_eaaf6460_e693_11e8_a6aa_f8633f500dbbrow2_col15 {\n",
       "            background-color:  #e4fee4;\n",
       "        }    #T_eaaf6460_e693_11e8_a6aa_f8633f500dbbrow2_col16 {\n",
       "            background-color:  #e5ffe5;\n",
       "        }    #T_eaaf6460_e693_11e8_a6aa_f8633f500dbbrow2_col17 {\n",
       "            background-color:  #e5ffe5;\n",
       "        }    #T_eaaf6460_e693_11e8_a6aa_f8633f500dbbrow3_col0 {\n",
       "            background-color:  #e3fee3;\n",
       "        }    #T_eaaf6460_e693_11e8_a6aa_f8633f500dbbrow3_col1 {\n",
       "            background-color:  #dcfadc;\n",
       "        }    #T_eaaf6460_e693_11e8_a6aa_f8633f500dbbrow3_col2 {\n",
       "            background-color:  #e0fce0;\n",
       "        }    #T_eaaf6460_e693_11e8_a6aa_f8633f500dbbrow3_col3 {\n",
       "            background-color:  #008000;\n",
       "        }    #T_eaaf6460_e693_11e8_a6aa_f8633f500dbbrow3_col4 {\n",
       "            background-color:  #defbde;\n",
       "        }    #T_eaaf6460_e693_11e8_a6aa_f8633f500dbbrow3_col5 {\n",
       "            background-color:  #defbde;\n",
       "        }    #T_eaaf6460_e693_11e8_a6aa_f8633f500dbbrow3_col6 {\n",
       "            background-color:  #c9efc9;\n",
       "        }    #T_eaaf6460_e693_11e8_a6aa_f8633f500dbbrow3_col7 {\n",
       "            background-color:  #dffcdf;\n",
       "        }    #T_eaaf6460_e693_11e8_a6aa_f8633f500dbbrow3_col8 {\n",
       "            background-color:  #e4fee4;\n",
       "        }    #T_eaaf6460_e693_11e8_a6aa_f8633f500dbbrow3_col9 {\n",
       "            background-color:  #defbde;\n",
       "        }    #T_eaaf6460_e693_11e8_a6aa_f8633f500dbbrow3_col10 {\n",
       "            background-color:  #e0fce0;\n",
       "        }    #T_eaaf6460_e693_11e8_a6aa_f8633f500dbbrow3_col11 {\n",
       "            background-color:  #dbf9db;\n",
       "        }    #T_eaaf6460_e693_11e8_a6aa_f8633f500dbbrow3_col12 {\n",
       "            background-color:  #e0fce0;\n",
       "        }    #T_eaaf6460_e693_11e8_a6aa_f8633f500dbbrow3_col13 {\n",
       "            background-color:  #d6f7d6;\n",
       "        }    #T_eaaf6460_e693_11e8_a6aa_f8633f500dbbrow3_col14 {\n",
       "            background-color:  #c5edc5;\n",
       "        }    #T_eaaf6460_e693_11e8_a6aa_f8633f500dbbrow3_col15 {\n",
       "            background-color:  #d4f6d4;\n",
       "        }    #T_eaaf6460_e693_11e8_a6aa_f8633f500dbbrow3_col16 {\n",
       "            background-color:  #d3f5d3;\n",
       "        }    #T_eaaf6460_e693_11e8_a6aa_f8633f500dbbrow3_col17 {\n",
       "            background-color:  #e5ffe5;\n",
       "        }    #T_eaaf6460_e693_11e8_a6aa_f8633f500dbbrow4_col0 {\n",
       "            background-color:  #b9e7b9;\n",
       "        }    #T_eaaf6460_e693_11e8_a6aa_f8633f500dbbrow4_col1 {\n",
       "            background-color:  #c1ebc1;\n",
       "        }    #T_eaaf6460_e693_11e8_a6aa_f8633f500dbbrow4_col2 {\n",
       "            background-color:  #defbde;\n",
       "        }    #T_eaaf6460_e693_11e8_a6aa_f8633f500dbbrow4_col3 {\n",
       "            background-color:  #dcfadc;\n",
       "        }    #T_eaaf6460_e693_11e8_a6aa_f8633f500dbbrow4_col4 {\n",
       "            background-color:  #008000;\n",
       "        }    #T_eaaf6460_e693_11e8_a6aa_f8633f500dbbrow4_col5 {\n",
       "            background-color:  #c6eec6;\n",
       "        }    #T_eaaf6460_e693_11e8_a6aa_f8633f500dbbrow4_col6 {\n",
       "            background-color:  #9ed79e;\n",
       "        }    #T_eaaf6460_e693_11e8_a6aa_f8633f500dbbrow4_col7 {\n",
       "            background-color:  #cdf2cd;\n",
       "        }    #T_eaaf6460_e693_11e8_a6aa_f8633f500dbbrow4_col8 {\n",
       "            background-color:  #d6f7d6;\n",
       "        }    #T_eaaf6460_e693_11e8_a6aa_f8633f500dbbrow4_col9 {\n",
       "            background-color:  #c6eec6;\n",
       "        }    #T_eaaf6460_e693_11e8_a6aa_f8633f500dbbrow4_col10 {\n",
       "            background-color:  #bee9be;\n",
       "        }    #T_eaaf6460_e693_11e8_a6aa_f8633f500dbbrow4_col11 {\n",
       "            background-color:  #89cc89;\n",
       "        }    #T_eaaf6460_e693_11e8_a6aa_f8633f500dbbrow4_col12 {\n",
       "            background-color:  #c5edc5;\n",
       "        }    #T_eaaf6460_e693_11e8_a6aa_f8633f500dbbrow4_col13 {\n",
       "            background-color:  #8bcd8b;\n",
       "        }    #T_eaaf6460_e693_11e8_a6aa_f8633f500dbbrow4_col14 {\n",
       "            background-color:  #c9efc9;\n",
       "        }    #T_eaaf6460_e693_11e8_a6aa_f8633f500dbbrow4_col15 {\n",
       "            background-color:  #aee0ae;\n",
       "        }    #T_eaaf6460_e693_11e8_a6aa_f8633f500dbbrow4_col16 {\n",
       "            background-color:  #ade0ad;\n",
       "        }    #T_eaaf6460_e693_11e8_a6aa_f8633f500dbbrow4_col17 {\n",
       "            background-color:  #b8e6b8;\n",
       "        }    #T_eaaf6460_e693_11e8_a6aa_f8633f500dbbrow5_col0 {\n",
       "            background-color:  #cdf2cd;\n",
       "        }    #T_eaaf6460_e693_11e8_a6aa_f8633f500dbbrow5_col1 {\n",
       "            background-color:  #daf9da;\n",
       "        }    #T_eaaf6460_e693_11e8_a6aa_f8633f500dbbrow5_col2 {\n",
       "            background-color:  #dbf9db;\n",
       "        }    #T_eaaf6460_e693_11e8_a6aa_f8633f500dbbrow5_col3 {\n",
       "            background-color:  #d8f8d8;\n",
       "        }    #T_eaaf6460_e693_11e8_a6aa_f8633f500dbbrow5_col4 {\n",
       "            background-color:  #c2ecc2;\n",
       "        }    #T_eaaf6460_e693_11e8_a6aa_f8633f500dbbrow5_col5 {\n",
       "            background-color:  #008000;\n",
       "        }    #T_eaaf6460_e693_11e8_a6aa_f8633f500dbbrow5_col6 {\n",
       "            background-color:  #d3f5d3;\n",
       "        }    #T_eaaf6460_e693_11e8_a6aa_f8633f500dbbrow5_col7 {\n",
       "            background-color:  #c5edc5;\n",
       "        }    #T_eaaf6460_e693_11e8_a6aa_f8633f500dbbrow5_col8 {\n",
       "            background-color:  #dbf9db;\n",
       "        }    #T_eaaf6460_e693_11e8_a6aa_f8633f500dbbrow5_col9 {\n",
       "            background-color:  #a6dca6;\n",
       "        }    #T_eaaf6460_e693_11e8_a6aa_f8633f500dbbrow5_col10 {\n",
       "            background-color:  #c7eec7;\n",
       "        }    #T_eaaf6460_e693_11e8_a6aa_f8633f500dbbrow5_col11 {\n",
       "            background-color:  #bfeabf;\n",
       "        }    #T_eaaf6460_e693_11e8_a6aa_f8633f500dbbrow5_col12 {\n",
       "            background-color:  #c6eec6;\n",
       "        }    #T_eaaf6460_e693_11e8_a6aa_f8633f500dbbrow5_col13 {\n",
       "            background-color:  #b6e5b6;\n",
       "        }    #T_eaaf6460_e693_11e8_a6aa_f8633f500dbbrow5_col14 {\n",
       "            background-color:  #c0eac0;\n",
       "        }    #T_eaaf6460_e693_11e8_a6aa_f8633f500dbbrow5_col15 {\n",
       "            background-color:  #b7e5b7;\n",
       "        }    #T_eaaf6460_e693_11e8_a6aa_f8633f500dbbrow5_col16 {\n",
       "            background-color:  #b3e3b3;\n",
       "        }    #T_eaaf6460_e693_11e8_a6aa_f8633f500dbbrow5_col17 {\n",
       "            background-color:  #c8efc8;\n",
       "        }    #T_eaaf6460_e693_11e8_a6aa_f8633f500dbbrow6_col0 {\n",
       "            background-color:  #cef2ce;\n",
       "        }    #T_eaaf6460_e693_11e8_a6aa_f8633f500dbbrow6_col1 {\n",
       "            background-color:  #c8efc8;\n",
       "        }    #T_eaaf6460_e693_11e8_a6aa_f8633f500dbbrow6_col2 {\n",
       "            background-color:  #e4fee4;\n",
       "        }    #T_eaaf6460_e693_11e8_a6aa_f8633f500dbbrow6_col3 {\n",
       "            background-color:  #cbf1cb;\n",
       "        }    #T_eaaf6460_e693_11e8_a6aa_f8633f500dbbrow6_col4 {\n",
       "            background-color:  #a1d9a1;\n",
       "        }    #T_eaaf6460_e693_11e8_a6aa_f8633f500dbbrow6_col5 {\n",
       "            background-color:  #dcfadc;\n",
       "        }    #T_eaaf6460_e693_11e8_a6aa_f8633f500dbbrow6_col6 {\n",
       "            background-color:  #008000;\n",
       "        }    #T_eaaf6460_e693_11e8_a6aa_f8633f500dbbrow6_col7 {\n",
       "            background-color:  #defbde;\n",
       "        }    #T_eaaf6460_e693_11e8_a6aa_f8633f500dbbrow6_col8 {\n",
       "            background-color:  #c6eec6;\n",
       "        }    #T_eaaf6460_e693_11e8_a6aa_f8633f500dbbrow6_col9 {\n",
       "            background-color:  #cef2ce;\n",
       "        }    #T_eaaf6460_e693_11e8_a6aa_f8633f500dbbrow6_col10 {\n",
       "            background-color:  #defbde;\n",
       "        }    #T_eaaf6460_e693_11e8_a6aa_f8633f500dbbrow6_col11 {\n",
       "            background-color:  #c3ecc3;\n",
       "        }    #T_eaaf6460_e693_11e8_a6aa_f8633f500dbbrow6_col12 {\n",
       "            background-color:  #dffcdf;\n",
       "        }    #T_eaaf6460_e693_11e8_a6aa_f8633f500dbbrow6_col13 {\n",
       "            background-color:  #c2ebc2;\n",
       "        }    #T_eaaf6460_e693_11e8_a6aa_f8633f500dbbrow6_col14 {\n",
       "            background-color:  #d1f4d1;\n",
       "        }    #T_eaaf6460_e693_11e8_a6aa_f8633f500dbbrow6_col15 {\n",
       "            background-color:  #a2daa2;\n",
       "        }    #T_eaaf6460_e693_11e8_a6aa_f8633f500dbbrow6_col16 {\n",
       "            background-color:  #a6dca6;\n",
       "        }    #T_eaaf6460_e693_11e8_a6aa_f8633f500dbbrow6_col17 {\n",
       "            background-color:  #cdf2cd;\n",
       "        }    #T_eaaf6460_e693_11e8_a6aa_f8633f500dbbrow7_col0 {\n",
       "            background-color:  #daf9da;\n",
       "        }    #T_eaaf6460_e693_11e8_a6aa_f8633f500dbbrow7_col1 {\n",
       "            background-color:  #e2fde2;\n",
       "        }    #T_eaaf6460_e693_11e8_a6aa_f8633f500dbbrow7_col2 {\n",
       "            background-color:  #e0fce0;\n",
       "        }    #T_eaaf6460_e693_11e8_a6aa_f8633f500dbbrow7_col3 {\n",
       "            background-color:  #e0fce0;\n",
       "        }    #T_eaaf6460_e693_11e8_a6aa_f8633f500dbbrow7_col4 {\n",
       "            background-color:  #d0f3d0;\n",
       "        }    #T_eaaf6460_e693_11e8_a6aa_f8633f500dbbrow7_col5 {\n",
       "            background-color:  #cbf1cb;\n",
       "        }    #T_eaaf6460_e693_11e8_a6aa_f8633f500dbbrow7_col6 {\n",
       "            background-color:  #dcfadc;\n",
       "        }    #T_eaaf6460_e693_11e8_a6aa_f8633f500dbbrow7_col7 {\n",
       "            background-color:  #008000;\n",
       "        }    #T_eaaf6460_e693_11e8_a6aa_f8633f500dbbrow7_col8 {\n",
       "            background-color:  #e3fee3;\n",
       "        }    #T_eaaf6460_e693_11e8_a6aa_f8633f500dbbrow7_col9 {\n",
       "            background-color:  #daf9da;\n",
       "        }    #T_eaaf6460_e693_11e8_a6aa_f8633f500dbbrow7_col10 {\n",
       "            background-color:  #52ad52;\n",
       "        }    #T_eaaf6460_e693_11e8_a6aa_f8633f500dbbrow7_col11 {\n",
       "            background-color:  #88cb88;\n",
       "        }    #T_eaaf6460_e693_11e8_a6aa_f8633f500dbbrow7_col12 {\n",
       "            background-color:  #4ba94b;\n",
       "        }    #T_eaaf6460_e693_11e8_a6aa_f8633f500dbbrow7_col13 {\n",
       "            background-color:  #77c277;\n",
       "        }    #T_eaaf6460_e693_11e8_a6aa_f8633f500dbbrow7_col14 {\n",
       "            background-color:  #cdf2cd;\n",
       "        }    #T_eaaf6460_e693_11e8_a6aa_f8633f500dbbrow7_col15 {\n",
       "            background-color:  #e2fde2;\n",
       "        }    #T_eaaf6460_e693_11e8_a6aa_f8633f500dbbrow7_col16 {\n",
       "            background-color:  #e1fde1;\n",
       "        }    #T_eaaf6460_e693_11e8_a6aa_f8633f500dbbrow7_col17 {\n",
       "            background-color:  #cdf2cd;\n",
       "        }    #T_eaaf6460_e693_11e8_a6aa_f8633f500dbbrow8_col0 {\n",
       "            background-color:  #e4fee4;\n",
       "        }    #T_eaaf6460_e693_11e8_a6aa_f8633f500dbbrow8_col1 {\n",
       "            background-color:  #e3fee3;\n",
       "        }    #T_eaaf6460_e693_11e8_a6aa_f8633f500dbbrow8_col2 {\n",
       "            background-color:  #bde9bd;\n",
       "        }    #T_eaaf6460_e693_11e8_a6aa_f8633f500dbbrow8_col3 {\n",
       "            background-color:  #e5ffe5;\n",
       "        }    #T_eaaf6460_e693_11e8_a6aa_f8633f500dbbrow8_col4 {\n",
       "            background-color:  #daf9da;\n",
       "        }    #T_eaaf6460_e693_11e8_a6aa_f8633f500dbbrow8_col5 {\n",
       "            background-color:  #e3fee3;\n",
       "        }    #T_eaaf6460_e693_11e8_a6aa_f8633f500dbbrow8_col6 {\n",
       "            background-color:  #c5edc5;\n",
       "        }    #T_eaaf6460_e693_11e8_a6aa_f8633f500dbbrow8_col7 {\n",
       "            background-color:  #e4fee4;\n",
       "        }    #T_eaaf6460_e693_11e8_a6aa_f8633f500dbbrow8_col8 {\n",
       "            background-color:  #008000;\n",
       "        }    #T_eaaf6460_e693_11e8_a6aa_f8633f500dbbrow8_col9 {\n",
       "            background-color:  #dcfadc;\n",
       "        }    #T_eaaf6460_e693_11e8_a6aa_f8633f500dbbrow8_col10 {\n",
       "            background-color:  #e2fde2;\n",
       "        }    #T_eaaf6460_e693_11e8_a6aa_f8633f500dbbrow8_col11 {\n",
       "            background-color:  #defbde;\n",
       "        }    #T_eaaf6460_e693_11e8_a6aa_f8633f500dbbrow8_col12 {\n",
       "            background-color:  #e3fee3;\n",
       "        }    #T_eaaf6460_e693_11e8_a6aa_f8633f500dbbrow8_col13 {\n",
       "            background-color:  #dffcdf;\n",
       "        }    #T_eaaf6460_e693_11e8_a6aa_f8633f500dbbrow8_col14 {\n",
       "            background-color:  #e5ffe5;\n",
       "        }    #T_eaaf6460_e693_11e8_a6aa_f8633f500dbbrow8_col15 {\n",
       "            background-color:  #dcfadc;\n",
       "        }    #T_eaaf6460_e693_11e8_a6aa_f8633f500dbbrow8_col16 {\n",
       "            background-color:  #dcfadc;\n",
       "        }    #T_eaaf6460_e693_11e8_a6aa_f8633f500dbbrow8_col17 {\n",
       "            background-color:  #e4fee4;\n",
       "        }    #T_eaaf6460_e693_11e8_a6aa_f8633f500dbbrow9_col0 {\n",
       "            background-color:  #dcfadc;\n",
       "        }    #T_eaaf6460_e693_11e8_a6aa_f8633f500dbbrow9_col1 {\n",
       "            background-color:  #d6f7d6;\n",
       "        }    #T_eaaf6460_e693_11e8_a6aa_f8633f500dbbrow9_col2 {\n",
       "            background-color:  #e2fde2;\n",
       "        }    #T_eaaf6460_e693_11e8_a6aa_f8633f500dbbrow9_col3 {\n",
       "            background-color:  #dffcdf;\n",
       "        }    #T_eaaf6460_e693_11e8_a6aa_f8633f500dbbrow9_col4 {\n",
       "            background-color:  #c9efc9;\n",
       "        }    #T_eaaf6460_e693_11e8_a6aa_f8633f500dbbrow9_col5 {\n",
       "            background-color:  #abdfab;\n",
       "        }    #T_eaaf6460_e693_11e8_a6aa_f8633f500dbbrow9_col6 {\n",
       "            background-color:  #ccf1cc;\n",
       "        }    #T_eaaf6460_e693_11e8_a6aa_f8633f500dbbrow9_col7 {\n",
       "            background-color:  #daf9da;\n",
       "        }    #T_eaaf6460_e693_11e8_a6aa_f8633f500dbbrow9_col8 {\n",
       "            background-color:  #dcfadc;\n",
       "        }    #T_eaaf6460_e693_11e8_a6aa_f8633f500dbbrow9_col9 {\n",
       "            background-color:  #008000;\n",
       "        }    #T_eaaf6460_e693_11e8_a6aa_f8633f500dbbrow9_col10 {\n",
       "            background-color:  #daf9da;\n",
       "        }    #T_eaaf6460_e693_11e8_a6aa_f8633f500dbbrow9_col11 {\n",
       "            background-color:  #cff3cf;\n",
       "        }    #T_eaaf6460_e693_11e8_a6aa_f8633f500dbbrow9_col12 {\n",
       "            background-color:  #daf9da;\n",
       "        }    #T_eaaf6460_e693_11e8_a6aa_f8633f500dbbrow9_col13 {\n",
       "            background-color:  #cbf1cb;\n",
       "        }    #T_eaaf6460_e693_11e8_a6aa_f8633f500dbbrow9_col14 {\n",
       "            background-color:  #c4edc4;\n",
       "        }    #T_eaaf6460_e693_11e8_a6aa_f8633f500dbbrow9_col15 {\n",
       "            background-color:  #c2ebc2;\n",
       "        }    #T_eaaf6460_e693_11e8_a6aa_f8633f500dbbrow9_col16 {\n",
       "            background-color:  #c1ebc1;\n",
       "        }    #T_eaaf6460_e693_11e8_a6aa_f8633f500dbbrow9_col17 {\n",
       "            background-color:  #e2fde2;\n",
       "        }    #T_eaaf6460_e693_11e8_a6aa_f8633f500dbbrow10_col0 {\n",
       "            background-color:  #d3f5d3;\n",
       "        }    #T_eaaf6460_e693_11e8_a6aa_f8633f500dbbrow10_col1 {\n",
       "            background-color:  #dffcdf;\n",
       "        }    #T_eaaf6460_e693_11e8_a6aa_f8633f500dbbrow10_col2 {\n",
       "            background-color:  #dcfadc;\n",
       "        }    #T_eaaf6460_e693_11e8_a6aa_f8633f500dbbrow10_col3 {\n",
       "            background-color:  #defbde;\n",
       "        }    #T_eaaf6460_e693_11e8_a6aa_f8633f500dbbrow10_col4 {\n",
       "            background-color:  #bfeabf;\n",
       "        }    #T_eaaf6460_e693_11e8_a6aa_f8633f500dbbrow10_col5 {\n",
       "            background-color:  #caf0ca;\n",
       "        }    #T_eaaf6460_e693_11e8_a6aa_f8633f500dbbrow10_col6 {\n",
       "            background-color:  #d9f8d9;\n",
       "        }    #T_eaaf6460_e693_11e8_a6aa_f8633f500dbbrow10_col7 {\n",
       "            background-color:  #51ad51;\n",
       "        }    #T_eaaf6460_e693_11e8_a6aa_f8633f500dbbrow10_col8 {\n",
       "            background-color:  #defbde;\n",
       "        }    #T_eaaf6460_e693_11e8_a6aa_f8633f500dbbrow10_col9 {\n",
       "            background-color:  #d7f7d7;\n",
       "        }    #T_eaaf6460_e693_11e8_a6aa_f8633f500dbbrow10_col10 {\n",
       "            background-color:  #008000;\n",
       "        }    #T_eaaf6460_e693_11e8_a6aa_f8633f500dbbrow10_col11 {\n",
       "            background-color:  #46a746;\n",
       "        }    #T_eaaf6460_e693_11e8_a6aa_f8633f500dbbrow10_col12 {\n",
       "            background-color:  #078407;\n",
       "        }    #T_eaaf6460_e693_11e8_a6aa_f8633f500dbbrow10_col13 {\n",
       "            background-color:  #3fa33f;\n",
       "        }    #T_eaaf6460_e693_11e8_a6aa_f8633f500dbbrow10_col14 {\n",
       "            background-color:  #ccf1cc;\n",
       "        }    #T_eaaf6460_e693_11e8_a6aa_f8633f500dbbrow10_col15 {\n",
       "            background-color:  #e5ffe5;\n",
       "        }    #T_eaaf6460_e693_11e8_a6aa_f8633f500dbbrow10_col16 {\n",
       "            background-color:  #e5ffe5;\n",
       "        }    #T_eaaf6460_e693_11e8_a6aa_f8633f500dbbrow10_col17 {\n",
       "            background-color:  #c5edc5;\n",
       "        }    #T_eaaf6460_e693_11e8_a6aa_f8633f500dbbrow11_col0 {\n",
       "            background-color:  #aee0ae;\n",
       "        }    #T_eaaf6460_e693_11e8_a6aa_f8633f500dbbrow11_col1 {\n",
       "            background-color:  #d3f5d3;\n",
       "        }    #T_eaaf6460_e693_11e8_a6aa_f8633f500dbbrow11_col2 {\n",
       "            background-color:  #d5f6d5;\n",
       "        }    #T_eaaf6460_e693_11e8_a6aa_f8633f500dbbrow11_col3 {\n",
       "            background-color:  #cff3cf;\n",
       "        }    #T_eaaf6460_e693_11e8_a6aa_f8633f500dbbrow11_col4 {\n",
       "            background-color:  #83c983;\n",
       "        }    #T_eaaf6460_e693_11e8_a6aa_f8633f500dbbrow11_col5 {\n",
       "            background-color:  #bae7ba;\n",
       "        }    #T_eaaf6460_e693_11e8_a6aa_f8633f500dbbrow11_col6 {\n",
       "            background-color:  #b7e5b7;\n",
       "        }    #T_eaaf6460_e693_11e8_a6aa_f8633f500dbbrow11_col7 {\n",
       "            background-color:  #81c781;\n",
       "        }    #T_eaaf6460_e693_11e8_a6aa_f8633f500dbbrow11_col8 {\n",
       "            background-color:  #d1f4d1;\n",
       "        }    #T_eaaf6460_e693_11e8_a6aa_f8633f500dbbrow11_col9 {\n",
       "            background-color:  #c4edc4;\n",
       "        }    #T_eaaf6460_e693_11e8_a6aa_f8633f500dbbrow11_col10 {\n",
       "            background-color:  #43a543;\n",
       "        }    #T_eaaf6460_e693_11e8_a6aa_f8633f500dbbrow11_col11 {\n",
       "            background-color:  #008000;\n",
       "        }    #T_eaaf6460_e693_11e8_a6aa_f8633f500dbbrow11_col12 {\n",
       "            background-color:  #5db35d;\n",
       "        }    #T_eaaf6460_e693_11e8_a6aa_f8633f500dbbrow11_col13 {\n",
       "            background-color:  #078407;\n",
       "        }    #T_eaaf6460_e693_11e8_a6aa_f8633f500dbbrow11_col14 {\n",
       "            background-color:  #b9e7b9;\n",
       "        }    #T_eaaf6460_e693_11e8_a6aa_f8633f500dbbrow11_col15 {\n",
       "            background-color:  #d0f3d0;\n",
       "        }    #T_eaaf6460_e693_11e8_a6aa_f8633f500dbbrow11_col16 {\n",
       "            background-color:  #d1f4d1;\n",
       "        }    #T_eaaf6460_e693_11e8_a6aa_f8633f500dbbrow11_col17 {\n",
       "            background-color:  #acdfac;\n",
       "        }    #T_eaaf6460_e693_11e8_a6aa_f8633f500dbbrow12_col0 {\n",
       "            background-color:  #d8f8d8;\n",
       "        }    #T_eaaf6460_e693_11e8_a6aa_f8633f500dbbrow12_col1 {\n",
       "            background-color:  #e0fce0;\n",
       "        }    #T_eaaf6460_e693_11e8_a6aa_f8633f500dbbrow12_col2 {\n",
       "            background-color:  #defbde;\n",
       "        }    #T_eaaf6460_e693_11e8_a6aa_f8633f500dbbrow12_col3 {\n",
       "            background-color:  #defbde;\n",
       "        }    #T_eaaf6460_e693_11e8_a6aa_f8633f500dbbrow12_col4 {\n",
       "            background-color:  #c6eec6;\n",
       "        }    #T_eaaf6460_e693_11e8_a6aa_f8633f500dbbrow12_col5 {\n",
       "            background-color:  #caf0ca;\n",
       "        }    #T_eaaf6460_e693_11e8_a6aa_f8633f500dbbrow12_col6 {\n",
       "            background-color:  #dbf9db;\n",
       "        }    #T_eaaf6460_e693_11e8_a6aa_f8633f500dbbrow12_col7 {\n",
       "            background-color:  #4aa94a;\n",
       "        }    #T_eaaf6460_e693_11e8_a6aa_f8633f500dbbrow12_col8 {\n",
       "            background-color:  #e0fce0;\n",
       "        }    #T_eaaf6460_e693_11e8_a6aa_f8633f500dbbrow12_col9 {\n",
       "            background-color:  #d8f8d8;\n",
       "        }    #T_eaaf6460_e693_11e8_a6aa_f8633f500dbbrow12_col10 {\n",
       "            background-color:  #078407;\n",
       "        }    #T_eaaf6460_e693_11e8_a6aa_f8633f500dbbrow12_col11 {\n",
       "            background-color:  #61b661;\n",
       "        }    #T_eaaf6460_e693_11e8_a6aa_f8633f500dbbrow12_col12 {\n",
       "            background-color:  #008000;\n",
       "        }    #T_eaaf6460_e693_11e8_a6aa_f8633f500dbbrow12_col13 {\n",
       "            background-color:  #50ac50;\n",
       "        }    #T_eaaf6460_e693_11e8_a6aa_f8633f500dbbrow12_col14 {\n",
       "            background-color:  #cdf2cd;\n",
       "        }    #T_eaaf6460_e693_11e8_a6aa_f8633f500dbbrow12_col15 {\n",
       "            background-color:  #e5ffe5;\n",
       "        }    #T_eaaf6460_e693_11e8_a6aa_f8633f500dbbrow12_col16 {\n",
       "            background-color:  #e5ffe5;\n",
       "        }    #T_eaaf6460_e693_11e8_a6aa_f8633f500dbbrow12_col17 {\n",
       "            background-color:  #c9efc9;\n",
       "        }    #T_eaaf6460_e693_11e8_a6aa_f8633f500dbbrow13_col0 {\n",
       "            background-color:  #afe1af;\n",
       "        }    #T_eaaf6460_e693_11e8_a6aa_f8633f500dbbrow13_col1 {\n",
       "            background-color:  #d3f5d3;\n",
       "        }    #T_eaaf6460_e693_11e8_a6aa_f8633f500dbbrow13_col2 {\n",
       "            background-color:  #d6f7d6;\n",
       "        }    #T_eaaf6460_e693_11e8_a6aa_f8633f500dbbrow13_col3 {\n",
       "            background-color:  #ccf1cc;\n",
       "        }    #T_eaaf6460_e693_11e8_a6aa_f8633f500dbbrow13_col4 {\n",
       "            background-color:  #85ca85;\n",
       "        }    #T_eaaf6460_e693_11e8_a6aa_f8633f500dbbrow13_col5 {\n",
       "            background-color:  #b1e2b1;\n",
       "        }    #T_eaaf6460_e693_11e8_a6aa_f8633f500dbbrow13_col6 {\n",
       "            background-color:  #b5e4b5;\n",
       "        }    #T_eaaf6460_e693_11e8_a6aa_f8633f500dbbrow13_col7 {\n",
       "            background-color:  #70be70;\n",
       "        }    #T_eaaf6460_e693_11e8_a6aa_f8633f500dbbrow13_col8 {\n",
       "            background-color:  #d3f5d3;\n",
       "        }    #T_eaaf6460_e693_11e8_a6aa_f8633f500dbbrow13_col9 {\n",
       "            background-color:  #c1ebc1;\n",
       "        }    #T_eaaf6460_e693_11e8_a6aa_f8633f500dbbrow13_col10 {\n",
       "            background-color:  #3ca13c;\n",
       "        }    #T_eaaf6460_e693_11e8_a6aa_f8633f500dbbrow13_col11 {\n",
       "            background-color:  #078407;\n",
       "        }    #T_eaaf6460_e693_11e8_a6aa_f8633f500dbbrow13_col12 {\n",
       "            background-color:  #4daa4d;\n",
       "        }    #T_eaaf6460_e693_11e8_a6aa_f8633f500dbbrow13_col13 {\n",
       "            background-color:  #008000;\n",
       "        }    #T_eaaf6460_e693_11e8_a6aa_f8633f500dbbrow13_col14 {\n",
       "            background-color:  #b3e3b3;\n",
       "        }    #T_eaaf6460_e693_11e8_a6aa_f8633f500dbbrow13_col15 {\n",
       "            background-color:  #c8efc8;\n",
       "        }    #T_eaaf6460_e693_11e8_a6aa_f8633f500dbbrow13_col16 {\n",
       "            background-color:  #c7eec7;\n",
       "        }    #T_eaaf6460_e693_11e8_a6aa_f8633f500dbbrow13_col17 {\n",
       "            background-color:  #a7dda7;\n",
       "        }    #T_eaaf6460_e693_11e8_a6aa_f8633f500dbbrow14_col0 {\n",
       "            background-color:  #dffcdf;\n",
       "        }    #T_eaaf6460_e693_11e8_a6aa_f8633f500dbbrow14_col1 {\n",
       "            background-color:  #d7f7d7;\n",
       "        }    #T_eaaf6460_e693_11e8_a6aa_f8633f500dbbrow14_col2 {\n",
       "            background-color:  #defbde;\n",
       "        }    #T_eaaf6460_e693_11e8_a6aa_f8633f500dbbrow14_col3 {\n",
       "            background-color:  #c5edc5;\n",
       "        }    #T_eaaf6460_e693_11e8_a6aa_f8633f500dbbrow14_col4 {\n",
       "            background-color:  #caf0ca;\n",
       "        }    #T_eaaf6460_e693_11e8_a6aa_f8633f500dbbrow14_col5 {\n",
       "            background-color:  #c4edc4;\n",
       "        }    #T_eaaf6460_e693_11e8_a6aa_f8633f500dbbrow14_col6 {\n",
       "            background-color:  #cdf2cd;\n",
       "        }    #T_eaaf6460_e693_11e8_a6aa_f8633f500dbbrow14_col7 {\n",
       "            background-color:  #cbf1cb;\n",
       "        }    #T_eaaf6460_e693_11e8_a6aa_f8633f500dbbrow14_col8 {\n",
       "            background-color:  #e4fee4;\n",
       "        }    #T_eaaf6460_e693_11e8_a6aa_f8633f500dbbrow14_col9 {\n",
       "            background-color:  #c2ecc2;\n",
       "        }    #T_eaaf6460_e693_11e8_a6aa_f8633f500dbbrow14_col10 {\n",
       "            background-color:  #cdf2cd;\n",
       "        }    #T_eaaf6460_e693_11e8_a6aa_f8633f500dbbrow14_col11 {\n",
       "            background-color:  #c2ecc2;\n",
       "        }    #T_eaaf6460_e693_11e8_a6aa_f8633f500dbbrow14_col12 {\n",
       "            background-color:  #cdf2cd;\n",
       "        }    #T_eaaf6460_e693_11e8_a6aa_f8633f500dbbrow14_col13 {\n",
       "            background-color:  #bce8bc;\n",
       "        }    #T_eaaf6460_e693_11e8_a6aa_f8633f500dbbrow14_col14 {\n",
       "            background-color:  #008000;\n",
       "        }    #T_eaaf6460_e693_11e8_a6aa_f8633f500dbbrow14_col15 {\n",
       "            background-color:  #cff3cf;\n",
       "        }    #T_eaaf6460_e693_11e8_a6aa_f8633f500dbbrow14_col16 {\n",
       "            background-color:  #d0f3d0;\n",
       "        }    #T_eaaf6460_e693_11e8_a6aa_f8633f500dbbrow14_col17 {\n",
       "            background-color:  #d1f4d1;\n",
       "        }    #T_eaaf6460_e693_11e8_a6aa_f8633f500dbbrow15_col0 {\n",
       "            background-color:  #c5edc5;\n",
       "        }    #T_eaaf6460_e693_11e8_a6aa_f8633f500dbbrow15_col1 {\n",
       "            background-color:  #d4f6d4;\n",
       "        }    #T_eaaf6460_e693_11e8_a6aa_f8633f500dbbrow15_col2 {\n",
       "            background-color:  #d9f8d9;\n",
       "        }    #T_eaaf6460_e693_11e8_a6aa_f8633f500dbbrow15_col3 {\n",
       "            background-color:  #cff3cf;\n",
       "        }    #T_eaaf6460_e693_11e8_a6aa_f8633f500dbbrow15_col4 {\n",
       "            background-color:  #abdfab;\n",
       "        }    #T_eaaf6460_e693_11e8_a6aa_f8633f500dbbrow15_col5 {\n",
       "            background-color:  #b7e5b7;\n",
       "        }    #T_eaaf6460_e693_11e8_a6aa_f8633f500dbbrow15_col6 {\n",
       "            background-color:  #9cd69c;\n",
       "        }    #T_eaaf6460_e693_11e8_a6aa_f8633f500dbbrow15_col7 {\n",
       "            background-color:  #dcfadc;\n",
       "        }    #T_eaaf6460_e693_11e8_a6aa_f8633f500dbbrow15_col8 {\n",
       "            background-color:  #d4f6d4;\n",
       "        }    #T_eaaf6460_e693_11e8_a6aa_f8633f500dbbrow15_col9 {\n",
       "            background-color:  #bce8bc;\n",
       "        }    #T_eaaf6460_e693_11e8_a6aa_f8633f500dbbrow15_col10 {\n",
       "            background-color:  #e2fde2;\n",
       "        }    #T_eaaf6460_e693_11e8_a6aa_f8633f500dbbrow15_col11 {\n",
       "            background-color:  #d5f6d5;\n",
       "        }    #T_eaaf6460_e693_11e8_a6aa_f8633f500dbbrow15_col12 {\n",
       "            background-color:  #e1fde1;\n",
       "        }    #T_eaaf6460_e693_11e8_a6aa_f8633f500dbbrow15_col13 {\n",
       "            background-color:  #ccf1cc;\n",
       "        }    #T_eaaf6460_e693_11e8_a6aa_f8633f500dbbrow15_col14 {\n",
       "            background-color:  #caf0ca;\n",
       "        }    #T_eaaf6460_e693_11e8_a6aa_f8633f500dbbrow15_col15 {\n",
       "            background-color:  #008000;\n",
       "        }    #T_eaaf6460_e693_11e8_a6aa_f8633f500dbbrow15_col16 {\n",
       "            background-color:  #178c17;\n",
       "        }    #T_eaaf6460_e693_11e8_a6aa_f8633f500dbbrow15_col17 {\n",
       "            background-color:  #c2ecc2;\n",
       "        }    #T_eaaf6460_e693_11e8_a6aa_f8633f500dbbrow16_col0 {\n",
       "            background-color:  #c1ebc1;\n",
       "        }    #T_eaaf6460_e693_11e8_a6aa_f8633f500dbbrow16_col1 {\n",
       "            background-color:  #d6f7d6;\n",
       "        }    #T_eaaf6460_e693_11e8_a6aa_f8633f500dbbrow16_col2 {\n",
       "            background-color:  #daf9da;\n",
       "        }    #T_eaaf6460_e693_11e8_a6aa_f8633f500dbbrow16_col3 {\n",
       "            background-color:  #cdf2cd;\n",
       "        }    #T_eaaf6460_e693_11e8_a6aa_f8633f500dbbrow16_col4 {\n",
       "            background-color:  #aadeaa;\n",
       "        }    #T_eaaf6460_e693_11e8_a6aa_f8633f500dbbrow16_col5 {\n",
       "            background-color:  #b4e4b4;\n",
       "        }    #T_eaaf6460_e693_11e8_a6aa_f8633f500dbbrow16_col6 {\n",
       "            background-color:  #9fd89f;\n",
       "        }    #T_eaaf6460_e693_11e8_a6aa_f8633f500dbbrow16_col7 {\n",
       "            background-color:  #daf9da;\n",
       "        }    #T_eaaf6460_e693_11e8_a6aa_f8633f500dbbrow16_col8 {\n",
       "            background-color:  #d4f6d4;\n",
       "        }    #T_eaaf6460_e693_11e8_a6aa_f8633f500dbbrow16_col9 {\n",
       "            background-color:  #bbe8bb;\n",
       "        }    #T_eaaf6460_e693_11e8_a6aa_f8633f500dbbrow16_col10 {\n",
       "            background-color:  #e2fde2;\n",
       "        }    #T_eaaf6460_e693_11e8_a6aa_f8633f500dbbrow16_col11 {\n",
       "            background-color:  #d6f7d6;\n",
       "        }    #T_eaaf6460_e693_11e8_a6aa_f8633f500dbbrow16_col12 {\n",
       "            background-color:  #e0fce0;\n",
       "        }    #T_eaaf6460_e693_11e8_a6aa_f8633f500dbbrow16_col13 {\n",
       "            background-color:  #cbf1cb;\n",
       "        }    #T_eaaf6460_e693_11e8_a6aa_f8633f500dbbrow16_col14 {\n",
       "            background-color:  #caf0ca;\n",
       "        }    #T_eaaf6460_e693_11e8_a6aa_f8633f500dbbrow16_col15 {\n",
       "            background-color:  #178c17;\n",
       "        }    #T_eaaf6460_e693_11e8_a6aa_f8633f500dbbrow16_col16 {\n",
       "            background-color:  #008000;\n",
       "        }    #T_eaaf6460_e693_11e8_a6aa_f8633f500dbbrow16_col17 {\n",
       "            background-color:  #c2ebc2;\n",
       "        }    #T_eaaf6460_e693_11e8_a6aa_f8633f500dbbrow17_col0 {\n",
       "            background-color:  #d2f4d2;\n",
       "        }    #T_eaaf6460_e693_11e8_a6aa_f8633f500dbbrow17_col1 {\n",
       "            background-color:  #d8f8d8;\n",
       "        }    #T_eaaf6460_e693_11e8_a6aa_f8633f500dbbrow17_col2 {\n",
       "            background-color:  #d7f7d7;\n",
       "        }    #T_eaaf6460_e693_11e8_a6aa_f8633f500dbbrow17_col3 {\n",
       "            background-color:  #dbf9db;\n",
       "        }    #T_eaaf6460_e693_11e8_a6aa_f8633f500dbbrow17_col4 {\n",
       "            background-color:  #b2e3b2;\n",
       "        }    #T_eaaf6460_e693_11e8_a6aa_f8633f500dbbrow17_col5 {\n",
       "            background-color:  #c5edc5;\n",
       "        }    #T_eaaf6460_e693_11e8_a6aa_f8633f500dbbrow17_col6 {\n",
       "            background-color:  #c2ecc2;\n",
       "        }    #T_eaaf6460_e693_11e8_a6aa_f8633f500dbbrow17_col7 {\n",
       "            background-color:  #c4edc4;\n",
       "        }    #T_eaaf6460_e693_11e8_a6aa_f8633f500dbbrow17_col8 {\n",
       "            background-color:  #d9f8d9;\n",
       "        }    #T_eaaf6460_e693_11e8_a6aa_f8633f500dbbrow17_col9 {\n",
       "            background-color:  #d8f8d8;\n",
       "        }    #T_eaaf6460_e693_11e8_a6aa_f8633f500dbbrow17_col10 {\n",
       "            background-color:  #bfeabf;\n",
       "        }    #T_eaaf6460_e693_11e8_a6aa_f8633f500dbbrow17_col11 {\n",
       "            background-color:  #aee0ae;\n",
       "        }    #T_eaaf6460_e693_11e8_a6aa_f8633f500dbbrow17_col12 {\n",
       "            background-color:  #c2ebc2;\n",
       "        }    #T_eaaf6460_e693_11e8_a6aa_f8633f500dbbrow17_col13 {\n",
       "            background-color:  #a9dea9;\n",
       "        }    #T_eaaf6460_e693_11e8_a6aa_f8633f500dbbrow17_col14 {\n",
       "            background-color:  #caf0ca;\n",
       "        }    #T_eaaf6460_e693_11e8_a6aa_f8633f500dbbrow17_col15 {\n",
       "            background-color:  #bfeabf;\n",
       "        }    #T_eaaf6460_e693_11e8_a6aa_f8633f500dbbrow17_col16 {\n",
       "            background-color:  #bfeabf;\n",
       "        }    #T_eaaf6460_e693_11e8_a6aa_f8633f500dbbrow17_col17 {\n",
       "            background-color:  #008000;\n",
       "        }</style>  \n",
       "<table id=\"T_eaaf6460_e693_11e8_a6aa_f8633f500dbb\" > \n",
       "<thead>    <tr> \n",
       "        <th class=\"blank level0\" ></th> \n",
       "        <th class=\"col_heading level0 col0\" >RequiredAge</th> \n",
       "        <th class=\"col_heading level0 col1\" >DemoCount</th> \n",
       "        <th class=\"col_heading level0 col2\" >DeveloperCount</th> \n",
       "        <th class=\"col_heading level0 col3\" >DLCCount</th> \n",
       "        <th class=\"col_heading level0 col4\" >Metacritic</th> \n",
       "        <th class=\"col_heading level0 col5\" >StoreVideoCount</th> \n",
       "        <th class=\"col_heading level0 col6\" >BundleCount</th> \n",
       "        <th class=\"col_heading level0 col7\" >RecommendationCount</th> \n",
       "        <th class=\"col_heading level0 col8\" >PublisherCount</th> \n",
       "        <th class=\"col_heading level0 col9\" >StoreScreenshotCount</th> \n",
       "        <th class=\"col_heading level0 col10\" >SteamSpyOwners</th> \n",
       "        <th class=\"col_heading level0 col11\" >SteamSpyOwnersVariance</th> \n",
       "        <th class=\"col_heading level0 col12\" >SteamSpyPlayersEstimate</th> \n",
       "        <th class=\"col_heading level0 col13\" >SteamSpyPlayersVariance</th> \n",
       "        <th class=\"col_heading level0 col14\" >AchievementCount</th> \n",
       "        <th class=\"col_heading level0 col15\" >PriceInitial</th> \n",
       "        <th class=\"col_heading level0 col16\" >PriceFinal</th> \n",
       "        <th class=\"col_heading level0 col17\" >LanguageCount</th> \n",
       "    </tr></thead> \n",
       "<tbody>    <tr> \n",
       "        <th id=\"T_eaaf6460_e693_11e8_a6aa_f8633f500dbblevel0_row0\" class=\"row_heading level0 row0\" >RequiredAge</th> \n",
       "        <td id=\"T_eaaf6460_e693_11e8_a6aa_f8633f500dbbrow0_col0\" class=\"data row0 col0\" >1</td> \n",
       "        <td id=\"T_eaaf6460_e693_11e8_a6aa_f8633f500dbbrow0_col1\" class=\"data row0 col1\" >0.0243119</td> \n",
       "        <td id=\"T_eaaf6460_e693_11e8_a6aa_f8633f500dbbrow0_col2\" class=\"data row0 col2\" >0.0419755</td> \n",
       "        <td id=\"T_eaaf6460_e693_11e8_a6aa_f8633f500dbbrow0_col3\" class=\"data row0 col3\" >0.0391575</td> \n",
       "        <td id=\"T_eaaf6460_e693_11e8_a6aa_f8633f500dbbrow0_col4\" class=\"data row0 col4\" >0.213041</td> \n",
       "        <td id=\"T_eaaf6460_e693_11e8_a6aa_f8633f500dbbrow0_col5\" class=\"data row0 col5\" >0.130426</td> \n",
       "        <td id=\"T_eaaf6460_e693_11e8_a6aa_f8633f500dbbrow0_col6\" class=\"data row0 col6\" >0.124001</td> \n",
       "        <td id=\"T_eaaf6460_e693_11e8_a6aa_f8633f500dbbrow0_col7\" class=\"data row0 col7\" >0.0755175</td> \n",
       "        <td id=\"T_eaaf6460_e693_11e8_a6aa_f8633f500dbbrow0_col8\" class=\"data row0 col8\" >0.0328732</td> \n",
       "        <td id=\"T_eaaf6460_e693_11e8_a6aa_f8633f500dbbrow0_col9\" class=\"data row0 col9\" >0.06381</td> \n",
       "        <td id=\"T_eaaf6460_e693_11e8_a6aa_f8633f500dbbrow0_col10\" class=\"data row0 col10\" >0.104779</td> \n",
       "        <td id=\"T_eaaf6460_e693_11e8_a6aa_f8633f500dbbrow0_col11\" class=\"data row0 col11\" >0.260858</td> \n",
       "        <td id=\"T_eaaf6460_e693_11e8_a6aa_f8633f500dbbrow0_col12\" class=\"data row0 col12\" >0.0834923</td> \n",
       "        <td id=\"T_eaaf6460_e693_11e8_a6aa_f8633f500dbbrow0_col13\" class=\"data row0 col13\" >0.259739</td> \n",
       "        <td id=\"T_eaaf6460_e693_11e8_a6aa_f8633f500dbbrow0_col14\" class=\"data row0 col14\" >0.0511355</td> \n",
       "        <td id=\"T_eaaf6460_e693_11e8_a6aa_f8633f500dbbrow0_col15\" class=\"data row0 col15\" >0.163108</td> \n",
       "        <td id=\"T_eaaf6460_e693_11e8_a6aa_f8633f500dbbrow0_col16\" class=\"data row0 col16\" >0.182826</td> \n",
       "        <td id=\"T_eaaf6460_e693_11e8_a6aa_f8633f500dbbrow0_col17\" class=\"data row0 col17\" >0.110286</td> \n",
       "    </tr>    <tr> \n",
       "        <th id=\"T_eaaf6460_e693_11e8_a6aa_f8633f500dbblevel0_row1\" class=\"row_heading level0 row1\" >DemoCount</th> \n",
       "        <td id=\"T_eaaf6460_e693_11e8_a6aa_f8633f500dbbrow1_col0\" class=\"data row1 col0\" >0.0243119</td> \n",
       "        <td id=\"T_eaaf6460_e693_11e8_a6aa_f8633f500dbbrow1_col1\" class=\"data row1 col1\" >1</td> \n",
       "        <td id=\"T_eaaf6460_e693_11e8_a6aa_f8633f500dbbrow1_col2\" class=\"data row1 col2\" >-0.0133608</td> \n",
       "        <td id=\"T_eaaf6460_e693_11e8_a6aa_f8633f500dbbrow1_col3\" class=\"data row1 col3\" >0.0319212</td> \n",
       "        <td id=\"T_eaaf6460_e693_11e8_a6aa_f8633f500dbbrow1_col4\" class=\"data row1 col4\" >0.149248</td> \n",
       "        <td id=\"T_eaaf6460_e693_11e8_a6aa_f8633f500dbbrow1_col5\" class=\"data row1 col5\" >0.0386928</td> \n",
       "        <td id=\"T_eaaf6460_e693_11e8_a6aa_f8633f500dbbrow1_col6\" class=\"data row1 col6\" >0.117842</td> \n",
       "        <td id=\"T_eaaf6460_e693_11e8_a6aa_f8633f500dbbrow1_col7\" class=\"data row1 col7\" >0.00481406</td> \n",
       "        <td id=\"T_eaaf6460_e693_11e8_a6aa_f8633f500dbbrow1_col8\" class=\"data row1 col8\" >0.000687605</td> \n",
       "        <td id=\"T_eaaf6460_e693_11e8_a6aa_f8633f500dbbrow1_col9\" class=\"data row1 col9\" >0.0560145</td> \n",
       "        <td id=\"T_eaaf6460_e693_11e8_a6aa_f8633f500dbbrow1_col10\" class=\"data row1 col10\" >0.0174266</td> \n",
       "        <td id=\"T_eaaf6460_e693_11e8_a6aa_f8633f500dbbrow1_col11\" class=\"data row1 col11\" >0.0714416</td> \n",
       "        <td id=\"T_eaaf6460_e693_11e8_a6aa_f8633f500dbbrow1_col12\" class=\"data row1 col12\" >0.0135312</td> \n",
       "        <td id=\"T_eaaf6460_e693_11e8_a6aa_f8633f500dbbrow1_col13\" class=\"data row1 col13\" >0.0698991</td> \n",
       "        <td id=\"T_eaaf6460_e693_11e8_a6aa_f8633f500dbbrow1_col14\" class=\"data row1 col14\" >0.0523622</td> \n",
       "        <td id=\"T_eaaf6460_e693_11e8_a6aa_f8633f500dbbrow1_col15\" class=\"data row1 col15\" >0.063327</td> \n",
       "        <td id=\"T_eaaf6460_e693_11e8_a6aa_f8633f500dbbrow1_col16\" class=\"data row1 col16\" >0.0540429</td> \n",
       "        <td id=\"T_eaaf6460_e693_11e8_a6aa_f8633f500dbbrow1_col17\" class=\"data row1 col17\" >0.0491467</td> \n",
       "    </tr>    <tr> \n",
       "        <th id=\"T_eaaf6460_e693_11e8_a6aa_f8633f500dbblevel0_row2\" class=\"row_heading level0 row2\" >DeveloperCount</th> \n",
       "        <td id=\"T_eaaf6460_e693_11e8_a6aa_f8633f500dbbrow2_col0\" class=\"data row2 col0\" >0.0419755</td> \n",
       "        <td id=\"T_eaaf6460_e693_11e8_a6aa_f8633f500dbbrow2_col1\" class=\"data row2 col1\" >-0.0133608</td> \n",
       "        <td id=\"T_eaaf6460_e693_11e8_a6aa_f8633f500dbbrow2_col2\" class=\"data row2 col2\" >1</td> \n",
       "        <td id=\"T_eaaf6460_e693_11e8_a6aa_f8633f500dbbrow2_col3\" class=\"data row2 col3\" >0.0126264</td> \n",
       "        <td id=\"T_eaaf6460_e693_11e8_a6aa_f8633f500dbbrow2_col4\" class=\"data row2 col4\" >0.0191566</td> \n",
       "        <td id=\"T_eaaf6460_e693_11e8_a6aa_f8633f500dbbrow2_col5\" class=\"data row2 col5\" >0.0363935</td> \n",
       "        <td id=\"T_eaaf6460_e693_11e8_a6aa_f8633f500dbbrow2_col6\" class=\"data row2 col6\" >-0.00475318</td> \n",
       "        <td id=\"T_eaaf6460_e693_11e8_a6aa_f8633f500dbbrow2_col7\" class=\"data row2 col7\" >0.0130348</td> \n",
       "        <td id=\"T_eaaf6460_e693_11e8_a6aa_f8633f500dbbrow2_col8\" class=\"data row2 col8\" >0.165631</td> \n",
       "        <td id=\"T_eaaf6460_e693_11e8_a6aa_f8633f500dbbrow2_col9\" class=\"data row2 col9\" >0.00546573</td> \n",
       "        <td id=\"T_eaaf6460_e693_11e8_a6aa_f8633f500dbbrow2_col10\" class=\"data row2 col10\" >0.0276544</td> \n",
       "        <td id=\"T_eaaf6460_e693_11e8_a6aa_f8633f500dbbrow2_col11\" class=\"data row2 col11\" >0.0588764</td> \n",
       "        <td id=\"T_eaaf6460_e693_11e8_a6aa_f8633f500dbbrow2_col12\" class=\"data row2 col12\" >0.0194309</td> \n",
       "        <td id=\"T_eaaf6460_e693_11e8_a6aa_f8633f500dbbrow2_col13\" class=\"data row2 col13\" >0.0578512</td> \n",
       "        <td id=\"T_eaaf6460_e693_11e8_a6aa_f8633f500dbbrow2_col14\" class=\"data row2 col14\" >0.0222483</td> \n",
       "        <td id=\"T_eaaf6460_e693_11e8_a6aa_f8633f500dbbrow2_col15\" class=\"data row2 col15\" >0.04275</td> \n",
       "        <td id=\"T_eaaf6460_e693_11e8_a6aa_f8633f500dbbrow2_col16\" class=\"data row2 col16\" >0.0412437</td> \n",
       "        <td id=\"T_eaaf6460_e693_11e8_a6aa_f8633f500dbbrow2_col17\" class=\"data row2 col17\" >0.0500682</td> \n",
       "    </tr>    <tr> \n",
       "        <th id=\"T_eaaf6460_e693_11e8_a6aa_f8633f500dbblevel0_row3\" class=\"row_heading level0 row3\" >DLCCount</th> \n",
       "        <td id=\"T_eaaf6460_e693_11e8_a6aa_f8633f500dbbrow3_col0\" class=\"data row3 col0\" >0.0391575</td> \n",
       "        <td id=\"T_eaaf6460_e693_11e8_a6aa_f8633f500dbbrow3_col1\" class=\"data row3 col1\" >0.0319212</td> \n",
       "        <td id=\"T_eaaf6460_e693_11e8_a6aa_f8633f500dbbrow3_col2\" class=\"data row3 col2\" >0.0126264</td> \n",
       "        <td id=\"T_eaaf6460_e693_11e8_a6aa_f8633f500dbbrow3_col3\" class=\"data row3 col3\" >1</td> \n",
       "        <td id=\"T_eaaf6460_e693_11e8_a6aa_f8633f500dbbrow3_col4\" class=\"data row3 col4\" >0.0524554</td> \n",
       "        <td id=\"T_eaaf6460_e693_11e8_a6aa_f8633f500dbbrow3_col5\" class=\"data row3 col5\" >0.069377</td> \n",
       "        <td id=\"T_eaaf6460_e693_11e8_a6aa_f8633f500dbbrow3_col6\" class=\"data row3 col6\" >0.122484</td> \n",
       "        <td id=\"T_eaaf6460_e693_11e8_a6aa_f8633f500dbbrow3_col7\" class=\"data row3 col7\" >0.035428</td> \n",
       "        <td id=\"T_eaaf6460_e693_11e8_a6aa_f8633f500dbbrow3_col8\" class=\"data row3 col8\" >0.00861967</td> \n",
       "        <td id=\"T_eaaf6460_e693_11e8_a6aa_f8633f500dbbrow3_col9\" class=\"data row3 col9\" >0.0375963</td> \n",
       "        <td id=\"T_eaaf6460_e693_11e8_a6aa_f8633f500dbbrow3_col10\" class=\"data row3 col10\" >0.0434184</td> \n",
       "        <td id=\"T_eaaf6460_e693_11e8_a6aa_f8633f500dbbrow3_col11\" class=\"data row3 col11\" >0.105913</td> \n",
       "        <td id=\"T_eaaf6460_e693_11e8_a6aa_f8633f500dbbrow3_col12\" class=\"data row3 col12\" >0.0403819</td> \n",
       "        <td id=\"T_eaaf6460_e693_11e8_a6aa_f8633f500dbbrow3_col13\" class=\"data row3 col13\" >0.120487</td> \n",
       "        <td id=\"T_eaaf6460_e693_11e8_a6aa_f8633f500dbbrow3_col14\" class=\"data row3 col14\" >0.1517</td> \n",
       "        <td id=\"T_eaaf6460_e693_11e8_a6aa_f8633f500dbbrow3_col15\" class=\"data row3 col15\" >0.10781</td> \n",
       "        <td id=\"T_eaaf6460_e693_11e8_a6aa_f8633f500dbbrow3_col16\" class=\"data row3 col16\" >0.113485</td> \n",
       "        <td id=\"T_eaaf6460_e693_11e8_a6aa_f8633f500dbbrow3_col17\" class=\"data row3 col17\" >0.0557857</td> \n",
       "    </tr>    <tr> \n",
       "        <th id=\"T_eaaf6460_e693_11e8_a6aa_f8633f500dbblevel0_row4\" class=\"row_heading level0 row4\" >Metacritic</th> \n",
       "        <td id=\"T_eaaf6460_e693_11e8_a6aa_f8633f500dbbrow4_col0\" class=\"data row4 col0\" >0.213041</td> \n",
       "        <td id=\"T_eaaf6460_e693_11e8_a6aa_f8633f500dbbrow4_col1\" class=\"data row4 col1\" >0.149248</td> \n",
       "        <td id=\"T_eaaf6460_e693_11e8_a6aa_f8633f500dbbrow4_col2\" class=\"data row4 col2\" >0.0191566</td> \n",
       "        <td id=\"T_eaaf6460_e693_11e8_a6aa_f8633f500dbbrow4_col3\" class=\"data row4 col3\" >0.0524554</td> \n",
       "        <td id=\"T_eaaf6460_e693_11e8_a6aa_f8633f500dbbrow4_col4\" class=\"data row4 col4\" >1</td> \n",
       "        <td id=\"T_eaaf6460_e693_11e8_a6aa_f8633f500dbbrow4_col5\" class=\"data row4 col5\" >0.170852</td> \n",
       "        <td id=\"T_eaaf6460_e693_11e8_a6aa_f8633f500dbbrow4_col6\" class=\"data row4 col6\" >0.312157</td> \n",
       "        <td id=\"T_eaaf6460_e693_11e8_a6aa_f8633f500dbbrow4_col7\" class=\"data row4 col7\" >0.111788</td> \n",
       "        <td id=\"T_eaaf6460_e693_11e8_a6aa_f8633f500dbbrow4_col8\" class=\"data row4 col8\" >0.0706233</td> \n",
       "        <td id=\"T_eaaf6460_e693_11e8_a6aa_f8633f500dbbrow4_col9\" class=\"data row4 col9\" >0.141866</td> \n",
       "        <td id=\"T_eaaf6460_e693_11e8_a6aa_f8633f500dbbrow4_col10\" class=\"data row4 col10\" >0.18675</td> \n",
       "        <td id=\"T_eaaf6460_e693_11e8_a6aa_f8633f500dbbrow4_col11\" class=\"data row4 col11\" >0.437819</td> \n",
       "        <td id=\"T_eaaf6460_e693_11e8_a6aa_f8633f500dbbrow4_col12\" class=\"data row4 col12\" >0.154377</td> \n",
       "        <td id=\"T_eaaf6460_e693_11e8_a6aa_f8633f500dbbrow4_col13\" class=\"data row4 col13\" >0.431299</td> \n",
       "        <td id=\"T_eaaf6460_e693_11e8_a6aa_f8633f500dbbrow4_col14\" class=\"data row4 col14\" >0.139232</td> \n",
       "        <td id=\"T_eaaf6460_e693_11e8_a6aa_f8633f500dbbrow4_col15\" class=\"data row4 col15\" >0.26905</td> \n",
       "        <td id=\"T_eaaf6460_e693_11e8_a6aa_f8633f500dbbrow4_col16\" class=\"data row4 col16\" >0.274548</td> \n",
       "        <td id=\"T_eaaf6460_e693_11e8_a6aa_f8633f500dbbrow4_col17\" class=\"data row4 col17\" >0.238486</td> \n",
       "    </tr>    <tr> \n",
       "        <th id=\"T_eaaf6460_e693_11e8_a6aa_f8633f500dbblevel0_row5\" class=\"row_heading level0 row5\" >StoreVideoCount</th> \n",
       "        <td id=\"T_eaaf6460_e693_11e8_a6aa_f8633f500dbbrow5_col0\" class=\"data row5 col0\" >0.130426</td> \n",
       "        <td id=\"T_eaaf6460_e693_11e8_a6aa_f8633f500dbbrow5_col1\" class=\"data row5 col1\" >0.0386928</td> \n",
       "        <td id=\"T_eaaf6460_e693_11e8_a6aa_f8633f500dbbrow5_col2\" class=\"data row5 col2\" >0.0363935</td> \n",
       "        <td id=\"T_eaaf6460_e693_11e8_a6aa_f8633f500dbbrow5_col3\" class=\"data row5 col3\" >0.069377</td> \n",
       "        <td id=\"T_eaaf6460_e693_11e8_a6aa_f8633f500dbbrow5_col4\" class=\"data row5 col4\" >0.170852</td> \n",
       "        <td id=\"T_eaaf6460_e693_11e8_a6aa_f8633f500dbbrow5_col5\" class=\"data row5 col5\" >1</td> \n",
       "        <td id=\"T_eaaf6460_e693_11e8_a6aa_f8633f500dbbrow5_col6\" class=\"data row5 col6\" >0.0762402</td> \n",
       "        <td id=\"T_eaaf6460_e693_11e8_a6aa_f8633f500dbbrow5_col7\" class=\"data row5 col7\" >0.146583</td> \n",
       "        <td id=\"T_eaaf6460_e693_11e8_a6aa_f8633f500dbbrow5_col8\" class=\"data row5 col8\" >0.0500594</td> \n",
       "        <td id=\"T_eaaf6460_e693_11e8_a6aa_f8633f500dbbrow5_col9\" class=\"data row5 col9\" >0.283573</td> \n",
       "        <td id=\"T_eaaf6460_e693_11e8_a6aa_f8633f500dbbrow5_col10\" class=\"data row5 col10\" >0.15077</td> \n",
       "        <td id=\"T_eaaf6460_e693_11e8_a6aa_f8633f500dbbrow5_col11\" class=\"data row5 col11\" >0.218192</td> \n",
       "        <td id=\"T_eaaf6460_e693_11e8_a6aa_f8633f500dbbrow5_col12\" class=\"data row5 col12\" >0.151785</td> \n",
       "        <td id=\"T_eaaf6460_e693_11e8_a6aa_f8633f500dbbrow5_col13\" class=\"data row5 col13\" >0.256302</td> \n",
       "        <td id=\"T_eaaf6460_e693_11e8_a6aa_f8633f500dbbrow5_col14\" class=\"data row5 col14\" >0.176785</td> \n",
       "        <td id=\"T_eaaf6460_e693_11e8_a6aa_f8633f500dbbrow5_col15\" class=\"data row5 col15\" >0.232674</td> \n",
       "        <td id=\"T_eaaf6460_e693_11e8_a6aa_f8633f500dbbrow5_col16\" class=\"data row5 col16\" >0.246659</td> \n",
       "        <td id=\"T_eaaf6460_e693_11e8_a6aa_f8633f500dbbrow5_col17\" class=\"data row5 col17\" >0.175084</td> \n",
       "    </tr>    <tr> \n",
       "        <th id=\"T_eaaf6460_e693_11e8_a6aa_f8633f500dbblevel0_row6\" class=\"row_heading level0 row6\" >BundleCount</th> \n",
       "        <td id=\"T_eaaf6460_e693_11e8_a6aa_f8633f500dbbrow6_col0\" class=\"data row6 col0\" >0.124001</td> \n",
       "        <td id=\"T_eaaf6460_e693_11e8_a6aa_f8633f500dbbrow6_col1\" class=\"data row6 col1\" >0.117842</td> \n",
       "        <td id=\"T_eaaf6460_e693_11e8_a6aa_f8633f500dbbrow6_col2\" class=\"data row6 col2\" >-0.00475318</td> \n",
       "        <td id=\"T_eaaf6460_e693_11e8_a6aa_f8633f500dbbrow6_col3\" class=\"data row6 col3\" >0.122484</td> \n",
       "        <td id=\"T_eaaf6460_e693_11e8_a6aa_f8633f500dbbrow6_col4\" class=\"data row6 col4\" >0.312157</td> \n",
       "        <td id=\"T_eaaf6460_e693_11e8_a6aa_f8633f500dbbrow6_col5\" class=\"data row6 col5\" >0.0762402</td> \n",
       "        <td id=\"T_eaaf6460_e693_11e8_a6aa_f8633f500dbbrow6_col6\" class=\"data row6 col6\" >1</td> \n",
       "        <td id=\"T_eaaf6460_e693_11e8_a6aa_f8633f500dbbrow6_col7\" class=\"data row6 col7\" >0.03687</td> \n",
       "        <td id=\"T_eaaf6460_e693_11e8_a6aa_f8633f500dbbrow6_col8\" class=\"data row6 col8\" >0.137934</td> \n",
       "        <td id=\"T_eaaf6460_e693_11e8_a6aa_f8633f500dbbrow6_col9\" class=\"data row6 col9\" >0.108865</td> \n",
       "        <td id=\"T_eaaf6460_e693_11e8_a6aa_f8633f500dbbrow6_col10\" class=\"data row6 col10\" >0.0503411</td> \n",
       "        <td id=\"T_eaaf6460_e693_11e8_a6aa_f8633f500dbbrow6_col11\" class=\"data row6 col11\" >0.202086</td> \n",
       "        <td id=\"T_eaaf6460_e693_11e8_a6aa_f8633f500dbbrow6_col12\" class=\"data row6 col12\" >0.0433367</td> \n",
       "        <td id=\"T_eaaf6460_e693_11e8_a6aa_f8633f500dbbrow6_col13\" class=\"data row6 col13\" >0.207913</td> \n",
       "        <td id=\"T_eaaf6460_e693_11e8_a6aa_f8633f500dbbrow6_col14\" class=\"data row6 col14\" >0.101967</td> \n",
       "        <td id=\"T_eaaf6460_e693_11e8_a6aa_f8633f500dbbrow6_col15\" class=\"data row6 col15\" >0.318971</td> \n",
       "        <td id=\"T_eaaf6460_e693_11e8_a6aa_f8633f500dbbrow6_col16\" class=\"data row6 col16\" >0.304195</td> \n",
       "        <td id=\"T_eaaf6460_e693_11e8_a6aa_f8633f500dbbrow6_col17\" class=\"data row6 col17\" >0.150315</td> \n",
       "    </tr>    <tr> \n",
       "        <th id=\"T_eaaf6460_e693_11e8_a6aa_f8633f500dbblevel0_row7\" class=\"row_heading level0 row7\" >RecommendationCount</th> \n",
       "        <td id=\"T_eaaf6460_e693_11e8_a6aa_f8633f500dbbrow7_col0\" class=\"data row7 col0\" >0.0755175</td> \n",
       "        <td id=\"T_eaaf6460_e693_11e8_a6aa_f8633f500dbbrow7_col1\" class=\"data row7 col1\" >0.00481406</td> \n",
       "        <td id=\"T_eaaf6460_e693_11e8_a6aa_f8633f500dbbrow7_col2\" class=\"data row7 col2\" >0.0130348</td> \n",
       "        <td id=\"T_eaaf6460_e693_11e8_a6aa_f8633f500dbbrow7_col3\" class=\"data row7 col3\" >0.035428</td> \n",
       "        <td id=\"T_eaaf6460_e693_11e8_a6aa_f8633f500dbbrow7_col4\" class=\"data row7 col4\" >0.111788</td> \n",
       "        <td id=\"T_eaaf6460_e693_11e8_a6aa_f8633f500dbbrow7_col5\" class=\"data row7 col5\" >0.146583</td> \n",
       "        <td id=\"T_eaaf6460_e693_11e8_a6aa_f8633f500dbbrow7_col6\" class=\"data row7 col6\" >0.03687</td> \n",
       "        <td id=\"T_eaaf6460_e693_11e8_a6aa_f8633f500dbbrow7_col7\" class=\"data row7 col7\" >1</td> \n",
       "        <td id=\"T_eaaf6460_e693_11e8_a6aa_f8633f500dbbrow7_col8\" class=\"data row7 col8\" >0.0154197</td> \n",
       "        <td id=\"T_eaaf6460_e693_11e8_a6aa_f8633f500dbbrow7_col9\" class=\"data row7 col9\" >0.0574405</td> \n",
       "        <td id=\"T_eaaf6460_e693_11e8_a6aa_f8633f500dbbrow7_col10\" class=\"data row7 col10\" >0.647993</td> \n",
       "        <td id=\"T_eaaf6460_e693_11e8_a6aa_f8633f500dbbrow7_col11\" class=\"data row7 col11\" >0.443719</td> \n",
       "        <td id=\"T_eaaf6460_e693_11e8_a6aa_f8633f500dbbrow7_col12\" class=\"data row7 col12\" >0.680134</td> \n",
       "        <td id=\"T_eaaf6460_e693_11e8_a6aa_f8633f500dbbrow7_col13\" class=\"data row7 col13\" >0.512179</td> \n",
       "        <td id=\"T_eaaf6460_e693_11e8_a6aa_f8633f500dbbrow7_col14\" class=\"data row7 col14\" >0.117804</td> \n",
       "        <td id=\"T_eaaf6460_e693_11e8_a6aa_f8633f500dbbrow7_col15\" class=\"data row7 col15\" >0.0509619</td> \n",
       "        <td id=\"T_eaaf6460_e693_11e8_a6aa_f8633f500dbbrow7_col16\" class=\"data row7 col16\" >0.0568261</td> \n",
       "        <td id=\"T_eaaf6460_e693_11e8_a6aa_f8633f500dbbrow7_col17\" class=\"data row7 col17\" >0.150465</td> \n",
       "    </tr>    <tr> \n",
       "        <th id=\"T_eaaf6460_e693_11e8_a6aa_f8633f500dbblevel0_row8\" class=\"row_heading level0 row8\" >PublisherCount</th> \n",
       "        <td id=\"T_eaaf6460_e693_11e8_a6aa_f8633f500dbbrow8_col0\" class=\"data row8 col0\" >0.0328732</td> \n",
       "        <td id=\"T_eaaf6460_e693_11e8_a6aa_f8633f500dbbrow8_col1\" class=\"data row8 col1\" >0.000687605</td> \n",
       "        <td id=\"T_eaaf6460_e693_11e8_a6aa_f8633f500dbbrow8_col2\" class=\"data row8 col2\" >0.165631</td> \n",
       "        <td id=\"T_eaaf6460_e693_11e8_a6aa_f8633f500dbbrow8_col3\" class=\"data row8 col3\" >0.00861967</td> \n",
       "        <td id=\"T_eaaf6460_e693_11e8_a6aa_f8633f500dbbrow8_col4\" class=\"data row8 col4\" >0.0706233</td> \n",
       "        <td id=\"T_eaaf6460_e693_11e8_a6aa_f8633f500dbbrow8_col5\" class=\"data row8 col5\" >0.0500594</td> \n",
       "        <td id=\"T_eaaf6460_e693_11e8_a6aa_f8633f500dbbrow8_col6\" class=\"data row8 col6\" >0.137934</td> \n",
       "        <td id=\"T_eaaf6460_e693_11e8_a6aa_f8633f500dbbrow8_col7\" class=\"data row8 col7\" >0.0154197</td> \n",
       "        <td id=\"T_eaaf6460_e693_11e8_a6aa_f8633f500dbbrow8_col8\" class=\"data row8 col8\" >1</td> \n",
       "        <td id=\"T_eaaf6460_e693_11e8_a6aa_f8633f500dbbrow8_col9\" class=\"data row8 col9\" >0.0452275</td> \n",
       "        <td id=\"T_eaaf6460_e693_11e8_a6aa_f8633f500dbbrow8_col10\" class=\"data row8 col10\" >0.0354917</td> \n",
       "        <td id=\"T_eaaf6460_e693_11e8_a6aa_f8633f500dbbrow8_col11\" class=\"data row8 col11\" >0.0918431</td> \n",
       "        <td id=\"T_eaaf6460_e693_11e8_a6aa_f8633f500dbbrow8_col12\" class=\"data row8 col12\" >0.0274176</td> \n",
       "        <td id=\"T_eaaf6460_e693_11e8_a6aa_f8633f500dbbrow8_col13\" class=\"data row8 col13\" >0.0852838</td> \n",
       "        <td id=\"T_eaaf6460_e693_11e8_a6aa_f8633f500dbbrow8_col14\" class=\"data row8 col14\" >0.0118581</td> \n",
       "        <td id=\"T_eaaf6460_e693_11e8_a6aa_f8633f500dbbrow8_col15\" class=\"data row8 col15\" >0.0760246</td> \n",
       "        <td id=\"T_eaaf6460_e693_11e8_a6aa_f8633f500dbbrow8_col16\" class=\"data row8 col16\" >0.0772066</td> \n",
       "        <td id=\"T_eaaf6460_e693_11e8_a6aa_f8633f500dbbrow8_col17\" class=\"data row8 col17\" >0.058847</td> \n",
       "    </tr>    <tr> \n",
       "        <th id=\"T_eaaf6460_e693_11e8_a6aa_f8633f500dbblevel0_row9\" class=\"row_heading level0 row9\" >StoreScreenshotCount</th> \n",
       "        <td id=\"T_eaaf6460_e693_11e8_a6aa_f8633f500dbbrow9_col0\" class=\"data row9 col0\" >0.06381</td> \n",
       "        <td id=\"T_eaaf6460_e693_11e8_a6aa_f8633f500dbbrow9_col1\" class=\"data row9 col1\" >0.0560145</td> \n",
       "        <td id=\"T_eaaf6460_e693_11e8_a6aa_f8633f500dbbrow9_col2\" class=\"data row9 col2\" >0.00546573</td> \n",
       "        <td id=\"T_eaaf6460_e693_11e8_a6aa_f8633f500dbbrow9_col3\" class=\"data row9 col3\" >0.0375963</td> \n",
       "        <td id=\"T_eaaf6460_e693_11e8_a6aa_f8633f500dbbrow9_col4\" class=\"data row9 col4\" >0.141866</td> \n",
       "        <td id=\"T_eaaf6460_e693_11e8_a6aa_f8633f500dbbrow9_col5\" class=\"data row9 col5\" >0.283573</td> \n",
       "        <td id=\"T_eaaf6460_e693_11e8_a6aa_f8633f500dbbrow9_col6\" class=\"data row9 col6\" >0.108865</td> \n",
       "        <td id=\"T_eaaf6460_e693_11e8_a6aa_f8633f500dbbrow9_col7\" class=\"data row9 col7\" >0.0574405</td> \n",
       "        <td id=\"T_eaaf6460_e693_11e8_a6aa_f8633f500dbbrow9_col8\" class=\"data row9 col8\" >0.0452275</td> \n",
       "        <td id=\"T_eaaf6460_e693_11e8_a6aa_f8633f500dbbrow9_col9\" class=\"data row9 col9\" >1</td> \n",
       "        <td id=\"T_eaaf6460_e693_11e8_a6aa_f8633f500dbbrow9_col10\" class=\"data row9 col10\" >0.0696026</td> \n",
       "        <td id=\"T_eaaf6460_e693_11e8_a6aa_f8633f500dbbrow9_col11\" class=\"data row9 col11\" >0.152353</td> \n",
       "        <td id=\"T_eaaf6460_e693_11e8_a6aa_f8633f500dbbrow9_col12\" class=\"data row9 col12\" >0.0638513</td> \n",
       "        <td id=\"T_eaaf6460_e693_11e8_a6aa_f8633f500dbbrow9_col13\" class=\"data row9 col13\" >0.165288</td> \n",
       "        <td id=\"T_eaaf6460_e693_11e8_a6aa_f8633f500dbbrow9_col14\" class=\"data row9 col14\" >0.158527</td> \n",
       "        <td id=\"T_eaaf6460_e693_11e8_a6aa_f8633f500dbbrow9_col15\" class=\"data row9 col15\" >0.185834</td> \n",
       "        <td id=\"T_eaaf6460_e693_11e8_a6aa_f8633f500dbbrow9_col16\" class=\"data row9 col16\" >0.191069</td> \n",
       "        <td id=\"T_eaaf6460_e693_11e8_a6aa_f8633f500dbbrow9_col17\" class=\"data row9 col17\" >0.0663425</td> \n",
       "    </tr>    <tr> \n",
       "        <th id=\"T_eaaf6460_e693_11e8_a6aa_f8633f500dbblevel0_row10\" class=\"row_heading level0 row10\" >SteamSpyOwners</th> \n",
       "        <td id=\"T_eaaf6460_e693_11e8_a6aa_f8633f500dbbrow10_col0\" class=\"data row10 col0\" >0.104779</td> \n",
       "        <td id=\"T_eaaf6460_e693_11e8_a6aa_f8633f500dbbrow10_col1\" class=\"data row10 col1\" >0.0174266</td> \n",
       "        <td id=\"T_eaaf6460_e693_11e8_a6aa_f8633f500dbbrow10_col2\" class=\"data row10 col2\" >0.0276544</td> \n",
       "        <td id=\"T_eaaf6460_e693_11e8_a6aa_f8633f500dbbrow10_col3\" class=\"data row10 col3\" >0.0434184</td> \n",
       "        <td id=\"T_eaaf6460_e693_11e8_a6aa_f8633f500dbbrow10_col4\" class=\"data row10 col4\" >0.18675</td> \n",
       "        <td id=\"T_eaaf6460_e693_11e8_a6aa_f8633f500dbbrow10_col5\" class=\"data row10 col5\" >0.15077</td> \n",
       "        <td id=\"T_eaaf6460_e693_11e8_a6aa_f8633f500dbbrow10_col6\" class=\"data row10 col6\" >0.0503411</td> \n",
       "        <td id=\"T_eaaf6460_e693_11e8_a6aa_f8633f500dbbrow10_col7\" class=\"data row10 col7\" >0.647993</td> \n",
       "        <td id=\"T_eaaf6460_e693_11e8_a6aa_f8633f500dbbrow10_col8\" class=\"data row10 col8\" >0.0354917</td> \n",
       "        <td id=\"T_eaaf6460_e693_11e8_a6aa_f8633f500dbbrow10_col9\" class=\"data row10 col9\" >0.0696026</td> \n",
       "        <td id=\"T_eaaf6460_e693_11e8_a6aa_f8633f500dbbrow10_col10\" class=\"data row10 col10\" >1</td> \n",
       "        <td id=\"T_eaaf6460_e693_11e8_a6aa_f8633f500dbbrow10_col11\" class=\"data row10 col11\" >0.713222</td> \n",
       "        <td id=\"T_eaaf6460_e693_11e8_a6aa_f8633f500dbbrow10_col12\" class=\"data row10 col12\" >0.969126</td> \n",
       "        <td id=\"T_eaaf6460_e693_11e8_a6aa_f8633f500dbbrow10_col13\" class=\"data row10 col13\" >0.739702</td> \n",
       "        <td id=\"T_eaaf6460_e693_11e8_a6aa_f8633f500dbbrow10_col14\" class=\"data row10 col14\" >0.122539</td> \n",
       "        <td id=\"T_eaaf6460_e693_11e8_a6aa_f8633f500dbbrow10_col15\" class=\"data row10 col15\" >0.0331365</td> \n",
       "        <td id=\"T_eaaf6460_e693_11e8_a6aa_f8633f500dbbrow10_col16\" class=\"data row10 col16\" >0.0354555</td> \n",
       "        <td id=\"T_eaaf6460_e693_11e8_a6aa_f8633f500dbbrow10_col17\" class=\"data row10 col17\" >0.186079</td> \n",
       "    </tr>    <tr> \n",
       "        <th id=\"T_eaaf6460_e693_11e8_a6aa_f8633f500dbblevel0_row11\" class=\"row_heading level0 row11\" >SteamSpyOwnersVariance</th> \n",
       "        <td id=\"T_eaaf6460_e693_11e8_a6aa_f8633f500dbbrow11_col0\" class=\"data row11 col0\" >0.260858</td> \n",
       "        <td id=\"T_eaaf6460_e693_11e8_a6aa_f8633f500dbbrow11_col1\" class=\"data row11 col1\" >0.0714416</td> \n",
       "        <td id=\"T_eaaf6460_e693_11e8_a6aa_f8633f500dbbrow11_col2\" class=\"data row11 col2\" >0.0588764</td> \n",
       "        <td id=\"T_eaaf6460_e693_11e8_a6aa_f8633f500dbbrow11_col3\" class=\"data row11 col3\" >0.105913</td> \n",
       "        <td id=\"T_eaaf6460_e693_11e8_a6aa_f8633f500dbbrow11_col4\" class=\"data row11 col4\" >0.437819</td> \n",
       "        <td id=\"T_eaaf6460_e693_11e8_a6aa_f8633f500dbbrow11_col5\" class=\"data row11 col5\" >0.218192</td> \n",
       "        <td id=\"T_eaaf6460_e693_11e8_a6aa_f8633f500dbbrow11_col6\" class=\"data row11 col6\" >0.202086</td> \n",
       "        <td id=\"T_eaaf6460_e693_11e8_a6aa_f8633f500dbbrow11_col7\" class=\"data row11 col7\" >0.443719</td> \n",
       "        <td id=\"T_eaaf6460_e693_11e8_a6aa_f8633f500dbbrow11_col8\" class=\"data row11 col8\" >0.0918431</td> \n",
       "        <td id=\"T_eaaf6460_e693_11e8_a6aa_f8633f500dbbrow11_col9\" class=\"data row11 col9\" >0.152353</td> \n",
       "        <td id=\"T_eaaf6460_e693_11e8_a6aa_f8633f500dbbrow11_col10\" class=\"data row11 col10\" >0.713222</td> \n",
       "        <td id=\"T_eaaf6460_e693_11e8_a6aa_f8633f500dbbrow11_col11\" class=\"data row11 col11\" >1</td> \n",
       "        <td id=\"T_eaaf6460_e693_11e8_a6aa_f8633f500dbbrow11_col12\" class=\"data row11 col12\" >0.60149</td> \n",
       "        <td id=\"T_eaaf6460_e693_11e8_a6aa_f8633f500dbbrow11_col13\" class=\"data row11 col13\" >0.969371</td> \n",
       "        <td id=\"T_eaaf6460_e693_11e8_a6aa_f8633f500dbbrow11_col14\" class=\"data row11 col14\" >0.203474</td> \n",
       "        <td id=\"T_eaaf6460_e693_11e8_a6aa_f8633f500dbbrow11_col15\" class=\"data row11 col15\" >0.126936</td> \n",
       "        <td id=\"T_eaaf6460_e693_11e8_a6aa_f8633f500dbbrow11_col16\" class=\"data row11 col16\" >0.12426</td> \n",
       "        <td id=\"T_eaaf6460_e693_11e8_a6aa_f8633f500dbbrow11_col17\" class=\"data row11 col17\" >0.287257</td> \n",
       "    </tr>    <tr> \n",
       "        <th id=\"T_eaaf6460_e693_11e8_a6aa_f8633f500dbblevel0_row12\" class=\"row_heading level0 row12\" >SteamSpyPlayersEstimate</th> \n",
       "        <td id=\"T_eaaf6460_e693_11e8_a6aa_f8633f500dbbrow12_col0\" class=\"data row12 col0\" >0.0834923</td> \n",
       "        <td id=\"T_eaaf6460_e693_11e8_a6aa_f8633f500dbbrow12_col1\" class=\"data row12 col1\" >0.0135312</td> \n",
       "        <td id=\"T_eaaf6460_e693_11e8_a6aa_f8633f500dbbrow12_col2\" class=\"data row12 col2\" >0.0194309</td> \n",
       "        <td id=\"T_eaaf6460_e693_11e8_a6aa_f8633f500dbbrow12_col3\" class=\"data row12 col3\" >0.0403819</td> \n",
       "        <td id=\"T_eaaf6460_e693_11e8_a6aa_f8633f500dbbrow12_col4\" class=\"data row12 col4\" >0.154377</td> \n",
       "        <td id=\"T_eaaf6460_e693_11e8_a6aa_f8633f500dbbrow12_col5\" class=\"data row12 col5\" >0.151785</td> \n",
       "        <td id=\"T_eaaf6460_e693_11e8_a6aa_f8633f500dbbrow12_col6\" class=\"data row12 col6\" >0.0433367</td> \n",
       "        <td id=\"T_eaaf6460_e693_11e8_a6aa_f8633f500dbbrow12_col7\" class=\"data row12 col7\" >0.680134</td> \n",
       "        <td id=\"T_eaaf6460_e693_11e8_a6aa_f8633f500dbbrow12_col8\" class=\"data row12 col8\" >0.0274176</td> \n",
       "        <td id=\"T_eaaf6460_e693_11e8_a6aa_f8633f500dbbrow12_col9\" class=\"data row12 col9\" >0.0638513</td> \n",
       "        <td id=\"T_eaaf6460_e693_11e8_a6aa_f8633f500dbbrow12_col10\" class=\"data row12 col10\" >0.969126</td> \n",
       "        <td id=\"T_eaaf6460_e693_11e8_a6aa_f8633f500dbbrow12_col11\" class=\"data row12 col11\" >0.60149</td> \n",
       "        <td id=\"T_eaaf6460_e693_11e8_a6aa_f8633f500dbbrow12_col12\" class=\"data row12 col12\" >1</td> \n",
       "        <td id=\"T_eaaf6460_e693_11e8_a6aa_f8633f500dbbrow12_col13\" class=\"data row12 col13\" >0.669982</td> \n",
       "        <td id=\"T_eaaf6460_e693_11e8_a6aa_f8633f500dbbrow12_col14\" class=\"data row12 col14\" >0.118992</td> \n",
       "        <td id=\"T_eaaf6460_e693_11e8_a6aa_f8633f500dbbrow12_col15\" class=\"data row12 col15\" >0.0365858</td> \n",
       "        <td id=\"T_eaaf6460_e693_11e8_a6aa_f8633f500dbbrow12_col16\" class=\"data row12 col16\" >0.0402897</td> \n",
       "        <td id=\"T_eaaf6460_e693_11e8_a6aa_f8633f500dbbrow12_col17\" class=\"data row12 col17\" >0.170887</td> \n",
       "    </tr>    <tr> \n",
       "        <th id=\"T_eaaf6460_e693_11e8_a6aa_f8633f500dbblevel0_row13\" class=\"row_heading level0 row13\" >SteamSpyPlayersVariance</th> \n",
       "        <td id=\"T_eaaf6460_e693_11e8_a6aa_f8633f500dbbrow13_col0\" class=\"data row13 col0\" >0.259739</td> \n",
       "        <td id=\"T_eaaf6460_e693_11e8_a6aa_f8633f500dbbrow13_col1\" class=\"data row13 col1\" >0.0698991</td> \n",
       "        <td id=\"T_eaaf6460_e693_11e8_a6aa_f8633f500dbbrow13_col2\" class=\"data row13 col2\" >0.0578512</td> \n",
       "        <td id=\"T_eaaf6460_e693_11e8_a6aa_f8633f500dbbrow13_col3\" class=\"data row13 col3\" >0.120487</td> \n",
       "        <td id=\"T_eaaf6460_e693_11e8_a6aa_f8633f500dbbrow13_col4\" class=\"data row13 col4\" >0.431299</td> \n",
       "        <td id=\"T_eaaf6460_e693_11e8_a6aa_f8633f500dbbrow13_col5\" class=\"data row13 col5\" >0.256302</td> \n",
       "        <td id=\"T_eaaf6460_e693_11e8_a6aa_f8633f500dbbrow13_col6\" class=\"data row13 col6\" >0.207913</td> \n",
       "        <td id=\"T_eaaf6460_e693_11e8_a6aa_f8633f500dbbrow13_col7\" class=\"data row13 col7\" >0.512179</td> \n",
       "        <td id=\"T_eaaf6460_e693_11e8_a6aa_f8633f500dbbrow13_col8\" class=\"data row13 col8\" >0.0852838</td> \n",
       "        <td id=\"T_eaaf6460_e693_11e8_a6aa_f8633f500dbbrow13_col9\" class=\"data row13 col9\" >0.165288</td> \n",
       "        <td id=\"T_eaaf6460_e693_11e8_a6aa_f8633f500dbbrow13_col10\" class=\"data row13 col10\" >0.739702</td> \n",
       "        <td id=\"T_eaaf6460_e693_11e8_a6aa_f8633f500dbbrow13_col11\" class=\"data row13 col11\" >0.969371</td> \n",
       "        <td id=\"T_eaaf6460_e693_11e8_a6aa_f8633f500dbbrow13_col12\" class=\"data row13 col12\" >0.669982</td> \n",
       "        <td id=\"T_eaaf6460_e693_11e8_a6aa_f8633f500dbbrow13_col13\" class=\"data row13 col13\" >1</td> \n",
       "        <td id=\"T_eaaf6460_e693_11e8_a6aa_f8633f500dbbrow13_col14\" class=\"data row13 col14\" >0.229141</td> \n",
       "        <td id=\"T_eaaf6460_e693_11e8_a6aa_f8633f500dbbrow13_col15\" class=\"data row13 col15\" >0.161368</td> \n",
       "        <td id=\"T_eaaf6460_e693_11e8_a6aa_f8633f500dbbrow13_col16\" class=\"data row13 col16\" >0.16564</td> \n",
       "        <td id=\"T_eaaf6460_e693_11e8_a6aa_f8633f500dbbrow13_col17\" class=\"data row13 col17\" >0.306477</td> \n",
       "    </tr>    <tr> \n",
       "        <th id=\"T_eaaf6460_e693_11e8_a6aa_f8633f500dbblevel0_row14\" class=\"row_heading level0 row14\" >AchievementCount</th> \n",
       "        <td id=\"T_eaaf6460_e693_11e8_a6aa_f8633f500dbbrow14_col0\" class=\"data row14 col0\" >0.0511355</td> \n",
       "        <td id=\"T_eaaf6460_e693_11e8_a6aa_f8633f500dbbrow14_col1\" class=\"data row14 col1\" >0.0523622</td> \n",
       "        <td id=\"T_eaaf6460_e693_11e8_a6aa_f8633f500dbbrow14_col2\" class=\"data row14 col2\" >0.0222483</td> \n",
       "        <td id=\"T_eaaf6460_e693_11e8_a6aa_f8633f500dbbrow14_col3\" class=\"data row14 col3\" >0.1517</td> \n",
       "        <td id=\"T_eaaf6460_e693_11e8_a6aa_f8633f500dbbrow14_col4\" class=\"data row14 col4\" >0.139232</td> \n",
       "        <td id=\"T_eaaf6460_e693_11e8_a6aa_f8633f500dbbrow14_col5\" class=\"data row14 col5\" >0.176785</td> \n",
       "        <td id=\"T_eaaf6460_e693_11e8_a6aa_f8633f500dbbrow14_col6\" class=\"data row14 col6\" >0.101967</td> \n",
       "        <td id=\"T_eaaf6460_e693_11e8_a6aa_f8633f500dbbrow14_col7\" class=\"data row14 col7\" >0.117804</td> \n",
       "        <td id=\"T_eaaf6460_e693_11e8_a6aa_f8633f500dbbrow14_col8\" class=\"data row14 col8\" >0.0118581</td> \n",
       "        <td id=\"T_eaaf6460_e693_11e8_a6aa_f8633f500dbbrow14_col9\" class=\"data row14 col9\" >0.158527</td> \n",
       "        <td id=\"T_eaaf6460_e693_11e8_a6aa_f8633f500dbbrow14_col10\" class=\"data row14 col10\" >0.122539</td> \n",
       "        <td id=\"T_eaaf6460_e693_11e8_a6aa_f8633f500dbbrow14_col11\" class=\"data row14 col11\" >0.203474</td> \n",
       "        <td id=\"T_eaaf6460_e693_11e8_a6aa_f8633f500dbbrow14_col12\" class=\"data row14 col12\" >0.118992</td> \n",
       "        <td id=\"T_eaaf6460_e693_11e8_a6aa_f8633f500dbbrow14_col13\" class=\"data row14 col13\" >0.229141</td> \n",
       "        <td id=\"T_eaaf6460_e693_11e8_a6aa_f8633f500dbbrow14_col14\" class=\"data row14 col14\" >1</td> \n",
       "        <td id=\"T_eaaf6460_e693_11e8_a6aa_f8633f500dbbrow14_col15\" class=\"data row14 col15\" >0.128071</td> \n",
       "        <td id=\"T_eaaf6460_e693_11e8_a6aa_f8633f500dbbrow14_col16\" class=\"data row14 col16\" >0.128925</td> \n",
       "        <td id=\"T_eaaf6460_e693_11e8_a6aa_f8633f500dbbrow14_col17\" class=\"data row14 col17\" >0.134983</td> \n",
       "    </tr>    <tr> \n",
       "        <th id=\"T_eaaf6460_e693_11e8_a6aa_f8633f500dbblevel0_row15\" class=\"row_heading level0 row15\" >PriceInitial</th> \n",
       "        <td id=\"T_eaaf6460_e693_11e8_a6aa_f8633f500dbbrow15_col0\" class=\"data row15 col0\" >0.163108</td> \n",
       "        <td id=\"T_eaaf6460_e693_11e8_a6aa_f8633f500dbbrow15_col1\" class=\"data row15 col1\" >0.063327</td> \n",
       "        <td id=\"T_eaaf6460_e693_11e8_a6aa_f8633f500dbbrow15_col2\" class=\"data row15 col2\" >0.04275</td> \n",
       "        <td id=\"T_eaaf6460_e693_11e8_a6aa_f8633f500dbbrow15_col3\" class=\"data row15 col3\" >0.10781</td> \n",
       "        <td id=\"T_eaaf6460_e693_11e8_a6aa_f8633f500dbbrow15_col4\" class=\"data row15 col4\" >0.26905</td> \n",
       "        <td id=\"T_eaaf6460_e693_11e8_a6aa_f8633f500dbbrow15_col5\" class=\"data row15 col5\" >0.232674</td> \n",
       "        <td id=\"T_eaaf6460_e693_11e8_a6aa_f8633f500dbbrow15_col6\" class=\"data row15 col6\" >0.318971</td> \n",
       "        <td id=\"T_eaaf6460_e693_11e8_a6aa_f8633f500dbbrow15_col7\" class=\"data row15 col7\" >0.0509619</td> \n",
       "        <td id=\"T_eaaf6460_e693_11e8_a6aa_f8633f500dbbrow15_col8\" class=\"data row15 col8\" >0.0760246</td> \n",
       "        <td id=\"T_eaaf6460_e693_11e8_a6aa_f8633f500dbbrow15_col9\" class=\"data row15 col9\" >0.185834</td> \n",
       "        <td id=\"T_eaaf6460_e693_11e8_a6aa_f8633f500dbbrow15_col10\" class=\"data row15 col10\" >0.0331365</td> \n",
       "        <td id=\"T_eaaf6460_e693_11e8_a6aa_f8633f500dbbrow15_col11\" class=\"data row15 col11\" >0.126936</td> \n",
       "        <td id=\"T_eaaf6460_e693_11e8_a6aa_f8633f500dbbrow15_col12\" class=\"data row15 col12\" >0.0365858</td> \n",
       "        <td id=\"T_eaaf6460_e693_11e8_a6aa_f8633f500dbbrow15_col13\" class=\"data row15 col13\" >0.161368</td> \n",
       "        <td id=\"T_eaaf6460_e693_11e8_a6aa_f8633f500dbbrow15_col14\" class=\"data row15 col14\" >0.128071</td> \n",
       "        <td id=\"T_eaaf6460_e693_11e8_a6aa_f8633f500dbbrow15_col15\" class=\"data row15 col15\" >1</td> \n",
       "        <td id=\"T_eaaf6460_e693_11e8_a6aa_f8633f500dbbrow15_col16\" class=\"data row15 col16\" >0.905374</td> \n",
       "        <td id=\"T_eaaf6460_e693_11e8_a6aa_f8633f500dbbrow15_col17\" class=\"data row15 col17\" >0.196007</td> \n",
       "    </tr>    <tr> \n",
       "        <th id=\"T_eaaf6460_e693_11e8_a6aa_f8633f500dbblevel0_row16\" class=\"row_heading level0 row16\" >PriceFinal</th> \n",
       "        <td id=\"T_eaaf6460_e693_11e8_a6aa_f8633f500dbbrow16_col0\" class=\"data row16 col0\" >0.182826</td> \n",
       "        <td id=\"T_eaaf6460_e693_11e8_a6aa_f8633f500dbbrow16_col1\" class=\"data row16 col1\" >0.0540429</td> \n",
       "        <td id=\"T_eaaf6460_e693_11e8_a6aa_f8633f500dbbrow16_col2\" class=\"data row16 col2\" >0.0412437</td> \n",
       "        <td id=\"T_eaaf6460_e693_11e8_a6aa_f8633f500dbbrow16_col3\" class=\"data row16 col3\" >0.113485</td> \n",
       "        <td id=\"T_eaaf6460_e693_11e8_a6aa_f8633f500dbbrow16_col4\" class=\"data row16 col4\" >0.274548</td> \n",
       "        <td id=\"T_eaaf6460_e693_11e8_a6aa_f8633f500dbbrow16_col5\" class=\"data row16 col5\" >0.246659</td> \n",
       "        <td id=\"T_eaaf6460_e693_11e8_a6aa_f8633f500dbbrow16_col6\" class=\"data row16 col6\" >0.304195</td> \n",
       "        <td id=\"T_eaaf6460_e693_11e8_a6aa_f8633f500dbbrow16_col7\" class=\"data row16 col7\" >0.0568261</td> \n",
       "        <td id=\"T_eaaf6460_e693_11e8_a6aa_f8633f500dbbrow16_col8\" class=\"data row16 col8\" >0.0772066</td> \n",
       "        <td id=\"T_eaaf6460_e693_11e8_a6aa_f8633f500dbbrow16_col9\" class=\"data row16 col9\" >0.191069</td> \n",
       "        <td id=\"T_eaaf6460_e693_11e8_a6aa_f8633f500dbbrow16_col10\" class=\"data row16 col10\" >0.0354555</td> \n",
       "        <td id=\"T_eaaf6460_e693_11e8_a6aa_f8633f500dbbrow16_col11\" class=\"data row16 col11\" >0.12426</td> \n",
       "        <td id=\"T_eaaf6460_e693_11e8_a6aa_f8633f500dbbrow16_col12\" class=\"data row16 col12\" >0.0402897</td> \n",
       "        <td id=\"T_eaaf6460_e693_11e8_a6aa_f8633f500dbbrow16_col13\" class=\"data row16 col13\" >0.16564</td> \n",
       "        <td id=\"T_eaaf6460_e693_11e8_a6aa_f8633f500dbbrow16_col14\" class=\"data row16 col14\" >0.128925</td> \n",
       "        <td id=\"T_eaaf6460_e693_11e8_a6aa_f8633f500dbbrow16_col15\" class=\"data row16 col15\" >0.905374</td> \n",
       "        <td id=\"T_eaaf6460_e693_11e8_a6aa_f8633f500dbbrow16_col16\" class=\"data row16 col16\" >1</td> \n",
       "        <td id=\"T_eaaf6460_e693_11e8_a6aa_f8633f500dbbrow16_col17\" class=\"data row16 col17\" >0.200252</td> \n",
       "    </tr>    <tr> \n",
       "        <th id=\"T_eaaf6460_e693_11e8_a6aa_f8633f500dbblevel0_row17\" class=\"row_heading level0 row17\" >LanguageCount</th> \n",
       "        <td id=\"T_eaaf6460_e693_11e8_a6aa_f8633f500dbbrow17_col0\" class=\"data row17 col0\" >0.110286</td> \n",
       "        <td id=\"T_eaaf6460_e693_11e8_a6aa_f8633f500dbbrow17_col1\" class=\"data row17 col1\" >0.0491467</td> \n",
       "        <td id=\"T_eaaf6460_e693_11e8_a6aa_f8633f500dbbrow17_col2\" class=\"data row17 col2\" >0.0500682</td> \n",
       "        <td id=\"T_eaaf6460_e693_11e8_a6aa_f8633f500dbbrow17_col3\" class=\"data row17 col3\" >0.0557857</td> \n",
       "        <td id=\"T_eaaf6460_e693_11e8_a6aa_f8633f500dbbrow17_col4\" class=\"data row17 col4\" >0.238486</td> \n",
       "        <td id=\"T_eaaf6460_e693_11e8_a6aa_f8633f500dbbrow17_col5\" class=\"data row17 col5\" >0.175084</td> \n",
       "        <td id=\"T_eaaf6460_e693_11e8_a6aa_f8633f500dbbrow17_col6\" class=\"data row17 col6\" >0.150315</td> \n",
       "        <td id=\"T_eaaf6460_e693_11e8_a6aa_f8633f500dbbrow17_col7\" class=\"data row17 col7\" >0.150465</td> \n",
       "        <td id=\"T_eaaf6460_e693_11e8_a6aa_f8633f500dbbrow17_col8\" class=\"data row17 col8\" >0.058847</td> \n",
       "        <td id=\"T_eaaf6460_e693_11e8_a6aa_f8633f500dbbrow17_col9\" class=\"data row17 col9\" >0.0663425</td> \n",
       "        <td id=\"T_eaaf6460_e693_11e8_a6aa_f8633f500dbbrow17_col10\" class=\"data row17 col10\" >0.186079</td> \n",
       "        <td id=\"T_eaaf6460_e693_11e8_a6aa_f8633f500dbbrow17_col11\" class=\"data row17 col11\" >0.287257</td> \n",
       "        <td id=\"T_eaaf6460_e693_11e8_a6aa_f8633f500dbbrow17_col12\" class=\"data row17 col12\" >0.170887</td> \n",
       "        <td id=\"T_eaaf6460_e693_11e8_a6aa_f8633f500dbbrow17_col13\" class=\"data row17 col13\" >0.306477</td> \n",
       "        <td id=\"T_eaaf6460_e693_11e8_a6aa_f8633f500dbbrow17_col14\" class=\"data row17 col14\" >0.134983</td> \n",
       "        <td id=\"T_eaaf6460_e693_11e8_a6aa_f8633f500dbbrow17_col15\" class=\"data row17 col15\" >0.196007</td> \n",
       "        <td id=\"T_eaaf6460_e693_11e8_a6aa_f8633f500dbbrow17_col16\" class=\"data row17 col16\" >0.200252</td> \n",
       "        <td id=\"T_eaaf6460_e693_11e8_a6aa_f8633f500dbbrow17_col17\" class=\"data row17 col17\" >1</td> \n",
       "    </tr></tbody> \n",
       "</table> "
      ],
      "text/plain": [
       "<pandas.io.formats.style.Styler at 0x7f468d0d2ac8>"
      ]
     },
     "execution_count": 99,
     "metadata": {},
     "output_type": "execute_result"
    }
   ],
   "source": [
    "numerical_columns = ['RequiredAge', 'DemoCount', 'DeveloperCount', 'DLCCount', 'Metacritic', 'StoreVideoCount',\\\n",
    "                     'BundleCount', 'RecommendationCount', 'PublisherCount', 'StoreScreenshotCount',\\\n",
    "                     'SteamSpyOwners', 'SteamSpyOwnersVariance', 'SteamSpyPlayersEstimate',\\\n",
    "                     'SteamSpyPlayersVariance', 'AchievementCount', 'PriceInitial', 'PriceFinal','LanguageCount']\n",
    "cm = sns.light_palette(\"green\", as_cmap=True)\n",
    "corr = df[numerical_columns].corr()\n",
    "corr.style.background_gradient(cmap=cm)"
   ]
  },
  {
   "cell_type": "markdown",
   "metadata": {},
   "source": [
    "As we have mentioned earlier, there is a strong correlatioan between in the goups ['SteamSpyOwners', 'SteamSpyOwnersVariance', 'SteamSpyPlayersEstimate', 'SteamSpyPlayersVariance'] and ['PriceInitial', 'PriceFinal']. Other than that, there is a very little correlation in the data."
   ]
  },
  {
   "cell_type": "markdown",
   "metadata": {},
   "source": [
    "**[TODO]** More interesting visualizations"
   ]
  },
  {
   "cell_type": "markdown",
   "metadata": {},
   "source": [
    "### Number of DLCs for Free/Paid games\n",
    "We have hypothesized that free games do have on average more DLCs than the paid games. Let's create two samples from our data. One sample will contain all of the free games and the second one all of the paid games."
   ]
  },
  {
   "cell_type": "code",
   "execution_count": 100,
   "metadata": {},
   "outputs": [
    {
     "name": "stdout",
     "output_type": "stream",
     "text": [
      "There are 818 free games and 10586 paid games in our dataset.\n"
     ]
    }
   ],
   "source": [
    "free_games = df[df.IsFree == True]\n",
    "paid_games = df[df.IsFree == False]\n",
    "print('There are {} free games and {} paid games in our dataset.'.format(len(free_games),len(paid_games)))"
   ]
  },
  {
   "cell_type": "markdown",
   "metadata": {},
   "source": [
    "If we describe the sampled data, we'll be able to see the mean and standard deviation."
   ]
  },
  {
   "cell_type": "code",
   "execution_count": 101,
   "metadata": {},
   "outputs": [
    {
     "data": {
      "text/plain": [
       "count   818.00\n",
       "mean      1.24\n",
       "std       3.73\n",
       "min       0.00\n",
       "25%       0.00\n",
       "50%       0.00\n",
       "75%       1.00\n",
       "max      42.00\n",
       "Name: DLCCount, dtype: float64"
      ]
     },
     "execution_count": 101,
     "metadata": {},
     "output_type": "execute_result"
    }
   ],
   "source": [
    "free_games.DLCCount.describe()"
   ]
  },
  {
   "cell_type": "code",
   "execution_count": 102,
   "metadata": {},
   "outputs": [
    {
     "data": {
      "text/plain": [
       "count   10,586.00\n",
       "mean         0.62\n",
       "std          7.87\n",
       "min          0.00\n",
       "25%          0.00\n",
       "50%          0.00\n",
       "75%          0.00\n",
       "max        630.00\n",
       "Name: DLCCount, dtype: float64"
      ]
     },
     "execution_count": 102,
     "metadata": {},
     "output_type": "execute_result"
    }
   ],
   "source": [
    "paid_games.DLCCount.describe()"
   ]
  },
  {
   "cell_type": "markdown",
   "metadata": {},
   "source": [
    "Apparently, the average number of DLCs for free games is higher than for paid games. However, there are a majority of games that have no DLCs at all and they are lowering the averages. Let's make the same comparison for games that have at least one DLC."
   ]
  },
  {
   "cell_type": "code",
   "execution_count": 103,
   "metadata": {},
   "outputs": [
    {
     "name": "stdout",
     "output_type": "stream",
     "text": [
      "There are 235 free games and 1786 paid games that have some DLCs in our dataset.\n"
     ]
    }
   ],
   "source": [
    "print('There are {} free games and {} paid games that have some DLCs in our dataset.'\\\n",
    "      .format(len(free_games[free_games.DLCCount>0]),len(paid_games[paid_games.DLCCount>0])))"
   ]
  },
  {
   "cell_type": "code",
   "execution_count": 104,
   "metadata": {},
   "outputs": [
    {
     "data": {
      "text/plain": [
       "count   235.00\n",
       "mean      4.33\n",
       "std       5.93\n",
       "min       1.00\n",
       "25%       1.00\n",
       "50%       3.00\n",
       "75%       5.00\n",
       "max      42.00\n",
       "Name: DLCCount, dtype: float64"
      ]
     },
     "execution_count": 104,
     "metadata": {},
     "output_type": "execute_result"
    }
   ],
   "source": [
    "free_games[free_games.DLCCount>0].DLCCount.describe()"
   ]
  },
  {
   "cell_type": "code",
   "execution_count": 105,
   "metadata": {},
   "outputs": [
    {
     "data": {
      "text/plain": [
       "count   1,786.00\n",
       "mean        3.66\n",
       "std        18.87\n",
       "min         1.00\n",
       "25%         1.00\n",
       "50%         1.00\n",
       "75%         2.00\n",
       "max       630.00\n",
       "Name: DLCCount, dtype: float64"
      ]
     },
     "execution_count": 105,
     "metadata": {},
     "output_type": "execute_result"
    }
   ],
   "source": [
    "paid_games[paid_games.DLCCount>0].DLCCount.describe()"
   ]
  },
  {
   "cell_type": "markdown",
   "metadata": {},
   "source": [
    "Even though, there are some outliers in the paid games sample (e.g. the game that has 630 DLCs), our data supports our hypothesis."
   ]
  },
  {
   "cell_type": "markdown",
   "metadata": {},
   "source": [
    "**[TODO]** 'CategoryInAppPurchase' more in paid or free games? "
   ]
  },
  {
   "cell_type": "markdown",
   "metadata": {},
   "source": [
    "### VR support growth\n",
    "As we've observed previously, the number of games being released every year is rising exponentially. We can expect games with VR support to follow this trend."
   ]
  },
  {
   "cell_type": "code",
   "execution_count": 106,
   "metadata": {},
   "outputs": [
    {
     "name": "stdout",
     "output_type": "stream",
     "text": [
      "There are 201 games with VR support in our dataset\n"
     ]
    }
   ],
   "source": [
    "vr_games = df[df.CategoryVRSupport == True]\n",
    "print('There are {} games with VR support in our dataset'.format(len(vr_games)))"
   ]
  },
  {
   "cell_type": "code",
   "execution_count": 107,
   "metadata": {
    "scrolled": true
   },
   "outputs": [
    {
     "data": {
      "image/png": "[encoded data removed]",
      "text/plain": [
       "<Figure size 432x288 with 1 Axes>"
      ]
     },
     "metadata": {},
     "output_type": "display_data"
    }
   ],
   "source": [
    "plt.hist(vr_games['ReleaseDate'], bins=100)\n",
    "plt.xlabel('Time')\n",
    "plt.ylabel('Count')\n",
    "plt.title('VR games time distribution')\n",
    "\n",
    "plt.show()"
   ]
  },
  {
   "cell_type": "markdown",
   "metadata": {},
   "source": [
    "**[TODO]** examine the odd peak"
   ]
  },
  {
   "cell_type": "code",
   "execution_count": 108,
   "metadata": {},
   "outputs": [],
   "source": [
    "#start = dt.datetime(1990,1,1)\n",
    "#delta = df['ReleaseDate'][0] - start\n",
    "#delta.days"
   ]
  },
  {
   "cell_type": "markdown",
   "metadata": {},
   "source": [
    "As we can see, there is a slight rise in the numbers of VR games being released. Though it is not as extreme as with all the games."
   ]
  },
  {
   "cell_type": "markdown",
   "metadata": {},
   "source": [
    "## Data modeling and prediction"
   ]
  },
  {
   "cell_type": "markdown",
   "metadata": {},
   "source": [
    "In this section, we will try to fit a model through our data to predict the Metacritic rating."
   ]
  },
  {
   "cell_type": "markdown",
   "metadata": {},
   "source": [
    "### Scaling\n",
    "To get the best results, we'll need to scale all of our atributes. Fortunately, we have only numerical and boolean values in our data. For our numerical values, we'll use a Min-Max scaler."
   ]
  },
  {
   "cell_type": "code",
   "execution_count": 109,
   "metadata": {
    "scrolled": true
   },
   "outputs": [
    {
     "data": {
      "text/html": [
       "<div>\n",
       "<style scoped>\n",
       "    .dataframe tbody tr th:only-of-type {\n",
       "        vertical-align: middle;\n",
       "    }\n",
       "\n",
       "    .dataframe tbody tr th {\n",
       "        vertical-align: top;\n",
       "    }\n",
       "\n",
       "    .dataframe thead th {\n",
       "        text-align: right;\n",
       "    }\n",
       "</style>\n",
       "<table border=\"1\" class=\"dataframe\">\n",
       "  <thead>\n",
       "    <tr style=\"text-align: right;\">\n",
       "      <th></th>\n",
       "      <th>Name</th>\n",
       "      <th>ReleaseDate</th>\n",
       "      <th>RequiredAge</th>\n",
       "      <th>DemoCount</th>\n",
       "      <th>DeveloperCount</th>\n",
       "      <th>DLCCount</th>\n",
       "      <th>Metacritic</th>\n",
       "      <th>StoreVideoCount</th>\n",
       "      <th>BundleCount</th>\n",
       "      <th>RecommendationCount</th>\n",
       "      <th>PublisherCount</th>\n",
       "      <th>StoreScreenshotCount</th>\n",
       "      <th>SteamSpyOwners</th>\n",
       "      <th>SteamSpyOwnersVariance</th>\n",
       "      <th>SteamSpyPlayersEstimate</th>\n",
       "      <th>SteamSpyPlayersVariance</th>\n",
       "      <th>AchievementCount</th>\n",
       "      <th>ControllerSupport</th>\n",
       "      <th>IsFree</th>\n",
       "      <th>IsPaid</th>\n",
       "      <th>SubscriptionOption</th>\n",
       "      <th>PlatformWindows</th>\n",
       "      <th>PlatformLinux</th>\n",
       "      <th>PlatformMac</th>\n",
       "      <th>CategorySinglePlayer</th>\n",
       "      <th>CategoryMultiplayer</th>\n",
       "      <th>CategoryCoop</th>\n",
       "      <th>CategoryMMO</th>\n",
       "      <th>CategoryInAppPurchase</th>\n",
       "      <th>CategoryIncludeSrcSDK</th>\n",
       "      <th>CategoryIncludeLevelEditor</th>\n",
       "      <th>CategoryVRSupport</th>\n",
       "      <th>GenreIsIndie</th>\n",
       "      <th>GenreIsAction</th>\n",
       "      <th>GenreIsAdventure</th>\n",
       "      <th>GenreIsCasual</th>\n",
       "      <th>GenreIsStrategy</th>\n",
       "      <th>GenreIsRPG</th>\n",
       "      <th>GenreIsSimulation</th>\n",
       "      <th>GenreIsEarlyAccess</th>\n",
       "      <th>GenreIsFreeToPlay</th>\n",
       "      <th>GenreIsSports</th>\n",
       "      <th>GenreIsRacing</th>\n",
       "      <th>GenreIsMassivelyMultiplayer</th>\n",
       "      <th>PriceInitial</th>\n",
       "      <th>PriceFinal</th>\n",
       "      <th>AboutText</th>\n",
       "      <th>Background</th>\n",
       "      <th>ShortDescrip</th>\n",
       "      <th>LanguageCount</th>\n",
       "      <th>SupportsEnglish</th>\n",
       "    </tr>\n",
       "  </thead>\n",
       "  <tbody>\n",
       "    <tr>\n",
       "      <th>0</th>\n",
       "      <td>Counter-Strike</td>\n",
       "      <td>2000-11-01</td>\n",
       "      <td>0</td>\n",
       "      <td>0</td>\n",
       "      <td>1</td>\n",
       "      <td>0</td>\n",
       "      <td>88</td>\n",
       "      <td>0</td>\n",
       "      <td>1</td>\n",
       "      <td>68991</td>\n",
       "      <td>1</td>\n",
       "      <td>13</td>\n",
       "      <td>13033334</td>\n",
       "      <td>92789</td>\n",
       "      <td>9140731</td>\n",
       "      <td>78136</td>\n",
       "      <td>0</td>\n",
       "      <td>0</td>\n",
       "      <td>0</td>\n",
       "      <td>1</td>\n",
       "      <td>0</td>\n",
       "      <td>1</td>\n",
       "      <td>1</td>\n",
       "      <td>1</td>\n",
       "      <td>0</td>\n",
       "      <td>1</td>\n",
       "      <td>0</td>\n",
       "      <td>0</td>\n",
       "      <td>0</td>\n",
       "      <td>0</td>\n",
       "      <td>0</td>\n",
       "      <td>0</td>\n",
       "      <td>0</td>\n",
       "      <td>1</td>\n",
       "      <td>0</td>\n",
       "      <td>0</td>\n",
       "      <td>0</td>\n",
       "      <td>0</td>\n",
       "      <td>0</td>\n",
       "      <td>0</td>\n",
       "      <td>0</td>\n",
       "      <td>0</td>\n",
       "      <td>0</td>\n",
       "      <td>0</td>\n",
       "      <td>9.99</td>\n",
       "      <td>9.99</td>\n",
       "      <td>1</td>\n",
       "      <td>1</td>\n",
       "      <td>0</td>\n",
       "      <td>8</td>\n",
       "      <td>1</td>\n",
       "    </tr>\n",
       "    <tr>\n",
       "      <th>1</th>\n",
       "      <td>Team Fortress Classic</td>\n",
       "      <td>1999-04-01</td>\n",
       "      <td>0</td>\n",
       "      <td>0</td>\n",
       "      <td>1</td>\n",
       "      <td>0</td>\n",
       "      <td>0</td>\n",
       "      <td>0</td>\n",
       "      <td>1</td>\n",
       "      <td>2439</td>\n",
       "      <td>1</td>\n",
       "      <td>5</td>\n",
       "      <td>5399140</td>\n",
       "      <td>60368</td>\n",
       "      <td>753627</td>\n",
       "      <td>22699</td>\n",
       "      <td>0</td>\n",
       "      <td>0</td>\n",
       "      <td>0</td>\n",
       "      <td>1</td>\n",
       "      <td>0</td>\n",
       "      <td>1</td>\n",
       "      <td>1</td>\n",
       "      <td>1</td>\n",
       "      <td>0</td>\n",
       "      <td>1</td>\n",
       "      <td>0</td>\n",
       "      <td>0</td>\n",
       "      <td>0</td>\n",
       "      <td>0</td>\n",
       "      <td>0</td>\n",
       "      <td>0</td>\n",
       "      <td>0</td>\n",
       "      <td>1</td>\n",
       "      <td>0</td>\n",
       "      <td>0</td>\n",
       "      <td>0</td>\n",
       "      <td>0</td>\n",
       "      <td>0</td>\n",
       "      <td>0</td>\n",
       "      <td>0</td>\n",
       "      <td>0</td>\n",
       "      <td>0</td>\n",
       "      <td>0</td>\n",
       "      <td>4.99</td>\n",
       "      <td>4.99</td>\n",
       "      <td>1</td>\n",
       "      <td>1</td>\n",
       "      <td>0</td>\n",
       "      <td>5</td>\n",
       "      <td>1</td>\n",
       "    </tr>\n",
       "    <tr>\n",
       "      <th>2</th>\n",
       "      <td>Day of Defeat</td>\n",
       "      <td>2003-05-01</td>\n",
       "      <td>0</td>\n",
       "      <td>0</td>\n",
       "      <td>1</td>\n",
       "      <td>0</td>\n",
       "      <td>79</td>\n",
       "      <td>0</td>\n",
       "      <td>1</td>\n",
       "      <td>2319</td>\n",
       "      <td>1</td>\n",
       "      <td>5</td>\n",
       "      <td>7621102</td>\n",
       "      <td>71499</td>\n",
       "      <td>1709740</td>\n",
       "      <td>34145</td>\n",
       "      <td>0</td>\n",
       "      <td>0</td>\n",
       "      <td>0</td>\n",
       "      <td>1</td>\n",
       "      <td>0</td>\n",
       "      <td>1</td>\n",
       "      <td>1</td>\n",
       "      <td>1</td>\n",
       "      <td>0</td>\n",
       "      <td>1</td>\n",
       "      <td>0</td>\n",
       "      <td>0</td>\n",
       "      <td>0</td>\n",
       "      <td>0</td>\n",
       "      <td>0</td>\n",
       "      <td>0</td>\n",
       "      <td>0</td>\n",
       "      <td>1</td>\n",
       "      <td>0</td>\n",
       "      <td>0</td>\n",
       "      <td>0</td>\n",
       "      <td>0</td>\n",
       "      <td>0</td>\n",
       "      <td>0</td>\n",
       "      <td>0</td>\n",
       "      <td>0</td>\n",
       "      <td>0</td>\n",
       "      <td>0</td>\n",
       "      <td>4.99</td>\n",
       "      <td>4.99</td>\n",
       "      <td>1</td>\n",
       "      <td>1</td>\n",
       "      <td>0</td>\n",
       "      <td>5</td>\n",
       "      <td>1</td>\n",
       "    </tr>\n",
       "    <tr>\n",
       "      <th>3</th>\n",
       "      <td>Deathmatch Classic</td>\n",
       "      <td>2001-06-01</td>\n",
       "      <td>0</td>\n",
       "      <td>0</td>\n",
       "      <td>1</td>\n",
       "      <td>0</td>\n",
       "      <td>0</td>\n",
       "      <td>0</td>\n",
       "      <td>1</td>\n",
       "      <td>888</td>\n",
       "      <td>1</td>\n",
       "      <td>4</td>\n",
       "      <td>7498965</td>\n",
       "      <td>70936</td>\n",
       "      <td>789676</td>\n",
       "      <td>23235</td>\n",
       "      <td>0</td>\n",
       "      <td>0</td>\n",
       "      <td>0</td>\n",
       "      <td>1</td>\n",
       "      <td>0</td>\n",
       "      <td>1</td>\n",
       "      <td>1</td>\n",
       "      <td>1</td>\n",
       "      <td>0</td>\n",
       "      <td>1</td>\n",
       "      <td>0</td>\n",
       "      <td>0</td>\n",
       "      <td>0</td>\n",
       "      <td>0</td>\n",
       "      <td>0</td>\n",
       "      <td>0</td>\n",
       "      <td>0</td>\n",
       "      <td>1</td>\n",
       "      <td>0</td>\n",
       "      <td>0</td>\n",
       "      <td>0</td>\n",
       "      <td>0</td>\n",
       "      <td>0</td>\n",
       "      <td>0</td>\n",
       "      <td>0</td>\n",
       "      <td>0</td>\n",
       "      <td>0</td>\n",
       "      <td>0</td>\n",
       "      <td>4.99</td>\n",
       "      <td>4.99</td>\n",
       "      <td>1</td>\n",
       "      <td>1</td>\n",
       "      <td>0</td>\n",
       "      <td>5</td>\n",
       "      <td>1</td>\n",
       "    </tr>\n",
       "    <tr>\n",
       "      <th>4</th>\n",
       "      <td>Half-Life: Opposing Force</td>\n",
       "      <td>1999-11-01</td>\n",
       "      <td>0</td>\n",
       "      <td>0</td>\n",
       "      <td>1</td>\n",
       "      <td>0</td>\n",
       "      <td>0</td>\n",
       "      <td>0</td>\n",
       "      <td>1</td>\n",
       "      <td>2934</td>\n",
       "      <td>1</td>\n",
       "      <td>5</td>\n",
       "      <td>5399499</td>\n",
       "      <td>60370</td>\n",
       "      <td>705741</td>\n",
       "      <td>21968</td>\n",
       "      <td>0</td>\n",
       "      <td>0</td>\n",
       "      <td>0</td>\n",
       "      <td>1</td>\n",
       "      <td>0</td>\n",
       "      <td>1</td>\n",
       "      <td>1</td>\n",
       "      <td>1</td>\n",
       "      <td>1</td>\n",
       "      <td>1</td>\n",
       "      <td>0</td>\n",
       "      <td>0</td>\n",
       "      <td>0</td>\n",
       "      <td>0</td>\n",
       "      <td>0</td>\n",
       "      <td>0</td>\n",
       "      <td>0</td>\n",
       "      <td>1</td>\n",
       "      <td>0</td>\n",
       "      <td>0</td>\n",
       "      <td>0</td>\n",
       "      <td>0</td>\n",
       "      <td>0</td>\n",
       "      <td>0</td>\n",
       "      <td>0</td>\n",
       "      <td>0</td>\n",
       "      <td>0</td>\n",
       "      <td>0</td>\n",
       "      <td>4.99</td>\n",
       "      <td>4.99</td>\n",
       "      <td>1</td>\n",
       "      <td>1</td>\n",
       "      <td>0</td>\n",
       "      <td>4</td>\n",
       "      <td>1</td>\n",
       "    </tr>\n",
       "    <tr>\n",
       "      <th>5</th>\n",
       "      <td>Ricochet</td>\n",
       "      <td>2000-11-01</td>\n",
       "      <td>0</td>\n",
       "      <td>0</td>\n",
       "      <td>1</td>\n",
       "      <td>0</td>\n",
       "      <td>0</td>\n",
       "      <td>0</td>\n",
       "      <td>1</td>\n",
       "      <td>1965</td>\n",
       "      <td>1</td>\n",
       "      <td>4</td>\n",
       "      <td>7488563</td>\n",
       "      <td>70888</td>\n",
       "      <td>843481</td>\n",
       "      <td>24011</td>\n",
       "      <td>0</td>\n",
       "      <td>0</td>\n",
       "      <td>0</td>\n",
       "      <td>1</td>\n",
       "      <td>0</td>\n",
       "      <td>1</td>\n",
       "      <td>1</td>\n",
       "      <td>1</td>\n",
       "      <td>0</td>\n",
       "      <td>1</td>\n",
       "      <td>0</td>\n",
       "      <td>0</td>\n",
       "      <td>0</td>\n",
       "      <td>0</td>\n",
       "      <td>0</td>\n",
       "      <td>0</td>\n",
       "      <td>0</td>\n",
       "      <td>1</td>\n",
       "      <td>0</td>\n",
       "      <td>0</td>\n",
       "      <td>0</td>\n",
       "      <td>0</td>\n",
       "      <td>0</td>\n",
       "      <td>0</td>\n",
       "      <td>0</td>\n",
       "      <td>0</td>\n",
       "      <td>0</td>\n",
       "      <td>0</td>\n",
       "      <td>4.99</td>\n",
       "      <td>4.99</td>\n",
       "      <td>1</td>\n",
       "      <td>1</td>\n",
       "      <td>0</td>\n",
       "      <td>5</td>\n",
       "      <td>1</td>\n",
       "    </tr>\n",
       "    <tr>\n",
       "      <th>6</th>\n",
       "      <td>Half-Life</td>\n",
       "      <td>1998-11-08</td>\n",
       "      <td>0</td>\n",
       "      <td>0</td>\n",
       "      <td>1</td>\n",
       "      <td>1</td>\n",
       "      <td>96</td>\n",
       "      <td>0</td>\n",
       "      <td>1</td>\n",
       "      <td>12486</td>\n",
       "      <td>1</td>\n",
       "      <td>11</td>\n",
       "      <td>5927504</td>\n",
       "      <td>63206</td>\n",
       "      <td>2268772</td>\n",
       "      <td>39303</td>\n",
       "      <td>0</td>\n",
       "      <td>0</td>\n",
       "      <td>0</td>\n",
       "      <td>1</td>\n",
       "      <td>0</td>\n",
       "      <td>1</td>\n",
       "      <td>1</td>\n",
       "      <td>1</td>\n",
       "      <td>1</td>\n",
       "      <td>1</td>\n",
       "      <td>0</td>\n",
       "      <td>0</td>\n",
       "      <td>0</td>\n",
       "      <td>0</td>\n",
       "      <td>0</td>\n",
       "      <td>0</td>\n",
       "      <td>0</td>\n",
       "      <td>1</td>\n",
       "      <td>0</td>\n",
       "      <td>0</td>\n",
       "      <td>0</td>\n",
       "      <td>0</td>\n",
       "      <td>0</td>\n",
       "      <td>0</td>\n",
       "      <td>0</td>\n",
       "      <td>0</td>\n",
       "      <td>0</td>\n",
       "      <td>0</td>\n",
       "      <td>9.99</td>\n",
       "      <td>9.99</td>\n",
       "      <td>1</td>\n",
       "      <td>1</td>\n",
       "      <td>0</td>\n",
       "      <td>8</td>\n",
       "      <td>1</td>\n",
       "    </tr>\n",
       "    <tr>\n",
       "      <th>7</th>\n",
       "      <td>Counter-Strike: Condition Zero</td>\n",
       "      <td>2004-03-01</td>\n",
       "      <td>0</td>\n",
       "      <td>0</td>\n",
       "      <td>1</td>\n",
       "      <td>0</td>\n",
       "      <td>65</td>\n",
       "      <td>0</td>\n",
       "      <td>1</td>\n",
       "      <td>7067</td>\n",
       "      <td>1</td>\n",
       "      <td>8</td>\n",
       "      <td>10489261</td>\n",
       "      <td>83543</td>\n",
       "      <td>4127910</td>\n",
       "      <td>52878</td>\n",
       "      <td>0</td>\n",
       "      <td>0</td>\n",
       "      <td>0</td>\n",
       "      <td>1</td>\n",
       "      <td>0</td>\n",
       "      <td>1</td>\n",
       "      <td>1</td>\n",
       "      <td>1</td>\n",
       "      <td>1</td>\n",
       "      <td>1</td>\n",
       "      <td>0</td>\n",
       "      <td>0</td>\n",
       "      <td>0</td>\n",
       "      <td>0</td>\n",
       "      <td>0</td>\n",
       "      <td>0</td>\n",
       "      <td>0</td>\n",
       "      <td>1</td>\n",
       "      <td>0</td>\n",
       "      <td>0</td>\n",
       "      <td>0</td>\n",
       "      <td>0</td>\n",
       "      <td>0</td>\n",
       "      <td>0</td>\n",
       "      <td>0</td>\n",
       "      <td>0</td>\n",
       "      <td>0</td>\n",
       "      <td>0</td>\n",
       "      <td>9.99</td>\n",
       "      <td>9.99</td>\n",
       "      <td>1</td>\n",
       "      <td>1</td>\n",
       "      <td>0</td>\n",
       "      <td>8</td>\n",
       "      <td>1</td>\n",
       "    </tr>\n",
       "    <tr>\n",
       "      <th>9</th>\n",
       "      <td>Half-Life: Blue Shift</td>\n",
       "      <td>2001-06-01</td>\n",
       "      <td>0</td>\n",
       "      <td>0</td>\n",
       "      <td>1</td>\n",
       "      <td>0</td>\n",
       "      <td>71</td>\n",
       "      <td>0</td>\n",
       "      <td>1</td>\n",
       "      <td>2219</td>\n",
       "      <td>1</td>\n",
       "      <td>5</td>\n",
       "      <td>5368650</td>\n",
       "      <td>60199</td>\n",
       "      <td>662517</td>\n",
       "      <td>21286</td>\n",
       "      <td>0</td>\n",
       "      <td>0</td>\n",
       "      <td>0</td>\n",
       "      <td>1</td>\n",
       "      <td>0</td>\n",
       "      <td>1</td>\n",
       "      <td>1</td>\n",
       "      <td>1</td>\n",
       "      <td>1</td>\n",
       "      <td>0</td>\n",
       "      <td>0</td>\n",
       "      <td>0</td>\n",
       "      <td>0</td>\n",
       "      <td>0</td>\n",
       "      <td>0</td>\n",
       "      <td>0</td>\n",
       "      <td>0</td>\n",
       "      <td>1</td>\n",
       "      <td>0</td>\n",
       "      <td>0</td>\n",
       "      <td>0</td>\n",
       "      <td>0</td>\n",
       "      <td>0</td>\n",
       "      <td>0</td>\n",
       "      <td>0</td>\n",
       "      <td>0</td>\n",
       "      <td>0</td>\n",
       "      <td>0</td>\n",
       "      <td>4.99</td>\n",
       "      <td>4.99</td>\n",
       "      <td>1</td>\n",
       "      <td>1</td>\n",
       "      <td>0</td>\n",
       "      <td>3</td>\n",
       "      <td>1</td>\n",
       "    </tr>\n",
       "    <tr>\n",
       "      <th>10</th>\n",
       "      <td>Half-Life 2</td>\n",
       "      <td>2004-11-16</td>\n",
       "      <td>0</td>\n",
       "      <td>1</td>\n",
       "      <td>1</td>\n",
       "      <td>1</td>\n",
       "      <td>96</td>\n",
       "      <td>2</td>\n",
       "      <td>2</td>\n",
       "      <td>35792</td>\n",
       "      <td>1</td>\n",
       "      <td>9</td>\n",
       "      <td>9901173</td>\n",
       "      <td>81234</td>\n",
       "      <td>5695963</td>\n",
       "      <td>61979</td>\n",
       "      <td>33</td>\n",
       "      <td>0</td>\n",
       "      <td>0</td>\n",
       "      <td>1</td>\n",
       "      <td>0</td>\n",
       "      <td>1</td>\n",
       "      <td>1</td>\n",
       "      <td>1</td>\n",
       "      <td>1</td>\n",
       "      <td>0</td>\n",
       "      <td>0</td>\n",
       "      <td>0</td>\n",
       "      <td>0</td>\n",
       "      <td>1</td>\n",
       "      <td>0</td>\n",
       "      <td>0</td>\n",
       "      <td>0</td>\n",
       "      <td>1</td>\n",
       "      <td>0</td>\n",
       "      <td>0</td>\n",
       "      <td>0</td>\n",
       "      <td>0</td>\n",
       "      <td>0</td>\n",
       "      <td>0</td>\n",
       "      <td>0</td>\n",
       "      <td>0</td>\n",
       "      <td>0</td>\n",
       "      <td>0</td>\n",
       "      <td>9.99</td>\n",
       "      <td>9.99</td>\n",
       "      <td>1</td>\n",
       "      <td>1</td>\n",
       "      <td>1</td>\n",
       "      <td>18</td>\n",
       "      <td>1</td>\n",
       "    </tr>\n",
       "  </tbody>\n",
       "</table>\n",
       "</div>"
      ],
      "text/plain": [
       "                              Name ReleaseDate  RequiredAge  DemoCount  \\\n",
       "0                   Counter-Strike  2000-11-01            0          0   \n",
       "1            Team Fortress Classic  1999-04-01            0          0   \n",
       "2                    Day of Defeat  2003-05-01            0          0   \n",
       "3               Deathmatch Classic  2001-06-01            0          0   \n",
       "4        Half-Life: Opposing Force  1999-11-01            0          0   \n",
       "5                         Ricochet  2000-11-01            0          0   \n",
       "6                        Half-Life  1998-11-08            0          0   \n",
       "7   Counter-Strike: Condition Zero  2004-03-01            0          0   \n",
       "9            Half-Life: Blue Shift  2001-06-01            0          0   \n",
       "10                     Half-Life 2  2004-11-16            0          1   \n",
       "\n",
       "    DeveloperCount  DLCCount  Metacritic  StoreVideoCount  BundleCount  \\\n",
       "0                1         0          88                0            1   \n",
       "1                1         0           0                0            1   \n",
       "2                1         0          79                0            1   \n",
       "3                1         0           0                0            1   \n",
       "4                1         0           0                0            1   \n",
       "5                1         0           0                0            1   \n",
       "6                1         1          96                0            1   \n",
       "7                1         0          65                0            1   \n",
       "9                1         0          71                0            1   \n",
       "10               1         1          96                2            2   \n",
       "\n",
       "    RecommendationCount  PublisherCount  StoreScreenshotCount  SteamSpyOwners  \\\n",
       "0                 68991               1                    13        13033334   \n",
       "1                  2439               1                     5         5399140   \n",
       "2                  2319               1                     5         7621102   \n",
       "3                   888               1                     4         7498965   \n",
       "4                  2934               1                     5         5399499   \n",
       "5                  1965               1                     4         7488563   \n",
       "6                 12486               1                    11         5927504   \n",
       "7                  7067               1                     8        10489261   \n",
       "9                  2219               1                     5         5368650   \n",
       "10                35792               1                     9         9901173   \n",
       "\n",
       "    SteamSpyOwnersVariance  SteamSpyPlayersEstimate  SteamSpyPlayersVariance  \\\n",
       "0                    92789                  9140731                    78136   \n",
       "1                    60368                   753627                    22699   \n",
       "2                    71499                  1709740                    34145   \n",
       "3                    70936                   789676                    23235   \n",
       "4                    60370                   705741                    21968   \n",
       "5                    70888                   843481                    24011   \n",
       "6                    63206                  2268772                    39303   \n",
       "7                    83543                  4127910                    52878   \n",
       "9                    60199                   662517                    21286   \n",
       "10                   81234                  5695963                    61979   \n",
       "\n",
       "    AchievementCount  ControllerSupport  IsFree  IsPaid  SubscriptionOption  \\\n",
       "0                  0                  0       0       1                   0   \n",
       "1                  0                  0       0       1                   0   \n",
       "2                  0                  0       0       1                   0   \n",
       "3                  0                  0       0       1                   0   \n",
       "4                  0                  0       0       1                   0   \n",
       "5                  0                  0       0       1                   0   \n",
       "6                  0                  0       0       1                   0   \n",
       "7                  0                  0       0       1                   0   \n",
       "9                  0                  0       0       1                   0   \n",
       "10                33                  0       0       1                   0   \n",
       "\n",
       "    PlatformWindows  PlatformLinux  PlatformMac  CategorySinglePlayer  \\\n",
       "0                 1              1            1                     0   \n",
       "1                 1              1            1                     0   \n",
       "2                 1              1            1                     0   \n",
       "3                 1              1            1                     0   \n",
       "4                 1              1            1                     1   \n",
       "5                 1              1            1                     0   \n",
       "6                 1              1            1                     1   \n",
       "7                 1              1            1                     1   \n",
       "9                 1              1            1                     1   \n",
       "10                1              1            1                     1   \n",
       "\n",
       "    CategoryMultiplayer  CategoryCoop  CategoryMMO  CategoryInAppPurchase  \\\n",
       "0                     1             0            0                      0   \n",
       "1                     1             0            0                      0   \n",
       "2                     1             0            0                      0   \n",
       "3                     1             0            0                      0   \n",
       "4                     1             0            0                      0   \n",
       "5                     1             0            0                      0   \n",
       "6                     1             0            0                      0   \n",
       "7                     1             0            0                      0   \n",
       "9                     0             0            0                      0   \n",
       "10                    0             0            0                      0   \n",
       "\n",
       "    CategoryIncludeSrcSDK  CategoryIncludeLevelEditor  CategoryVRSupport  \\\n",
       "0                       0                           0                  0   \n",
       "1                       0                           0                  0   \n",
       "2                       0                           0                  0   \n",
       "3                       0                           0                  0   \n",
       "4                       0                           0                  0   \n",
       "5                       0                           0                  0   \n",
       "6                       0                           0                  0   \n",
       "7                       0                           0                  0   \n",
       "9                       0                           0                  0   \n",
       "10                      1                           0                  0   \n",
       "\n",
       "    GenreIsIndie  GenreIsAction  GenreIsAdventure  GenreIsCasual  \\\n",
       "0              0              1                 0              0   \n",
       "1              0              1                 0              0   \n",
       "2              0              1                 0              0   \n",
       "3              0              1                 0              0   \n",
       "4              0              1                 0              0   \n",
       "5              0              1                 0              0   \n",
       "6              0              1                 0              0   \n",
       "7              0              1                 0              0   \n",
       "9              0              1                 0              0   \n",
       "10             0              1                 0              0   \n",
       "\n",
       "    GenreIsStrategy  GenreIsRPG  GenreIsSimulation  GenreIsEarlyAccess  \\\n",
       "0                 0           0                  0                   0   \n",
       "1                 0           0                  0                   0   \n",
       "2                 0           0                  0                   0   \n",
       "3                 0           0                  0                   0   \n",
       "4                 0           0                  0                   0   \n",
       "5                 0           0                  0                   0   \n",
       "6                 0           0                  0                   0   \n",
       "7                 0           0                  0                   0   \n",
       "9                 0           0                  0                   0   \n",
       "10                0           0                  0                   0   \n",
       "\n",
       "    GenreIsFreeToPlay  GenreIsSports  GenreIsRacing  \\\n",
       "0                   0              0              0   \n",
       "1                   0              0              0   \n",
       "2                   0              0              0   \n",
       "3                   0              0              0   \n",
       "4                   0              0              0   \n",
       "5                   0              0              0   \n",
       "6                   0              0              0   \n",
       "7                   0              0              0   \n",
       "9                   0              0              0   \n",
       "10                  0              0              0   \n",
       "\n",
       "    GenreIsMassivelyMultiplayer  PriceInitial  PriceFinal  AboutText  \\\n",
       "0                             0          9.99        9.99          1   \n",
       "1                             0          4.99        4.99          1   \n",
       "2                             0          4.99        4.99          1   \n",
       "3                             0          4.99        4.99          1   \n",
       "4                             0          4.99        4.99          1   \n",
       "5                             0          4.99        4.99          1   \n",
       "6                             0          9.99        9.99          1   \n",
       "7                             0          9.99        9.99          1   \n",
       "9                             0          4.99        4.99          1   \n",
       "10                            0          9.99        9.99          1   \n",
       "\n",
       "    Background  ShortDescrip  LanguageCount  SupportsEnglish  \n",
       "0            1             0              8                1  \n",
       "1            1             0              5                1  \n",
       "2            1             0              5                1  \n",
       "3            1             0              5                1  \n",
       "4            1             0              4                1  \n",
       "5            1             0              5                1  \n",
       "6            1             0              8                1  \n",
       "7            1             0              8                1  \n",
       "9            1             0              3                1  \n",
       "10           1             1             18                1  "
      ]
     },
     "execution_count": 109,
     "metadata": {},
     "output_type": "execute_result"
    }
   ],
   "source": [
    "from sklearn.preprocessing import LabelEncoder\n",
    "le = LabelEncoder()\n",
    "bool_columns = ['ControllerSupport', 'IsFree', 'IsPaid', 'SubscriptionOption', 'PlatformWindows', 'PlatformLinux',\\\n",
    "                'PlatformMac', 'CategorySinglePlayer', 'CategoryMultiplayer', 'CategoryCoop', 'CategoryMMO',\\\n",
    "                'CategoryInAppPurchase', 'CategoryIncludeSrcSDK', 'CategoryIncludeLevelEditor', 'CategoryVRSupport',\\\n",
    "                'GenreIsIndie', 'GenreIsAction', 'GenreIsAdventure', 'GenreIsCasual', 'GenreIsStrategy',\\\n",
    "                'GenreIsRPG', 'GenreIsSimulation', 'GenreIsEarlyAccess', 'GenreIsFreeToPlay', 'GenreIsSports',\\\n",
    "                'GenreIsRacing', 'GenreIsMassivelyMultiplayer', 'AboutText', 'Background', 'ShortDescrip',\\\n",
    "                'SupportsEnglish']\n",
    "\n",
    "for col in bool_columns:\n",
    "    df[col] = le.fit_transform(df[col])\n",
    "    \n",
    "df.head(10)"
   ]
  },
  {
   "cell_type": "code",
   "execution_count": 110,
   "metadata": {},
   "outputs": [],
   "source": [
    "t_0 = dt.datetime(1990,1,1)\n",
    "df['ReleaseDate'] = df.ReleaseDate.map(lambda x: (x-t_0).days)"
   ]
  },
  {
   "cell_type": "code",
   "execution_count": 111,
   "metadata": {},
   "outputs": [
    {
     "data": {
      "text/html": [
       "<div>\n",
       "<style scoped>\n",
       "    .dataframe tbody tr th:only-of-type {\n",
       "        vertical-align: middle;\n",
       "    }\n",
       "\n",
       "    .dataframe tbody tr th {\n",
       "        vertical-align: top;\n",
       "    }\n",
       "\n",
       "    .dataframe thead th {\n",
       "        text-align: right;\n",
       "    }\n",
       "</style>\n",
       "<table border=\"1\" class=\"dataframe\">\n",
       "  <thead>\n",
       "    <tr style=\"text-align: right;\">\n",
       "      <th></th>\n",
       "      <th>Name</th>\n",
       "      <th>ReleaseDate</th>\n",
       "      <th>RequiredAge</th>\n",
       "      <th>DemoCount</th>\n",
       "      <th>DeveloperCount</th>\n",
       "      <th>DLCCount</th>\n",
       "      <th>Metacritic</th>\n",
       "      <th>StoreVideoCount</th>\n",
       "      <th>BundleCount</th>\n",
       "      <th>RecommendationCount</th>\n",
       "      <th>PublisherCount</th>\n",
       "      <th>StoreScreenshotCount</th>\n",
       "      <th>SteamSpyOwners</th>\n",
       "      <th>SteamSpyOwnersVariance</th>\n",
       "      <th>SteamSpyPlayersEstimate</th>\n",
       "      <th>SteamSpyPlayersVariance</th>\n",
       "      <th>AchievementCount</th>\n",
       "      <th>ControllerSupport</th>\n",
       "      <th>IsFree</th>\n",
       "      <th>IsPaid</th>\n",
       "      <th>SubscriptionOption</th>\n",
       "      <th>PlatformWindows</th>\n",
       "      <th>PlatformLinux</th>\n",
       "      <th>PlatformMac</th>\n",
       "      <th>CategorySinglePlayer</th>\n",
       "      <th>CategoryMultiplayer</th>\n",
       "      <th>CategoryCoop</th>\n",
       "      <th>CategoryMMO</th>\n",
       "      <th>CategoryInAppPurchase</th>\n",
       "      <th>CategoryIncludeSrcSDK</th>\n",
       "      <th>CategoryIncludeLevelEditor</th>\n",
       "      <th>CategoryVRSupport</th>\n",
       "      <th>GenreIsIndie</th>\n",
       "      <th>GenreIsAction</th>\n",
       "      <th>GenreIsAdventure</th>\n",
       "      <th>GenreIsCasual</th>\n",
       "      <th>GenreIsStrategy</th>\n",
       "      <th>GenreIsRPG</th>\n",
       "      <th>GenreIsSimulation</th>\n",
       "      <th>GenreIsEarlyAccess</th>\n",
       "      <th>GenreIsFreeToPlay</th>\n",
       "      <th>GenreIsSports</th>\n",
       "      <th>GenreIsRacing</th>\n",
       "      <th>GenreIsMassivelyMultiplayer</th>\n",
       "      <th>PriceInitial</th>\n",
       "      <th>PriceFinal</th>\n",
       "      <th>AboutText</th>\n",
       "      <th>Background</th>\n",
       "      <th>ShortDescrip</th>\n",
       "      <th>LanguageCount</th>\n",
       "      <th>SupportsEnglish</th>\n",
       "    </tr>\n",
       "  </thead>\n",
       "  <tbody>\n",
       "    <tr>\n",
       "      <th>0</th>\n",
       "      <td>Counter-Strike</td>\n",
       "      <td>0.15</td>\n",
       "      <td>0.00</td>\n",
       "      <td>0.00</td>\n",
       "      <td>0.08</td>\n",
       "      <td>0.00</td>\n",
       "      <td>0.92</td>\n",
       "      <td>0.00</td>\n",
       "      <td>0.06</td>\n",
       "      <td>0.05</td>\n",
       "      <td>0.25</td>\n",
       "      <td>0.11</td>\n",
       "      <td>0.14</td>\n",
       "      <td>0.43</td>\n",
       "      <td>0.10</td>\n",
       "      <td>0.36</td>\n",
       "      <td>0.00</td>\n",
       "      <td>0</td>\n",
       "      <td>0</td>\n",
       "      <td>1</td>\n",
       "      <td>0</td>\n",
       "      <td>1</td>\n",
       "      <td>1</td>\n",
       "      <td>1</td>\n",
       "      <td>0</td>\n",
       "      <td>1</td>\n",
       "      <td>0</td>\n",
       "      <td>0</td>\n",
       "      <td>0</td>\n",
       "      <td>0</td>\n",
       "      <td>0</td>\n",
       "      <td>0</td>\n",
       "      <td>0</td>\n",
       "      <td>1</td>\n",
       "      <td>0</td>\n",
       "      <td>0</td>\n",
       "      <td>0</td>\n",
       "      <td>0</td>\n",
       "      <td>0</td>\n",
       "      <td>0</td>\n",
       "      <td>0</td>\n",
       "      <td>0</td>\n",
       "      <td>0</td>\n",
       "      <td>0</td>\n",
       "      <td>0.04</td>\n",
       "      <td>0.04</td>\n",
       "      <td>1</td>\n",
       "      <td>1</td>\n",
       "      <td>0</td>\n",
       "      <td>0.30</td>\n",
       "      <td>1</td>\n",
       "    </tr>\n",
       "    <tr>\n",
       "      <th>1</th>\n",
       "      <td>Team Fortress Classic</td>\n",
       "      <td>0.08</td>\n",
       "      <td>0.00</td>\n",
       "      <td>0.00</td>\n",
       "      <td>0.08</td>\n",
       "      <td>0.00</td>\n",
       "      <td>0.00</td>\n",
       "      <td>0.00</td>\n",
       "      <td>0.06</td>\n",
       "      <td>0.00</td>\n",
       "      <td>0.25</td>\n",
       "      <td>0.04</td>\n",
       "      <td>0.06</td>\n",
       "      <td>0.28</td>\n",
       "      <td>0.01</td>\n",
       "      <td>0.11</td>\n",
       "      <td>0.00</td>\n",
       "      <td>0</td>\n",
       "      <td>0</td>\n",
       "      <td>1</td>\n",
       "      <td>0</td>\n",
       "      <td>1</td>\n",
       "      <td>1</td>\n",
       "      <td>1</td>\n",
       "      <td>0</td>\n",
       "      <td>1</td>\n",
       "      <td>0</td>\n",
       "      <td>0</td>\n",
       "      <td>0</td>\n",
       "      <td>0</td>\n",
       "      <td>0</td>\n",
       "      <td>0</td>\n",
       "      <td>0</td>\n",
       "      <td>1</td>\n",
       "      <td>0</td>\n",
       "      <td>0</td>\n",
       "      <td>0</td>\n",
       "      <td>0</td>\n",
       "      <td>0</td>\n",
       "      <td>0</td>\n",
       "      <td>0</td>\n",
       "      <td>0</td>\n",
       "      <td>0</td>\n",
       "      <td>0</td>\n",
       "      <td>0.02</td>\n",
       "      <td>0.02</td>\n",
       "      <td>1</td>\n",
       "      <td>1</td>\n",
       "      <td>0</td>\n",
       "      <td>0.19</td>\n",
       "      <td>1</td>\n",
       "    </tr>\n",
       "    <tr>\n",
       "      <th>2</th>\n",
       "      <td>Day of Defeat</td>\n",
       "      <td>0.26</td>\n",
       "      <td>0.00</td>\n",
       "      <td>0.00</td>\n",
       "      <td>0.08</td>\n",
       "      <td>0.00</td>\n",
       "      <td>0.82</td>\n",
       "      <td>0.00</td>\n",
       "      <td>0.06</td>\n",
       "      <td>0.00</td>\n",
       "      <td>0.25</td>\n",
       "      <td>0.04</td>\n",
       "      <td>0.08</td>\n",
       "      <td>0.33</td>\n",
       "      <td>0.02</td>\n",
       "      <td>0.16</td>\n",
       "      <td>0.00</td>\n",
       "      <td>0</td>\n",
       "      <td>0</td>\n",
       "      <td>1</td>\n",
       "      <td>0</td>\n",
       "      <td>1</td>\n",
       "      <td>1</td>\n",
       "      <td>1</td>\n",
       "      <td>0</td>\n",
       "      <td>1</td>\n",
       "      <td>0</td>\n",
       "      <td>0</td>\n",
       "      <td>0</td>\n",
       "      <td>0</td>\n",
       "      <td>0</td>\n",
       "      <td>0</td>\n",
       "      <td>0</td>\n",
       "      <td>1</td>\n",
       "      <td>0</td>\n",
       "      <td>0</td>\n",
       "      <td>0</td>\n",
       "      <td>0</td>\n",
       "      <td>0</td>\n",
       "      <td>0</td>\n",
       "      <td>0</td>\n",
       "      <td>0</td>\n",
       "      <td>0</td>\n",
       "      <td>0</td>\n",
       "      <td>0.02</td>\n",
       "      <td>0.02</td>\n",
       "      <td>1</td>\n",
       "      <td>1</td>\n",
       "      <td>0</td>\n",
       "      <td>0.19</td>\n",
       "      <td>1</td>\n",
       "    </tr>\n",
       "    <tr>\n",
       "      <th>3</th>\n",
       "      <td>Deathmatch Classic</td>\n",
       "      <td>0.18</td>\n",
       "      <td>0.00</td>\n",
       "      <td>0.00</td>\n",
       "      <td>0.08</td>\n",
       "      <td>0.00</td>\n",
       "      <td>0.00</td>\n",
       "      <td>0.00</td>\n",
       "      <td>0.06</td>\n",
       "      <td>0.00</td>\n",
       "      <td>0.25</td>\n",
       "      <td>0.04</td>\n",
       "      <td>0.08</td>\n",
       "      <td>0.33</td>\n",
       "      <td>0.01</td>\n",
       "      <td>0.11</td>\n",
       "      <td>0.00</td>\n",
       "      <td>0</td>\n",
       "      <td>0</td>\n",
       "      <td>1</td>\n",
       "      <td>0</td>\n",
       "      <td>1</td>\n",
       "      <td>1</td>\n",
       "      <td>1</td>\n",
       "      <td>0</td>\n",
       "      <td>1</td>\n",
       "      <td>0</td>\n",
       "      <td>0</td>\n",
       "      <td>0</td>\n",
       "      <td>0</td>\n",
       "      <td>0</td>\n",
       "      <td>0</td>\n",
       "      <td>0</td>\n",
       "      <td>1</td>\n",
       "      <td>0</td>\n",
       "      <td>0</td>\n",
       "      <td>0</td>\n",
       "      <td>0</td>\n",
       "      <td>0</td>\n",
       "      <td>0</td>\n",
       "      <td>0</td>\n",
       "      <td>0</td>\n",
       "      <td>0</td>\n",
       "      <td>0</td>\n",
       "      <td>0.02</td>\n",
       "      <td>0.02</td>\n",
       "      <td>1</td>\n",
       "      <td>1</td>\n",
       "      <td>0</td>\n",
       "      <td>0.19</td>\n",
       "      <td>1</td>\n",
       "    </tr>\n",
       "    <tr>\n",
       "      <th>4</th>\n",
       "      <td>Half-Life: Opposing Force</td>\n",
       "      <td>0.11</td>\n",
       "      <td>0.00</td>\n",
       "      <td>0.00</td>\n",
       "      <td>0.08</td>\n",
       "      <td>0.00</td>\n",
       "      <td>0.00</td>\n",
       "      <td>0.00</td>\n",
       "      <td>0.06</td>\n",
       "      <td>0.00</td>\n",
       "      <td>0.25</td>\n",
       "      <td>0.04</td>\n",
       "      <td>0.06</td>\n",
       "      <td>0.28</td>\n",
       "      <td>0.01</td>\n",
       "      <td>0.10</td>\n",
       "      <td>0.00</td>\n",
       "      <td>0</td>\n",
       "      <td>0</td>\n",
       "      <td>1</td>\n",
       "      <td>0</td>\n",
       "      <td>1</td>\n",
       "      <td>1</td>\n",
       "      <td>1</td>\n",
       "      <td>1</td>\n",
       "      <td>1</td>\n",
       "      <td>0</td>\n",
       "      <td>0</td>\n",
       "      <td>0</td>\n",
       "      <td>0</td>\n",
       "      <td>0</td>\n",
       "      <td>0</td>\n",
       "      <td>0</td>\n",
       "      <td>1</td>\n",
       "      <td>0</td>\n",
       "      <td>0</td>\n",
       "      <td>0</td>\n",
       "      <td>0</td>\n",
       "      <td>0</td>\n",
       "      <td>0</td>\n",
       "      <td>0</td>\n",
       "      <td>0</td>\n",
       "      <td>0</td>\n",
       "      <td>0</td>\n",
       "      <td>0.02</td>\n",
       "      <td>0.02</td>\n",
       "      <td>1</td>\n",
       "      <td>1</td>\n",
       "      <td>0</td>\n",
       "      <td>0.15</td>\n",
       "      <td>1</td>\n",
       "    </tr>\n",
       "  </tbody>\n",
       "</table>\n",
       "</div>"
      ],
      "text/plain": [
       "                        Name  ReleaseDate  RequiredAge  DemoCount  \\\n",
       "0             Counter-Strike         0.15         0.00       0.00   \n",
       "1      Team Fortress Classic         0.08         0.00       0.00   \n",
       "2              Day of Defeat         0.26         0.00       0.00   \n",
       "3         Deathmatch Classic         0.18         0.00       0.00   \n",
       "4  Half-Life: Opposing Force         0.11         0.00       0.00   \n",
       "\n",
       "   DeveloperCount  DLCCount  Metacritic  StoreVideoCount  BundleCount  \\\n",
       "0            0.08      0.00        0.92             0.00         0.06   \n",
       "1            0.08      0.00        0.00             0.00         0.06   \n",
       "2            0.08      0.00        0.82             0.00         0.06   \n",
       "3            0.08      0.00        0.00             0.00         0.06   \n",
       "4            0.08      0.00        0.00             0.00         0.06   \n",
       "\n",
       "   RecommendationCount  PublisherCount  StoreScreenshotCount  SteamSpyOwners  \\\n",
       "0                 0.05            0.25                  0.11            0.14   \n",
       "1                 0.00            0.25                  0.04            0.06   \n",
       "2                 0.00            0.25                  0.04            0.08   \n",
       "3                 0.00            0.25                  0.04            0.08   \n",
       "4                 0.00            0.25                  0.04            0.06   \n",
       "\n",
       "   SteamSpyOwnersVariance  SteamSpyPlayersEstimate  SteamSpyPlayersVariance  \\\n",
       "0                    0.43                     0.10                     0.36   \n",
       "1                    0.28                     0.01                     0.11   \n",
       "2                    0.33                     0.02                     0.16   \n",
       "3                    0.33                     0.01                     0.11   \n",
       "4                    0.28                     0.01                     0.10   \n",
       "\n",
       "   AchievementCount  ControllerSupport  IsFree  IsPaid  SubscriptionOption  \\\n",
       "0              0.00                  0       0       1                   0   \n",
       "1              0.00                  0       0       1                   0   \n",
       "2              0.00                  0       0       1                   0   \n",
       "3              0.00                  0       0       1                   0   \n",
       "4              0.00                  0       0       1                   0   \n",
       "\n",
       "   PlatformWindows  PlatformLinux  PlatformMac  CategorySinglePlayer  \\\n",
       "0                1              1            1                     0   \n",
       "1                1              1            1                     0   \n",
       "2                1              1            1                     0   \n",
       "3                1              1            1                     0   \n",
       "4                1              1            1                     1   \n",
       "\n",
       "   CategoryMultiplayer  CategoryCoop  CategoryMMO  CategoryInAppPurchase  \\\n",
       "0                    1             0            0                      0   \n",
       "1                    1             0            0                      0   \n",
       "2                    1             0            0                      0   \n",
       "3                    1             0            0                      0   \n",
       "4                    1             0            0                      0   \n",
       "\n",
       "   CategoryIncludeSrcSDK  CategoryIncludeLevelEditor  CategoryVRSupport  \\\n",
       "0                      0                           0                  0   \n",
       "1                      0                           0                  0   \n",
       "2                      0                           0                  0   \n",
       "3                      0                           0                  0   \n",
       "4                      0                           0                  0   \n",
       "\n",
       "   GenreIsIndie  GenreIsAction  GenreIsAdventure  GenreIsCasual  \\\n",
       "0             0              1                 0              0   \n",
       "1             0              1                 0              0   \n",
       "2             0              1                 0              0   \n",
       "3             0              1                 0              0   \n",
       "4             0              1                 0              0   \n",
       "\n",
       "   GenreIsStrategy  GenreIsRPG  GenreIsSimulation  GenreIsEarlyAccess  \\\n",
       "0                0           0                  0                   0   \n",
       "1                0           0                  0                   0   \n",
       "2                0           0                  0                   0   \n",
       "3                0           0                  0                   0   \n",
       "4                0           0                  0                   0   \n",
       "\n",
       "   GenreIsFreeToPlay  GenreIsSports  GenreIsRacing  \\\n",
       "0                  0              0              0   \n",
       "1                  0              0              0   \n",
       "2                  0              0              0   \n",
       "3                  0              0              0   \n",
       "4                  0              0              0   \n",
       "\n",
       "   GenreIsMassivelyMultiplayer  PriceInitial  PriceFinal  AboutText  \\\n",
       "0                            0          0.04        0.04          1   \n",
       "1                            0          0.02        0.02          1   \n",
       "2                            0          0.02        0.02          1   \n",
       "3                            0          0.02        0.02          1   \n",
       "4                            0          0.02        0.02          1   \n",
       "\n",
       "   Background  ShortDescrip  LanguageCount  SupportsEnglish  \n",
       "0           1             0           0.30                1  \n",
       "1           1             0           0.19                1  \n",
       "2           1             0           0.19                1  \n",
       "3           1             0           0.19                1  \n",
       "4           1             0           0.15                1  "
      ]
     },
     "execution_count": 111,
     "metadata": {},
     "output_type": "execute_result"
    }
   ],
   "source": [
    "from sklearn.preprocessing import MinMaxScaler\n",
    "minmax = MinMaxScaler()\n",
    "num_colums = ['ReleaseDate', 'RequiredAge', 'DemoCount', 'DeveloperCount', 'DLCCount', 'Metacritic',\\\n",
    "              'StoreVideoCount', 'BundleCount', 'RecommendationCount', 'PublisherCount', 'StoreScreenshotCount',\\\n",
    "              'SteamSpyOwners', 'SteamSpyOwnersVariance', 'SteamSpyPlayersEstimate', 'SteamSpyPlayersVariance',\\\n",
    "              'AchievementCount', 'PriceInitial', 'PriceFinal', 'LanguageCount']\n",
    "\n",
    "df[num_colums] = minmax.fit_transform(df[num_colums].astype('float64'))\n",
    "df.head()"
   ]
  },
  {
   "cell_type": "code",
   "execution_count": 112,
   "metadata": {},
   "outputs": [],
   "source": [
    "X = df[df.Metacritic > 0].copy()\n",
    "Y = df[df.Metacritic > 0].Metacritic\n",
    "X.drop(['Name','Metacritic'], axis=1, inplace=True)"
   ]
  },
  {
   "cell_type": "code",
   "execution_count": 113,
   "metadata": {},
   "outputs": [],
   "source": [
    "import sklearn\n",
    "from sklearn.linear_model import LinearRegression\n",
    "lreg = LinearRegression()"
   ]
  },
  {
   "cell_type": "code",
   "execution_count": 114,
   "metadata": {},
   "outputs": [
    {
     "data": {
      "text/plain": [
       "LinearRegression(copy_X=True, fit_intercept=True, n_jobs=1, normalize=False)"
      ]
     },
     "execution_count": 114,
     "metadata": {},
     "output_type": "execute_result"
    }
   ],
   "source": [
    "lreg.fit(X,Y)"
   ]
  },
  {
   "cell_type": "code",
   "execution_count": 115,
   "metadata": {},
   "outputs": [
    {
     "name": "stdout",
     "output_type": "stream",
     "text": [
      " The estimated intercept coefficient is 0.73 \n",
      " The number of coefficients used was 49 \n"
     ]
    }
   ],
   "source": [
    "print(' The estimated intercept coefficient is %.2f ' %lreg.intercept_)\n",
    "print(' The number of coefficients used was %d ' % len(lreg.coef_))"
   ]
  },
  {
   "cell_type": "code",
   "execution_count": 116,
   "metadata": {},
   "outputs": [
    {
     "data": {
      "text/html": [
       "<div>\n",
       "<style scoped>\n",
       "    .dataframe tbody tr th:only-of-type {\n",
       "        vertical-align: middle;\n",
       "    }\n",
       "\n",
       "    .dataframe tbody tr th {\n",
       "        vertical-align: top;\n",
       "    }\n",
       "\n",
       "    .dataframe thead th {\n",
       "        text-align: right;\n",
       "    }\n",
       "</style>\n",
       "<table border=\"1\" class=\"dataframe\">\n",
       "  <thead>\n",
       "    <tr style=\"text-align: right;\">\n",
       "      <th></th>\n",
       "      <th>Features</th>\n",
       "      <th>Coefficient Estimate</th>\n",
       "    </tr>\n",
       "  </thead>\n",
       "  <tbody>\n",
       "    <tr>\n",
       "      <th>10</th>\n",
       "      <td>SteamSpyOwners</td>\n",
       "      <td>-3.56</td>\n",
       "    </tr>\n",
       "    <tr>\n",
       "      <th>7</th>\n",
       "      <td>RecommendationCount</td>\n",
       "      <td>-0.31</td>\n",
       "    </tr>\n",
       "    <tr>\n",
       "      <th>4</th>\n",
       "      <td>DLCCount</td>\n",
       "      <td>-0.18</td>\n",
       "    </tr>\n",
       "    <tr>\n",
       "      <th>14</th>\n",
       "      <td>AchievementCount</td>\n",
       "      <td>-0.15</td>\n",
       "    </tr>\n",
       "    <tr>\n",
       "      <th>0</th>\n",
       "      <td>ReleaseDate</td>\n",
       "      <td>-0.11</td>\n",
       "    </tr>\n",
       "    <tr>\n",
       "      <th>5</th>\n",
       "      <td>StoreVideoCount</td>\n",
       "      <td>-0.06</td>\n",
       "    </tr>\n",
       "    <tr>\n",
       "      <th>9</th>\n",
       "      <td>StoreScreenshotCount</td>\n",
       "      <td>-0.05</td>\n",
       "    </tr>\n",
       "    <tr>\n",
       "      <th>47</th>\n",
       "      <td>LanguageCount</td>\n",
       "      <td>-0.04</td>\n",
       "    </tr>\n",
       "    <tr>\n",
       "      <th>38</th>\n",
       "      <td>GenreIsFreeToPlay</td>\n",
       "      <td>-0.03</td>\n",
       "    </tr>\n",
       "    <tr>\n",
       "      <th>36</th>\n",
       "      <td>GenreIsSimulation</td>\n",
       "      <td>-0.03</td>\n",
       "    </tr>\n",
       "    <tr>\n",
       "      <th>31</th>\n",
       "      <td>GenreIsAction</td>\n",
       "      <td>-0.02</td>\n",
       "    </tr>\n",
       "    <tr>\n",
       "      <th>24</th>\n",
       "      <td>CategoryCoop</td>\n",
       "      <td>-0.02</td>\n",
       "    </tr>\n",
       "    <tr>\n",
       "      <th>2</th>\n",
       "      <td>DemoCount</td>\n",
       "      <td>-0.02</td>\n",
       "    </tr>\n",
       "    <tr>\n",
       "      <th>29</th>\n",
       "      <td>CategoryVRSupport</td>\n",
       "      <td>-0.02</td>\n",
       "    </tr>\n",
       "    <tr>\n",
       "      <th>1</th>\n",
       "      <td>RequiredAge</td>\n",
       "      <td>-0.01</td>\n",
       "    </tr>\n",
       "    <tr>\n",
       "      <th>16</th>\n",
       "      <td>IsFree</td>\n",
       "      <td>-0.01</td>\n",
       "    </tr>\n",
       "    <tr>\n",
       "      <th>34</th>\n",
       "      <td>GenreIsStrategy</td>\n",
       "      <td>-0.01</td>\n",
       "    </tr>\n",
       "    <tr>\n",
       "      <th>32</th>\n",
       "      <td>GenreIsAdventure</td>\n",
       "      <td>-0.00</td>\n",
       "    </tr>\n",
       "    <tr>\n",
       "      <th>30</th>\n",
       "      <td>GenreIsIndie</td>\n",
       "      <td>-0.00</td>\n",
       "    </tr>\n",
       "    <tr>\n",
       "      <th>8</th>\n",
       "      <td>PublisherCount</td>\n",
       "      <td>-0.00</td>\n",
       "    </tr>\n",
       "    <tr>\n",
       "      <th>17</th>\n",
       "      <td>IsPaid</td>\n",
       "      <td>-0.00</td>\n",
       "    </tr>\n",
       "    <tr>\n",
       "      <th>19</th>\n",
       "      <td>PlatformWindows</td>\n",
       "      <td>-0.00</td>\n",
       "    </tr>\n",
       "    <tr>\n",
       "      <th>45</th>\n",
       "      <td>Background</td>\n",
       "      <td>0.00</td>\n",
       "    </tr>\n",
       "    <tr>\n",
       "      <th>44</th>\n",
       "      <td>AboutText</td>\n",
       "      <td>0.00</td>\n",
       "    </tr>\n",
       "    <tr>\n",
       "      <th>48</th>\n",
       "      <td>SupportsEnglish</td>\n",
       "      <td>0.00</td>\n",
       "    </tr>\n",
       "    <tr>\n",
       "      <th>40</th>\n",
       "      <td>GenreIsRacing</td>\n",
       "      <td>0.00</td>\n",
       "    </tr>\n",
       "    <tr>\n",
       "      <th>46</th>\n",
       "      <td>ShortDescrip</td>\n",
       "      <td>0.00</td>\n",
       "    </tr>\n",
       "    <tr>\n",
       "      <th>23</th>\n",
       "      <td>CategoryMultiplayer</td>\n",
       "      <td>0.00</td>\n",
       "    </tr>\n",
       "    <tr>\n",
       "      <th>15</th>\n",
       "      <td>ControllerSupport</td>\n",
       "      <td>0.01</td>\n",
       "    </tr>\n",
       "    <tr>\n",
       "      <th>20</th>\n",
       "      <td>PlatformLinux</td>\n",
       "      <td>0.01</td>\n",
       "    </tr>\n",
       "    <tr>\n",
       "      <th>35</th>\n",
       "      <td>GenreIsRPG</td>\n",
       "      <td>0.01</td>\n",
       "    </tr>\n",
       "    <tr>\n",
       "      <th>25</th>\n",
       "      <td>CategoryMMO</td>\n",
       "      <td>0.01</td>\n",
       "    </tr>\n",
       "    <tr>\n",
       "      <th>33</th>\n",
       "      <td>GenreIsCasual</td>\n",
       "      <td>0.01</td>\n",
       "    </tr>\n",
       "    <tr>\n",
       "      <th>28</th>\n",
       "      <td>CategoryIncludeLevelEditor</td>\n",
       "      <td>0.01</td>\n",
       "    </tr>\n",
       "    <tr>\n",
       "      <th>21</th>\n",
       "      <td>PlatformMac</td>\n",
       "      <td>0.02</td>\n",
       "    </tr>\n",
       "    <tr>\n",
       "      <th>42</th>\n",
       "      <td>PriceInitial</td>\n",
       "      <td>0.02</td>\n",
       "    </tr>\n",
       "    <tr>\n",
       "      <th>39</th>\n",
       "      <td>GenreIsSports</td>\n",
       "      <td>0.03</td>\n",
       "    </tr>\n",
       "    <tr>\n",
       "      <th>27</th>\n",
       "      <td>CategoryIncludeSrcSDK</td>\n",
       "      <td>0.03</td>\n",
       "    </tr>\n",
       "    <tr>\n",
       "      <th>22</th>\n",
       "      <td>CategorySinglePlayer</td>\n",
       "      <td>0.03</td>\n",
       "    </tr>\n",
       "    <tr>\n",
       "      <th>18</th>\n",
       "      <td>SubscriptionOption</td>\n",
       "      <td>0.05</td>\n",
       "    </tr>\n",
       "    <tr>\n",
       "      <th>41</th>\n",
       "      <td>GenreIsMassivelyMultiplayer</td>\n",
       "      <td>0.06</td>\n",
       "    </tr>\n",
       "    <tr>\n",
       "      <th>6</th>\n",
       "      <td>BundleCount</td>\n",
       "      <td>0.06</td>\n",
       "    </tr>\n",
       "    <tr>\n",
       "      <th>26</th>\n",
       "      <td>CategoryInAppPurchase</td>\n",
       "      <td>0.07</td>\n",
       "    </tr>\n",
       "    <tr>\n",
       "      <th>3</th>\n",
       "      <td>DeveloperCount</td>\n",
       "      <td>0.09</td>\n",
       "    </tr>\n",
       "    <tr>\n",
       "      <th>37</th>\n",
       "      <td>GenreIsEarlyAccess</td>\n",
       "      <td>0.10</td>\n",
       "    </tr>\n",
       "    <tr>\n",
       "      <th>43</th>\n",
       "      <td>PriceFinal</td>\n",
       "      <td>0.32</td>\n",
       "    </tr>\n",
       "    <tr>\n",
       "      <th>13</th>\n",
       "      <td>SteamSpyPlayersVariance</td>\n",
       "      <td>0.51</td>\n",
       "    </tr>\n",
       "    <tr>\n",
       "      <th>11</th>\n",
       "      <td>SteamSpyOwnersVariance</td>\n",
       "      <td>0.70</td>\n",
       "    </tr>\n",
       "    <tr>\n",
       "      <th>12</th>\n",
       "      <td>SteamSpyPlayersEstimate</td>\n",
       "      <td>2.72</td>\n",
       "    </tr>\n",
       "  </tbody>\n",
       "</table>\n",
       "</div>"
      ],
      "text/plain": [
       "                       Features  Coefficient Estimate\n",
       "10               SteamSpyOwners                 -3.56\n",
       "7           RecommendationCount                 -0.31\n",
       "4                      DLCCount                 -0.18\n",
       "14             AchievementCount                 -0.15\n",
       "0                   ReleaseDate                 -0.11\n",
       "5               StoreVideoCount                 -0.06\n",
       "9          StoreScreenshotCount                 -0.05\n",
       "47                LanguageCount                 -0.04\n",
       "38            GenreIsFreeToPlay                 -0.03\n",
       "36            GenreIsSimulation                 -0.03\n",
       "31                GenreIsAction                 -0.02\n",
       "24                 CategoryCoop                 -0.02\n",
       "2                     DemoCount                 -0.02\n",
       "29            CategoryVRSupport                 -0.02\n",
       "1                   RequiredAge                 -0.01\n",
       "16                       IsFree                 -0.01\n",
       "34              GenreIsStrategy                 -0.01\n",
       "32             GenreIsAdventure                 -0.00\n",
       "30                 GenreIsIndie                 -0.00\n",
       "8                PublisherCount                 -0.00\n",
       "17                       IsPaid                 -0.00\n",
       "19              PlatformWindows                 -0.00\n",
       "45                   Background                  0.00\n",
       "44                    AboutText                  0.00\n",
       "48              SupportsEnglish                  0.00\n",
       "40                GenreIsRacing                  0.00\n",
       "46                 ShortDescrip                  0.00\n",
       "23          CategoryMultiplayer                  0.00\n",
       "15            ControllerSupport                  0.01\n",
       "20                PlatformLinux                  0.01\n",
       "35                   GenreIsRPG                  0.01\n",
       "25                  CategoryMMO                  0.01\n",
       "33                GenreIsCasual                  0.01\n",
       "28   CategoryIncludeLevelEditor                  0.01\n",
       "21                  PlatformMac                  0.02\n",
       "42                 PriceInitial                  0.02\n",
       "39                GenreIsSports                  0.03\n",
       "27        CategoryIncludeSrcSDK                  0.03\n",
       "22         CategorySinglePlayer                  0.03\n",
       "18           SubscriptionOption                  0.05\n",
       "41  GenreIsMassivelyMultiplayer                  0.06\n",
       "6                   BundleCount                  0.06\n",
       "26        CategoryInAppPurchase                  0.07\n",
       "3                DeveloperCount                  0.09\n",
       "37           GenreIsEarlyAccess                  0.10\n",
       "43                   PriceFinal                  0.32\n",
       "13      SteamSpyPlayersVariance                  0.51\n",
       "11       SteamSpyOwnersVariance                  0.70\n",
       "12      SteamSpyPlayersEstimate                  2.72"
      ]
     },
     "execution_count": 116,
     "metadata": {},
     "output_type": "execute_result"
    }
   ],
   "source": [
    "coeff_df = pd.DataFrame(X.columns)\n",
    "coeff_df.columns = ['Features']\n",
    "coeff_df[\"Coefficient Estimate\"] = pd.Series(lreg.coef_)\n",
    "coeff_df.sort_values(by='Coefficient Estimate',inplace=True)\n",
    "coeff_df"
   ]
  },
  {
   "cell_type": "code",
   "execution_count": 117,
   "metadata": {},
   "outputs": [
    {
     "name": "stdout",
     "output_type": "stream",
     "text": [
      "(1300, 7) (868, 7) (1300,) (868,)\n"
     ]
    }
   ],
   "source": [
    "X_new = X[['SteamSpyPlayersEstimate','SteamSpyOwners','SteamSpyPlayersVariance','RecommendationCount',\\\n",
    "          'PriceFinal','SteamSpyOwnersVariance', 'DLCCount']]\n",
    "X_train, X_test, Y_train, Y_test = sklearn.model_selection.train_test_split(X_new, Y, test_size=0.4, random_state=0)\n",
    "print (X_train.shape, X_test.shape, Y_train.shape, Y_test.shape)"
   ]
  },
  {
   "cell_type": "code",
   "execution_count": 118,
   "metadata": {},
   "outputs": [
    {
     "data": {
      "text/plain": [
       "LinearRegression(copy_X=True, fit_intercept=True, n_jobs=1, normalize=False)"
      ]
     },
     "execution_count": 118,
     "metadata": {},
     "output_type": "execute_result"
    }
   ],
   "source": [
    "lreg = LinearRegression()\n",
    "lreg.fit(X_train,Y_train)"
   ]
  },
  {
   "cell_type": "code",
   "execution_count": 119,
   "metadata": {},
   "outputs": [
    {
     "name": "stdout",
     "output_type": "stream",
     "text": [
      "The RMSE is 0.12300652824441381\n",
      "The R^2 is -0.12524287399596057\n"
     ]
    }
   ],
   "source": [
    "pred_test = lreg.predict(X_test)\n",
    "print('The RMSE is {}'.format(np.sqrt(np.mean((Y_test - pred_test) ** 2))))\n",
    "print('The R^2 is {}'.format(lreg.score(X_test, Y_test)))"
   ]
  },
  {
   "cell_type": "markdown",
   "metadata": {},
   "source": [
    "## Analysis results"
   ]
  },
  {
   "cell_type": "markdown",
   "metadata": {},
   "source": [
    "### Summary\n",
    "\n",
    "The data has supported our hypotheses, however, we weren't able to train a model for rating prediction. Though, it should not be a surprise, because none of our attributes that we have in this data should directly affect the rating on metacritic.com. We were able to show this fact."
   ]
  },
  {
   "cell_type": "markdown",
   "metadata": {},
   "source": [
    "### Space for Improvements\n",
    "* There are a lot of TODOs\n",
    "* It would be better to try to predict the number of game owners\n",
    "* There might be more interesting correlations in separate Genre samples"
   ]
  },
  {
   "cell_type": "markdown",
   "metadata": {},
   "source": [
    "### Feedback\n",
    "This project was a great experience and an opportunity to apply learned techniques to some real-world data. An end-to-end data science project is a great way to end the course. However, I'd suggest creating a list of approved datasets for this project. It is a risk to let 'unseasoned' students find a dataset on their own. Some datasets might not be suitable for this project."
   ]
  }
 ],
 "metadata": {
  "kernelspec": {
   "display_name": "Python 3",
   "language": "python",
   "name": "python3"
  },
  "language_info": {
   "codemirror_mode": {
    "name": "ipython",
    "version": 3
   },
   "file_extension": ".py",
   "mimetype": "text/x-python",
   "name": "python",
   "nbconvert_exporter": "python",
   "pygments_lexer": "ipython3",
   "version": "3.6.5"
  }
 },
 "nbformat": 4,
 "nbformat_minor": 2
}
